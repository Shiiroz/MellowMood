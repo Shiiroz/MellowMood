{
 "cells": [
  {
   "cell_type": "markdown",
   "id": "780347a5",
   "metadata": {},
   "source": [
    "## 1️⃣ Import des librairies"
   ]
  },
  {
   "cell_type": "code",
   "execution_count": 1,
   "id": "9c0ea1ea",
   "metadata": {},
   "outputs": [],
   "source": [
    "import pandas as pd\n",
    "import numpy as np\n",
    "import matplotlib.pyplot as plt\n",
    "import seaborn as sns"
   ]
  },
  {
   "cell_type": "markdown",
   "id": "e6f9f289",
   "metadata": {},
   "source": [
    "## 2️⃣ Chargement du dataset"
   ]
  },
  {
   "cell_type": "code",
   "execution_count": 4,
   "id": "dc621094",
   "metadata": {},
   "outputs": [],
   "source": [
    "df_fin = pd.read_csv('../data/df_mm_financial_details.csv')"
   ]
  },
  {
   "cell_type": "code",
   "execution_count": null,
   "id": "d0d5aae5",
   "metadata": {},
   "outputs": [
    {
     "data": {
      "application/vnd.microsoft.datawrangler.viewer.v0+json": {
       "columns": [
        {
         "name": "index",
         "rawType": "int64",
         "type": "integer"
        },
        {
         "name": "Unit Price",
         "rawType": "float64",
         "type": "float"
        },
        {
         "name": "Unit Cost",
         "rawType": "float64",
         "type": "float"
        },
        {
         "name": "Sold Quantity",
         "rawType": "float64",
         "type": "float"
        },
        {
         "name": "Sales",
         "rawType": "float64",
         "type": "float"
        },
        {
         "name": "COGS",
         "rawType": "float64",
         "type": "float"
        },
        {
         "name": "Marketing",
         "rawType": "float64",
         "type": "float"
        },
        {
         "name": "Total Expenses",
         "rawType": "float64",
         "type": "float"
        },
        {
         "name": "Pre-Sales Inventory",
         "rawType": "float64",
         "type": "float"
        },
        {
         "name": "Profit",
         "rawType": "float64",
         "type": "float"
        },
        {
         "name": "Margin",
         "rawType": "float64",
         "type": "float"
        },
        {
         "name": "Expected Sales",
         "rawType": "float64",
         "type": "float"
        },
        {
         "name": "Expected COGS",
         "rawType": "float64",
         "type": "float"
        },
        {
         "name": "Expected Profit",
         "rawType": "float64",
         "type": "float"
        },
        {
         "name": "Expected Margin",
         "rawType": "float64",
         "type": "float"
        },
        {
         "name": "ReportId",
         "rawType": "object",
         "type": "string"
        }
       ],
       "ref": "71cfaddb-3285-472e-8cc9-d31e4655bffe",
       "rows": [
        [
         "0",
         "4.5",
         "2.69",
         "666.0",
         "2997.0",
         "1791.54",
         "226.44",
         "2017.98",
         "948.0",
         "979.02",
         null,
         "4545.65",
         "2346.51",
         "2199.14",
         "48.38",
         "JB578CJ"
        ],
        [
         "1",
         "4.5",
         "2.69",
         "1161.0",
         "5224.5",
         "3123.09",
         "394.74",
         "3517.83",
         "2012.0",
         "1706.67",
         "24.0",
         "7235.12",
         "3904.6",
         "3330.52",
         "46.03",
         "UZ650HV"
        ],
        [
         "2",
         "4.5",
         "2.69",
         "409.0",
         "1840.5",
         "1100.21",
         "139.06",
         "1239.27",
         "581.0",
         "601.23",
         "25.56",
         "2063.32",
         "1179.02",
         "884.3",
         "42.86",
         "VB278N7"
        ],
        [
         "3",
         "4.5",
         "2.69",
         "1071.0",
         "4819.5",
         "2880.99",
         "364.14",
         null,
         "1629.0",
         "1574.3700000000003",
         "25.06",
         "6674.26",
         "3430.39",
         null,
         "48.6",
         "TL8282Y"
        ],
        [
         "4",
         "4.5",
         "2.69",
         "735.0",
         "3307.5",
         "1977.15",
         "249.9",
         "2227.05",
         "1217.0",
         "1080.4500000000005",
         "24.39",
         "5016.6",
         "2589.61",
         "2426.99",
         "48.38",
         "FB512II"
        ]
       ],
       "shape": {
        "columns": 15,
        "rows": 5
       }
      },
      "text/html": [
       "<div>\n",
       "<style scoped>\n",
       "    .dataframe tbody tr th:only-of-type {\n",
       "        vertical-align: middle;\n",
       "    }\n",
       "\n",
       "    .dataframe tbody tr th {\n",
       "        vertical-align: top;\n",
       "    }\n",
       "\n",
       "    .dataframe thead th {\n",
       "        text-align: right;\n",
       "    }\n",
       "</style>\n",
       "<table border=\"1\" class=\"dataframe\">\n",
       "  <thead>\n",
       "    <tr style=\"text-align: right;\">\n",
       "      <th></th>\n",
       "      <th>Unit Price</th>\n",
       "      <th>Unit Cost</th>\n",
       "      <th>Sold Quantity</th>\n",
       "      <th>Sales</th>\n",
       "      <th>COGS</th>\n",
       "      <th>Marketing</th>\n",
       "      <th>Total Expenses</th>\n",
       "      <th>Pre-Sales Inventory</th>\n",
       "      <th>Profit</th>\n",
       "      <th>Margin</th>\n",
       "      <th>Expected Sales</th>\n",
       "      <th>Expected COGS</th>\n",
       "      <th>Expected Profit</th>\n",
       "      <th>Expected Margin</th>\n",
       "      <th>ReportId</th>\n",
       "    </tr>\n",
       "  </thead>\n",
       "  <tbody>\n",
       "    <tr>\n",
       "      <th>0</th>\n",
       "      <td>4.5</td>\n",
       "      <td>2.69</td>\n",
       "      <td>666.0</td>\n",
       "      <td>2997.0</td>\n",
       "      <td>1791.54</td>\n",
       "      <td>226.44</td>\n",
       "      <td>2017.98</td>\n",
       "      <td>948.0</td>\n",
       "      <td>979.02</td>\n",
       "      <td>NaN</td>\n",
       "      <td>4545.65</td>\n",
       "      <td>2346.51</td>\n",
       "      <td>2199.14</td>\n",
       "      <td>48.38</td>\n",
       "      <td>JB578CJ</td>\n",
       "    </tr>\n",
       "    <tr>\n",
       "      <th>1</th>\n",
       "      <td>4.5</td>\n",
       "      <td>2.69</td>\n",
       "      <td>1161.0</td>\n",
       "      <td>5224.5</td>\n",
       "      <td>3123.09</td>\n",
       "      <td>394.74</td>\n",
       "      <td>3517.83</td>\n",
       "      <td>2012.0</td>\n",
       "      <td>1706.67</td>\n",
       "      <td>24.00</td>\n",
       "      <td>7235.12</td>\n",
       "      <td>3904.60</td>\n",
       "      <td>3330.52</td>\n",
       "      <td>46.03</td>\n",
       "      <td>UZ650HV</td>\n",
       "    </tr>\n",
       "    <tr>\n",
       "      <th>2</th>\n",
       "      <td>4.5</td>\n",
       "      <td>2.69</td>\n",
       "      <td>409.0</td>\n",
       "      <td>1840.5</td>\n",
       "      <td>1100.21</td>\n",
       "      <td>139.06</td>\n",
       "      <td>1239.27</td>\n",
       "      <td>581.0</td>\n",
       "      <td>601.23</td>\n",
       "      <td>25.56</td>\n",
       "      <td>2063.32</td>\n",
       "      <td>1179.02</td>\n",
       "      <td>884.30</td>\n",
       "      <td>42.86</td>\n",
       "      <td>VB278N7</td>\n",
       "    </tr>\n",
       "    <tr>\n",
       "      <th>3</th>\n",
       "      <td>4.5</td>\n",
       "      <td>2.69</td>\n",
       "      <td>1071.0</td>\n",
       "      <td>4819.5</td>\n",
       "      <td>2880.99</td>\n",
       "      <td>364.14</td>\n",
       "      <td>NaN</td>\n",
       "      <td>1629.0</td>\n",
       "      <td>1574.37</td>\n",
       "      <td>25.06</td>\n",
       "      <td>6674.26</td>\n",
       "      <td>3430.39</td>\n",
       "      <td>NaN</td>\n",
       "      <td>48.60</td>\n",
       "      <td>TL8282Y</td>\n",
       "    </tr>\n",
       "    <tr>\n",
       "      <th>4</th>\n",
       "      <td>4.5</td>\n",
       "      <td>2.69</td>\n",
       "      <td>735.0</td>\n",
       "      <td>3307.5</td>\n",
       "      <td>1977.15</td>\n",
       "      <td>249.90</td>\n",
       "      <td>2227.05</td>\n",
       "      <td>1217.0</td>\n",
       "      <td>1080.45</td>\n",
       "      <td>24.39</td>\n",
       "      <td>5016.60</td>\n",
       "      <td>2589.61</td>\n",
       "      <td>2426.99</td>\n",
       "      <td>48.38</td>\n",
       "      <td>FB512II</td>\n",
       "    </tr>\n",
       "  </tbody>\n",
       "</table>\n",
       "</div>"
      ],
      "text/plain": [
       "   Unit Price  Unit Cost  Sold Quantity   Sales     COGS  Marketing  \\\n",
       "0         4.5       2.69          666.0  2997.0  1791.54     226.44   \n",
       "1         4.5       2.69         1161.0  5224.5  3123.09     394.74   \n",
       "2         4.5       2.69          409.0  1840.5  1100.21     139.06   \n",
       "3         4.5       2.69         1071.0  4819.5  2880.99     364.14   \n",
       "4         4.5       2.69          735.0  3307.5  1977.15     249.90   \n",
       "\n",
       "   Total Expenses  Pre-Sales Inventory   Profit  Margin  Expected Sales  \\\n",
       "0         2017.98                948.0   979.02     NaN         4545.65   \n",
       "1         3517.83               2012.0  1706.67   24.00         7235.12   \n",
       "2         1239.27                581.0   601.23   25.56         2063.32   \n",
       "3             NaN               1629.0  1574.37   25.06         6674.26   \n",
       "4         2227.05               1217.0  1080.45   24.39         5016.60   \n",
       "\n",
       "   Expected COGS  Expected Profit  Expected Margin ReportId  \n",
       "0        2346.51          2199.14            48.38  JB578CJ  \n",
       "1        3904.60          3330.52            46.03  UZ650HV  \n",
       "2        1179.02           884.30            42.86  VB278N7  \n",
       "3        3430.39              NaN            48.60  TL8282Y  \n",
       "4        2589.61          2426.99            48.38  FB512II  "
      ]
     },
     "execution_count": 17,
     "metadata": {},
     "output_type": "execute_result"
    }
   ],
   "source": [
    "# Création d'une copie du DataFrame \n",
    "df_fin_copy = df_fin.copy()  # pour garder une version originale intacte\n",
    "df_fin_copy.head()"
   ]
  },
  {
   "cell_type": "code",
   "execution_count": 5,
   "id": "16601878",
   "metadata": {},
   "outputs": [
    {
     "name": "stdout",
     "output_type": "stream",
     "text": [
      "Dimensions : (33856, 15)\n"
     ]
    },
    {
     "data": {
      "application/vnd.microsoft.datawrangler.viewer.v0+json": {
       "columns": [
        {
         "name": "index",
         "rawType": "int64",
         "type": "integer"
        },
        {
         "name": "Unit Price",
         "rawType": "float64",
         "type": "float"
        },
        {
         "name": "Unit Cost",
         "rawType": "float64",
         "type": "float"
        },
        {
         "name": "Sold Quantity",
         "rawType": "float64",
         "type": "float"
        },
        {
         "name": "Sales",
         "rawType": "float64",
         "type": "float"
        },
        {
         "name": "COGS",
         "rawType": "float64",
         "type": "float"
        },
        {
         "name": "Marketing",
         "rawType": "float64",
         "type": "float"
        },
        {
         "name": "Total Expenses",
         "rawType": "float64",
         "type": "float"
        },
        {
         "name": "Pre-Sales Inventory",
         "rawType": "float64",
         "type": "float"
        },
        {
         "name": "Profit",
         "rawType": "float64",
         "type": "float"
        },
        {
         "name": "Margin",
         "rawType": "float64",
         "type": "float"
        },
        {
         "name": "Expected Sales",
         "rawType": "float64",
         "type": "float"
        },
        {
         "name": "Expected COGS",
         "rawType": "float64",
         "type": "float"
        },
        {
         "name": "Expected Profit",
         "rawType": "float64",
         "type": "float"
        },
        {
         "name": "Expected Margin",
         "rawType": "float64",
         "type": "float"
        },
        {
         "name": "ReportId",
         "rawType": "object",
         "type": "string"
        }
       ],
       "ref": "6944d837-05d9-4b1e-a7a5-ee613d8b0e34",
       "rows": [
        [
         "0",
         "4.5",
         "2.69",
         "666.0",
         "2997.0",
         "1791.54",
         "226.44",
         "2017.98",
         "948.0",
         "979.02",
         null,
         "4545.65",
         "2346.51",
         "2199.14",
         "48.38",
         "JB578CJ"
        ],
        [
         "1",
         "4.5",
         "2.69",
         "1161.0",
         "5224.5",
         "3123.09",
         "394.74",
         "3517.83",
         "2012.0",
         "1706.67",
         "24.0",
         "7235.12",
         "3904.6",
         "3330.52",
         "46.03",
         "UZ650HV"
        ],
        [
         "2",
         "4.5",
         "2.69",
         "409.0",
         "1840.5",
         "1100.21",
         "139.06",
         "1239.27",
         "581.0",
         "601.23",
         "25.56",
         "2063.32",
         "1179.02",
         "884.3",
         "42.86",
         "VB278N7"
        ],
        [
         "3",
         "4.5",
         "2.69",
         "1071.0",
         "4819.5",
         "2880.99",
         "364.14",
         null,
         "1629.0",
         "1574.3700000000003",
         "25.06",
         "6674.26",
         "3430.39",
         null,
         "48.6",
         "TL8282Y"
        ],
        [
         "4",
         "4.5",
         "2.69",
         "735.0",
         "3307.5",
         "1977.15",
         "249.9",
         "2227.05",
         "1217.0",
         "1080.4500000000005",
         "24.39",
         "5016.6",
         "2589.61",
         "2426.99",
         "48.38",
         "FB512II"
        ]
       ],
       "shape": {
        "columns": 15,
        "rows": 5
       }
      },
      "text/html": [
       "<div>\n",
       "<style scoped>\n",
       "    .dataframe tbody tr th:only-of-type {\n",
       "        vertical-align: middle;\n",
       "    }\n",
       "\n",
       "    .dataframe tbody tr th {\n",
       "        vertical-align: top;\n",
       "    }\n",
       "\n",
       "    .dataframe thead th {\n",
       "        text-align: right;\n",
       "    }\n",
       "</style>\n",
       "<table border=\"1\" class=\"dataframe\">\n",
       "  <thead>\n",
       "    <tr style=\"text-align: right;\">\n",
       "      <th></th>\n",
       "      <th>Unit Price</th>\n",
       "      <th>Unit Cost</th>\n",
       "      <th>Sold Quantity</th>\n",
       "      <th>Sales</th>\n",
       "      <th>COGS</th>\n",
       "      <th>Marketing</th>\n",
       "      <th>Total Expenses</th>\n",
       "      <th>Pre-Sales Inventory</th>\n",
       "      <th>Profit</th>\n",
       "      <th>Margin</th>\n",
       "      <th>Expected Sales</th>\n",
       "      <th>Expected COGS</th>\n",
       "      <th>Expected Profit</th>\n",
       "      <th>Expected Margin</th>\n",
       "      <th>ReportId</th>\n",
       "    </tr>\n",
       "  </thead>\n",
       "  <tbody>\n",
       "    <tr>\n",
       "      <th>0</th>\n",
       "      <td>4.5</td>\n",
       "      <td>2.69</td>\n",
       "      <td>666.0</td>\n",
       "      <td>2997.0</td>\n",
       "      <td>1791.54</td>\n",
       "      <td>226.44</td>\n",
       "      <td>2017.98</td>\n",
       "      <td>948.0</td>\n",
       "      <td>979.02</td>\n",
       "      <td>NaN</td>\n",
       "      <td>4545.65</td>\n",
       "      <td>2346.51</td>\n",
       "      <td>2199.14</td>\n",
       "      <td>48.38</td>\n",
       "      <td>JB578CJ</td>\n",
       "    </tr>\n",
       "    <tr>\n",
       "      <th>1</th>\n",
       "      <td>4.5</td>\n",
       "      <td>2.69</td>\n",
       "      <td>1161.0</td>\n",
       "      <td>5224.5</td>\n",
       "      <td>3123.09</td>\n",
       "      <td>394.74</td>\n",
       "      <td>3517.83</td>\n",
       "      <td>2012.0</td>\n",
       "      <td>1706.67</td>\n",
       "      <td>24.00</td>\n",
       "      <td>7235.12</td>\n",
       "      <td>3904.60</td>\n",
       "      <td>3330.52</td>\n",
       "      <td>46.03</td>\n",
       "      <td>UZ650HV</td>\n",
       "    </tr>\n",
       "    <tr>\n",
       "      <th>2</th>\n",
       "      <td>4.5</td>\n",
       "      <td>2.69</td>\n",
       "      <td>409.0</td>\n",
       "      <td>1840.5</td>\n",
       "      <td>1100.21</td>\n",
       "      <td>139.06</td>\n",
       "      <td>1239.27</td>\n",
       "      <td>581.0</td>\n",
       "      <td>601.23</td>\n",
       "      <td>25.56</td>\n",
       "      <td>2063.32</td>\n",
       "      <td>1179.02</td>\n",
       "      <td>884.30</td>\n",
       "      <td>42.86</td>\n",
       "      <td>VB278N7</td>\n",
       "    </tr>\n",
       "    <tr>\n",
       "      <th>3</th>\n",
       "      <td>4.5</td>\n",
       "      <td>2.69</td>\n",
       "      <td>1071.0</td>\n",
       "      <td>4819.5</td>\n",
       "      <td>2880.99</td>\n",
       "      <td>364.14</td>\n",
       "      <td>NaN</td>\n",
       "      <td>1629.0</td>\n",
       "      <td>1574.37</td>\n",
       "      <td>25.06</td>\n",
       "      <td>6674.26</td>\n",
       "      <td>3430.39</td>\n",
       "      <td>NaN</td>\n",
       "      <td>48.60</td>\n",
       "      <td>TL8282Y</td>\n",
       "    </tr>\n",
       "    <tr>\n",
       "      <th>4</th>\n",
       "      <td>4.5</td>\n",
       "      <td>2.69</td>\n",
       "      <td>735.0</td>\n",
       "      <td>3307.5</td>\n",
       "      <td>1977.15</td>\n",
       "      <td>249.90</td>\n",
       "      <td>2227.05</td>\n",
       "      <td>1217.0</td>\n",
       "      <td>1080.45</td>\n",
       "      <td>24.39</td>\n",
       "      <td>5016.60</td>\n",
       "      <td>2589.61</td>\n",
       "      <td>2426.99</td>\n",
       "      <td>48.38</td>\n",
       "      <td>FB512II</td>\n",
       "    </tr>\n",
       "  </tbody>\n",
       "</table>\n",
       "</div>"
      ],
      "text/plain": [
       "   Unit Price  Unit Cost  Sold Quantity   Sales     COGS  Marketing  \\\n",
       "0         4.5       2.69          666.0  2997.0  1791.54     226.44   \n",
       "1         4.5       2.69         1161.0  5224.5  3123.09     394.74   \n",
       "2         4.5       2.69          409.0  1840.5  1100.21     139.06   \n",
       "3         4.5       2.69         1071.0  4819.5  2880.99     364.14   \n",
       "4         4.5       2.69          735.0  3307.5  1977.15     249.90   \n",
       "\n",
       "   Total Expenses  Pre-Sales Inventory   Profit  Margin  Expected Sales  \\\n",
       "0         2017.98                948.0   979.02     NaN         4545.65   \n",
       "1         3517.83               2012.0  1706.67   24.00         7235.12   \n",
       "2         1239.27                581.0   601.23   25.56         2063.32   \n",
       "3             NaN               1629.0  1574.37   25.06         6674.26   \n",
       "4         2227.05               1217.0  1080.45   24.39         5016.60   \n",
       "\n",
       "   Expected COGS  Expected Profit  Expected Margin ReportId  \n",
       "0        2346.51          2199.14            48.38  JB578CJ  \n",
       "1        3904.60          3330.52            46.03  UZ650HV  \n",
       "2        1179.02           884.30            42.86  VB278N7  \n",
       "3        3430.39              NaN            48.60  TL8282Y  \n",
       "4        2589.61          2426.99            48.38  FB512II  "
      ]
     },
     "execution_count": 5,
     "metadata": {},
     "output_type": "execute_result"
    }
   ],
   "source": [
    "# Aperçu rapide\n",
    "print(\"Dimensions :\", df_fin.shape)\n",
    "df_fin.head()"
   ]
  },
  {
   "cell_type": "code",
   "execution_count": null,
   "id": "21c70bbf",
   "metadata": {},
   "outputs": [
    {
     "name": "stdout",
     "output_type": "stream",
     "text": [
      "<class 'pandas.core.frame.DataFrame'>\n",
      "RangeIndex: 33856 entries, 0 to 33855\n",
      "Data columns (total 15 columns):\n",
      " #   Column               Non-Null Count  Dtype  \n",
      "---  ------               --------------  -----  \n",
      " 0   Unit Price           32140 non-null  float64\n",
      " 1   Unit Cost            32763 non-null  float64\n",
      " 2   Sold Quantity        32675 non-null  float64\n",
      " 3   Sales                30915 non-null  float64\n",
      " 4   COGS                 32573 non-null  float64\n",
      " 5   Marketing            33153 non-null  float64\n",
      " 6   Total Expenses       31384 non-null  float64\n",
      " 7   Pre-Sales Inventory  30959 non-null  float64\n",
      " 8   Profit               32896 non-null  float64\n",
      " 9   Margin               30634 non-null  float64\n",
      " 10  Expected Sales       31217 non-null  float64\n",
      " 11  Expected COGS        33124 non-null  float64\n",
      " 12  Expected Profit      32996 non-null  float64\n",
      " 13  Expected Margin      30900 non-null  float64\n",
      " 14  ReportId             33856 non-null  object \n",
      "dtypes: float64(14), object(1)\n",
      "memory usage: 3.9+ MB\n"
     ]
    },
    {
     "data": {
      "application/vnd.microsoft.datawrangler.viewer.v0+json": {
       "columns": [
        {
         "name": "index",
         "rawType": "object",
         "type": "string"
        },
        {
         "name": "Unit Price",
         "rawType": "float64",
         "type": "float"
        },
        {
         "name": "Unit Cost",
         "rawType": "float64",
         "type": "float"
        },
        {
         "name": "Sold Quantity",
         "rawType": "float64",
         "type": "float"
        },
        {
         "name": "Sales",
         "rawType": "float64",
         "type": "float"
        },
        {
         "name": "COGS",
         "rawType": "float64",
         "type": "float"
        },
        {
         "name": "Marketing",
         "rawType": "float64",
         "type": "float"
        },
        {
         "name": "Total Expenses",
         "rawType": "float64",
         "type": "float"
        },
        {
         "name": "Pre-Sales Inventory",
         "rawType": "float64",
         "type": "float"
        },
        {
         "name": "Profit",
         "rawType": "float64",
         "type": "float"
        },
        {
         "name": "Margin",
         "rawType": "float64",
         "type": "float"
        },
        {
         "name": "Expected Sales",
         "rawType": "float64",
         "type": "float"
        },
        {
         "name": "Expected COGS",
         "rawType": "float64",
         "type": "float"
        },
        {
         "name": "Expected Profit",
         "rawType": "float64",
         "type": "float"
        },
        {
         "name": "Expected Margin",
         "rawType": "float64",
         "type": "float"
        }
       ],
       "ref": "e16d3ce3-1900-4760-86e8-80a89dfda4cc",
       "rows": [
        [
         "count",
         "32140.0",
         "32763.0",
         "32675.0",
         "30915.0",
         "32573.0",
         "33153.0",
         "31384.0",
         "30959.0",
         "32896.0",
         "30634.0",
         "31217.0",
         "33124.0",
         "32996.0",
         "30900.0"
        ],
        [
         "mean",
         "3.9435438705662724",
         "2.572922809266551",
         "581.9136648814078",
         "2304.6272764030405",
         "1539.2134863230283",
         "134.05555847132987",
         "1670.997376051491",
         "855.4367389127556",
         "630.6703474586576",
         "23.69152673500033",
         "2786.615638914694",
         "1741.2203752566115",
         "1041.6915162443931",
         "39.296684789644004"
        ],
        [
         "std",
         "0.4436865141091145",
         "0.7417300459578214",
         "418.5052124960321",
         "1711.7310997915304",
         "1300.7788105739892",
         "174.10605550572882",
         "1385.6851013683038",
         "645.1791229168481",
         "494.4234625421656",
         "14.039442398313733",
         "2237.570291583425",
         "1549.036872825032",
         "867.4664430693775",
         "12.193189426224416"
        ],
        [
         "min",
         "3.25",
         "1.99",
         "52.0",
         "182.0",
         "103.48",
         "2.34",
         "105.82",
         "74.0",
         "-105.0",
         "-11.96",
         "178.58",
         "97.84",
         "28.15",
         "8.84"
        ],
        [
         "25%",
         "3.5",
         "1.99",
         "290.0",
         "1121.25",
         "670.63",
         "44.55",
         "744.8075",
         "422.0",
         "294.38749999999993",
         "21.63",
         "1293.39",
         "730.3325",
         "472.88",
         "28.84"
        ],
        [
         "50%",
         "4.0",
         "2.29",
         "463.0",
         "1809.0",
         "1127.11",
         "89.55",
         "1234.88",
         "663.0",
         "514.0099999999998",
         "27.59",
         "2116.89",
         "1237.225",
         "799.835",
         "44.89"
        ],
        [
         "75%",
         "4.25",
         "2.69",
         "748.0",
         "2968.0",
         "1969.59",
         "153.0",
         "2139.96",
         "1102.0",
         "841.0",
         "32.66",
         "3521.86",
         "2216.39",
         "1321.2775",
         "48.24"
        ],
        [
         "max",
         "4.75",
         "4.09",
         "2994.0",
         "12787.0",
         "10741.08",
         "2035.92",
         "11198.72",
         "5521.0",
         "3092.55",
         "41.05",
         "19419.74",
         "14217.09",
         "9184.64",
         "52.23"
        ]
       ],
       "shape": {
        "columns": 14,
        "rows": 8
       }
      },
      "text/html": [
       "<div>\n",
       "<style scoped>\n",
       "    .dataframe tbody tr th:only-of-type {\n",
       "        vertical-align: middle;\n",
       "    }\n",
       "\n",
       "    .dataframe tbody tr th {\n",
       "        vertical-align: top;\n",
       "    }\n",
       "\n",
       "    .dataframe thead th {\n",
       "        text-align: right;\n",
       "    }\n",
       "</style>\n",
       "<table border=\"1\" class=\"dataframe\">\n",
       "  <thead>\n",
       "    <tr style=\"text-align: right;\">\n",
       "      <th></th>\n",
       "      <th>Unit Price</th>\n",
       "      <th>Unit Cost</th>\n",
       "      <th>Sold Quantity</th>\n",
       "      <th>Sales</th>\n",
       "      <th>COGS</th>\n",
       "      <th>Marketing</th>\n",
       "      <th>Total Expenses</th>\n",
       "      <th>Pre-Sales Inventory</th>\n",
       "      <th>Profit</th>\n",
       "      <th>Margin</th>\n",
       "      <th>Expected Sales</th>\n",
       "      <th>Expected COGS</th>\n",
       "      <th>Expected Profit</th>\n",
       "      <th>Expected Margin</th>\n",
       "    </tr>\n",
       "  </thead>\n",
       "  <tbody>\n",
       "    <tr>\n",
       "      <th>count</th>\n",
       "      <td>32140.000000</td>\n",
       "      <td>32763.000000</td>\n",
       "      <td>32675.000000</td>\n",
       "      <td>30915.000000</td>\n",
       "      <td>32573.000000</td>\n",
       "      <td>33153.000000</td>\n",
       "      <td>31384.000000</td>\n",
       "      <td>30959.000000</td>\n",
       "      <td>32896.000000</td>\n",
       "      <td>30634.000000</td>\n",
       "      <td>31217.000000</td>\n",
       "      <td>33124.000000</td>\n",
       "      <td>32996.000000</td>\n",
       "      <td>30900.000000</td>\n",
       "    </tr>\n",
       "    <tr>\n",
       "      <th>mean</th>\n",
       "      <td>3.943544</td>\n",
       "      <td>2.572923</td>\n",
       "      <td>581.913665</td>\n",
       "      <td>2304.627276</td>\n",
       "      <td>1539.213486</td>\n",
       "      <td>134.055558</td>\n",
       "      <td>1670.997376</td>\n",
       "      <td>855.436739</td>\n",
       "      <td>630.670347</td>\n",
       "      <td>23.691527</td>\n",
       "      <td>2786.615639</td>\n",
       "      <td>1741.220375</td>\n",
       "      <td>1041.691516</td>\n",
       "      <td>39.296685</td>\n",
       "    </tr>\n",
       "    <tr>\n",
       "      <th>std</th>\n",
       "      <td>0.443687</td>\n",
       "      <td>0.741730</td>\n",
       "      <td>418.505212</td>\n",
       "      <td>1711.731100</td>\n",
       "      <td>1300.778811</td>\n",
       "      <td>174.106056</td>\n",
       "      <td>1385.685101</td>\n",
       "      <td>645.179123</td>\n",
       "      <td>494.423463</td>\n",
       "      <td>14.039442</td>\n",
       "      <td>2237.570292</td>\n",
       "      <td>1549.036873</td>\n",
       "      <td>867.466443</td>\n",
       "      <td>12.193189</td>\n",
       "    </tr>\n",
       "    <tr>\n",
       "      <th>min</th>\n",
       "      <td>3.250000</td>\n",
       "      <td>1.990000</td>\n",
       "      <td>52.000000</td>\n",
       "      <td>182.000000</td>\n",
       "      <td>103.480000</td>\n",
       "      <td>2.340000</td>\n",
       "      <td>105.820000</td>\n",
       "      <td>74.000000</td>\n",
       "      <td>-105.000000</td>\n",
       "      <td>-11.960000</td>\n",
       "      <td>178.580000</td>\n",
       "      <td>97.840000</td>\n",
       "      <td>28.150000</td>\n",
       "      <td>8.840000</td>\n",
       "    </tr>\n",
       "    <tr>\n",
       "      <th>25%</th>\n",
       "      <td>3.500000</td>\n",
       "      <td>1.990000</td>\n",
       "      <td>290.000000</td>\n",
       "      <td>1121.250000</td>\n",
       "      <td>670.630000</td>\n",
       "      <td>44.550000</td>\n",
       "      <td>744.807500</td>\n",
       "      <td>422.000000</td>\n",
       "      <td>294.387500</td>\n",
       "      <td>21.630000</td>\n",
       "      <td>1293.390000</td>\n",
       "      <td>730.332500</td>\n",
       "      <td>472.880000</td>\n",
       "      <td>28.840000</td>\n",
       "    </tr>\n",
       "    <tr>\n",
       "      <th>50%</th>\n",
       "      <td>4.000000</td>\n",
       "      <td>2.290000</td>\n",
       "      <td>463.000000</td>\n",
       "      <td>1809.000000</td>\n",
       "      <td>1127.110000</td>\n",
       "      <td>89.550000</td>\n",
       "      <td>1234.880000</td>\n",
       "      <td>663.000000</td>\n",
       "      <td>514.010000</td>\n",
       "      <td>27.590000</td>\n",
       "      <td>2116.890000</td>\n",
       "      <td>1237.225000</td>\n",
       "      <td>799.835000</td>\n",
       "      <td>44.890000</td>\n",
       "    </tr>\n",
       "    <tr>\n",
       "      <th>75%</th>\n",
       "      <td>4.250000</td>\n",
       "      <td>2.690000</td>\n",
       "      <td>748.000000</td>\n",
       "      <td>2968.000000</td>\n",
       "      <td>1969.590000</td>\n",
       "      <td>153.000000</td>\n",
       "      <td>2139.960000</td>\n",
       "      <td>1102.000000</td>\n",
       "      <td>841.000000</td>\n",
       "      <td>32.660000</td>\n",
       "      <td>3521.860000</td>\n",
       "      <td>2216.390000</td>\n",
       "      <td>1321.277500</td>\n",
       "      <td>48.240000</td>\n",
       "    </tr>\n",
       "    <tr>\n",
       "      <th>max</th>\n",
       "      <td>4.750000</td>\n",
       "      <td>4.090000</td>\n",
       "      <td>2994.000000</td>\n",
       "      <td>12787.000000</td>\n",
       "      <td>10741.080000</td>\n",
       "      <td>2035.920000</td>\n",
       "      <td>11198.720000</td>\n",
       "      <td>5521.000000</td>\n",
       "      <td>3092.550000</td>\n",
       "      <td>41.050000</td>\n",
       "      <td>19419.740000</td>\n",
       "      <td>14217.090000</td>\n",
       "      <td>9184.640000</td>\n",
       "      <td>52.230000</td>\n",
       "    </tr>\n",
       "  </tbody>\n",
       "</table>\n",
       "</div>"
      ],
      "text/plain": [
       "         Unit Price     Unit Cost  Sold Quantity         Sales          COGS  \\\n",
       "count  32140.000000  32763.000000   32675.000000  30915.000000  32573.000000   \n",
       "mean       3.943544      2.572923     581.913665   2304.627276   1539.213486   \n",
       "std        0.443687      0.741730     418.505212   1711.731100   1300.778811   \n",
       "min        3.250000      1.990000      52.000000    182.000000    103.480000   \n",
       "25%        3.500000      1.990000     290.000000   1121.250000    670.630000   \n",
       "50%        4.000000      2.290000     463.000000   1809.000000   1127.110000   \n",
       "75%        4.250000      2.690000     748.000000   2968.000000   1969.590000   \n",
       "max        4.750000      4.090000    2994.000000  12787.000000  10741.080000   \n",
       "\n",
       "          Marketing  Total Expenses  Pre-Sales Inventory        Profit  \\\n",
       "count  33153.000000    31384.000000         30959.000000  32896.000000   \n",
       "mean     134.055558     1670.997376           855.436739    630.670347   \n",
       "std      174.106056     1385.685101           645.179123    494.423463   \n",
       "min        2.340000      105.820000            74.000000   -105.000000   \n",
       "25%       44.550000      744.807500           422.000000    294.387500   \n",
       "50%       89.550000     1234.880000           663.000000    514.010000   \n",
       "75%      153.000000     2139.960000          1102.000000    841.000000   \n",
       "max     2035.920000    11198.720000          5521.000000   3092.550000   \n",
       "\n",
       "             Margin  Expected Sales  Expected COGS  Expected Profit  \\\n",
       "count  30634.000000    31217.000000   33124.000000     32996.000000   \n",
       "mean      23.691527     2786.615639    1741.220375      1041.691516   \n",
       "std       14.039442     2237.570292    1549.036873       867.466443   \n",
       "min      -11.960000      178.580000      97.840000        28.150000   \n",
       "25%       21.630000     1293.390000     730.332500       472.880000   \n",
       "50%       27.590000     2116.890000    1237.225000       799.835000   \n",
       "75%       32.660000     3521.860000    2216.390000      1321.277500   \n",
       "max       41.050000    19419.740000   14217.090000      9184.640000   \n",
       "\n",
       "       Expected Margin  \n",
       "count     30900.000000  \n",
       "mean         39.296685  \n",
       "std          12.193189  \n",
       "min           8.840000  \n",
       "25%          28.840000  \n",
       "50%          44.890000  \n",
       "75%          48.240000  \n",
       "max          52.230000  "
      ]
     },
     "execution_count": 8,
     "metadata": {},
     "output_type": "execute_result"
    }
   ],
   "source": [
    "# Statistiques descriptives\n",
    "df_fin.info()\n",
    "df_fin.describe()"
   ]
  },
  {
   "cell_type": "code",
   "execution_count": 7,
   "id": "bc60f4bb",
   "metadata": {},
   "outputs": [
    {
     "data": {
      "application/vnd.microsoft.datawrangler.viewer.v0+json": {
       "columns": [
        {
         "name": "index",
         "rawType": "int64",
         "type": "integer"
        },
        {
         "name": "Unit Price",
         "rawType": "float64",
         "type": "float"
        },
        {
         "name": "Unit Cost",
         "rawType": "float64",
         "type": "float"
        },
        {
         "name": "Sold Quantity",
         "rawType": "float64",
         "type": "float"
        },
        {
         "name": "Sales",
         "rawType": "float64",
         "type": "float"
        },
        {
         "name": "COGS",
         "rawType": "float64",
         "type": "float"
        },
        {
         "name": "Marketing",
         "rawType": "float64",
         "type": "float"
        },
        {
         "name": "Total Expenses",
         "rawType": "float64",
         "type": "float"
        },
        {
         "name": "Pre-Sales Inventory",
         "rawType": "float64",
         "type": "float"
        },
        {
         "name": "Profit",
         "rawType": "float64",
         "type": "float"
        },
        {
         "name": "Margin",
         "rawType": "float64",
         "type": "float"
        },
        {
         "name": "Expected Sales",
         "rawType": "float64",
         "type": "float"
        },
        {
         "name": "Expected COGS",
         "rawType": "float64",
         "type": "float"
        },
        {
         "name": "Expected Profit",
         "rawType": "float64",
         "type": "float"
        },
        {
         "name": "Expected Margin",
         "rawType": "float64",
         "type": "float"
        },
        {
         "name": "ReportId",
         "rawType": "object",
         "type": "string"
        }
       ],
       "ref": "8f234201-4e8f-45de-9daa-82d7dc35653c",
       "rows": [
        [
         "11828",
         "4.0",
         "3.39",
         "526.0",
         "2104.0",
         "1783.14",
         "78.9",
         "1862.04",
         "964.0",
         "241.9599999999998",
         null,
         "2770.2",
         "2121.31",
         "648.89",
         "23.42",
         "ZN36077"
        ],
        [
         "17999",
         "3.75",
         "1.99",
         "232.0",
         "870.0",
         "461.68",
         "31.32",
         null,
         null,
         "377.0",
         "37.73",
         "1006.77",
         "485.04",
         "521.73",
         "51.82",
         "XH360LM"
        ],
        [
         "17628",
         "3.75",
         "1.99",
         "474.0",
         "1777.5",
         "943.26",
         "51.19",
         "994.45",
         "600.0",
         "783.05",
         "40.26",
         "2168.61",
         "1079.5",
         "1089.11",
         "50.22",
         "ZV5667Z"
        ],
        [
         "13786",
         "4.25",
         "2.29",
         "85.0",
         "361.25",
         "194.65",
         "38.25",
         "232.9",
         "160.0",
         "128.35",
         "26.12",
         "354.84",
         "191.27",
         "163.57",
         "46.1",
         "WI414UC"
        ],
        [
         "2534",
         "4.0",
         "2.29",
         "1126.0",
         "4504.0",
         "2578.54",
         "765.68",
         "3344.22",
         null,
         "1159.7800000000002",
         "21.28",
         "5095.6",
         "2814.41",
         "2281.19",
         "44.77",
         "ZY307BD"
        ]
       ],
       "shape": {
        "columns": 15,
        "rows": 5
       }
      },
      "text/html": [
       "<div>\n",
       "<style scoped>\n",
       "    .dataframe tbody tr th:only-of-type {\n",
       "        vertical-align: middle;\n",
       "    }\n",
       "\n",
       "    .dataframe tbody tr th {\n",
       "        vertical-align: top;\n",
       "    }\n",
       "\n",
       "    .dataframe thead th {\n",
       "        text-align: right;\n",
       "    }\n",
       "</style>\n",
       "<table border=\"1\" class=\"dataframe\">\n",
       "  <thead>\n",
       "    <tr style=\"text-align: right;\">\n",
       "      <th></th>\n",
       "      <th>Unit Price</th>\n",
       "      <th>Unit Cost</th>\n",
       "      <th>Sold Quantity</th>\n",
       "      <th>Sales</th>\n",
       "      <th>COGS</th>\n",
       "      <th>Marketing</th>\n",
       "      <th>Total Expenses</th>\n",
       "      <th>Pre-Sales Inventory</th>\n",
       "      <th>Profit</th>\n",
       "      <th>Margin</th>\n",
       "      <th>Expected Sales</th>\n",
       "      <th>Expected COGS</th>\n",
       "      <th>Expected Profit</th>\n",
       "      <th>Expected Margin</th>\n",
       "      <th>ReportId</th>\n",
       "    </tr>\n",
       "  </thead>\n",
       "  <tbody>\n",
       "    <tr>\n",
       "      <th>11828</th>\n",
       "      <td>4.00</td>\n",
       "      <td>3.39</td>\n",
       "      <td>526.0</td>\n",
       "      <td>2104.00</td>\n",
       "      <td>1783.14</td>\n",
       "      <td>78.90</td>\n",
       "      <td>1862.04</td>\n",
       "      <td>964.0</td>\n",
       "      <td>241.96</td>\n",
       "      <td>NaN</td>\n",
       "      <td>2770.20</td>\n",
       "      <td>2121.31</td>\n",
       "      <td>648.89</td>\n",
       "      <td>23.42</td>\n",
       "      <td>ZN36077</td>\n",
       "    </tr>\n",
       "    <tr>\n",
       "      <th>17999</th>\n",
       "      <td>3.75</td>\n",
       "      <td>1.99</td>\n",
       "      <td>232.0</td>\n",
       "      <td>870.00</td>\n",
       "      <td>461.68</td>\n",
       "      <td>31.32</td>\n",
       "      <td>NaN</td>\n",
       "      <td>NaN</td>\n",
       "      <td>377.00</td>\n",
       "      <td>37.73</td>\n",
       "      <td>1006.77</td>\n",
       "      <td>485.04</td>\n",
       "      <td>521.73</td>\n",
       "      <td>51.82</td>\n",
       "      <td>XH360LM</td>\n",
       "    </tr>\n",
       "    <tr>\n",
       "      <th>17628</th>\n",
       "      <td>3.75</td>\n",
       "      <td>1.99</td>\n",
       "      <td>474.0</td>\n",
       "      <td>1777.50</td>\n",
       "      <td>943.26</td>\n",
       "      <td>51.19</td>\n",
       "      <td>994.45</td>\n",
       "      <td>600.0</td>\n",
       "      <td>783.05</td>\n",
       "      <td>40.26</td>\n",
       "      <td>2168.61</td>\n",
       "      <td>1079.50</td>\n",
       "      <td>1089.11</td>\n",
       "      <td>50.22</td>\n",
       "      <td>ZV5667Z</td>\n",
       "    </tr>\n",
       "    <tr>\n",
       "      <th>13786</th>\n",
       "      <td>4.25</td>\n",
       "      <td>2.29</td>\n",
       "      <td>85.0</td>\n",
       "      <td>361.25</td>\n",
       "      <td>194.65</td>\n",
       "      <td>38.25</td>\n",
       "      <td>232.90</td>\n",
       "      <td>160.0</td>\n",
       "      <td>128.35</td>\n",
       "      <td>26.12</td>\n",
       "      <td>354.84</td>\n",
       "      <td>191.27</td>\n",
       "      <td>163.57</td>\n",
       "      <td>46.10</td>\n",
       "      <td>WI414UC</td>\n",
       "    </tr>\n",
       "    <tr>\n",
       "      <th>2534</th>\n",
       "      <td>4.00</td>\n",
       "      <td>2.29</td>\n",
       "      <td>1126.0</td>\n",
       "      <td>4504.00</td>\n",
       "      <td>2578.54</td>\n",
       "      <td>765.68</td>\n",
       "      <td>3344.22</td>\n",
       "      <td>NaN</td>\n",
       "      <td>1159.78</td>\n",
       "      <td>21.28</td>\n",
       "      <td>5095.60</td>\n",
       "      <td>2814.41</td>\n",
       "      <td>2281.19</td>\n",
       "      <td>44.77</td>\n",
       "      <td>ZY307BD</td>\n",
       "    </tr>\n",
       "  </tbody>\n",
       "</table>\n",
       "</div>"
      ],
      "text/plain": [
       "       Unit Price  Unit Cost  Sold Quantity    Sales     COGS  Marketing  \\\n",
       "11828        4.00       3.39          526.0  2104.00  1783.14      78.90   \n",
       "17999        3.75       1.99          232.0   870.00   461.68      31.32   \n",
       "17628        3.75       1.99          474.0  1777.50   943.26      51.19   \n",
       "13786        4.25       2.29           85.0   361.25   194.65      38.25   \n",
       "2534         4.00       2.29         1126.0  4504.00  2578.54     765.68   \n",
       "\n",
       "       Total Expenses  Pre-Sales Inventory   Profit  Margin  Expected Sales  \\\n",
       "11828         1862.04                964.0   241.96     NaN         2770.20   \n",
       "17999             NaN                  NaN   377.00   37.73         1006.77   \n",
       "17628          994.45                600.0   783.05   40.26         2168.61   \n",
       "13786          232.90                160.0   128.35   26.12          354.84   \n",
       "2534          3344.22                  NaN  1159.78   21.28         5095.60   \n",
       "\n",
       "       Expected COGS  Expected Profit  Expected Margin ReportId  \n",
       "11828        2121.31           648.89            23.42  ZN36077  \n",
       "17999         485.04           521.73            51.82  XH360LM  \n",
       "17628        1079.50          1089.11            50.22  ZV5667Z  \n",
       "13786         191.27           163.57            46.10  WI414UC  \n",
       "2534         2814.41          2281.19            44.77  ZY307BD  "
      ]
     },
     "execution_count": 7,
     "metadata": {},
     "output_type": "execute_result"
    }
   ],
   "source": [
    "# aperçu global\n",
    "df_fin.sample(5)"
   ]
  },
  {
   "cell_type": "markdown",
   "id": "3259c449",
   "metadata": {},
   "source": [
    "## 3️⃣ Analyse structurelle"
   ]
  },
  {
   "cell_type": "code",
   "execution_count": null,
   "id": "d079fb0f",
   "metadata": {},
   "outputs": [
    {
     "name": "stdout",
     "output_type": "stream",
     "text": [
      "Dimensions : (33856, 15)\n",
      "\n",
      "Aperçu rapide :\n"
     ]
    },
    {
     "data": {
      "application/vnd.microsoft.datawrangler.viewer.v0+json": {
       "columns": [
        {
         "name": "index",
         "rawType": "int64",
         "type": "integer"
        },
        {
         "name": "Unit Price",
         "rawType": "float64",
         "type": "float"
        },
        {
         "name": "Unit Cost",
         "rawType": "float64",
         "type": "float"
        },
        {
         "name": "Sold Quantity",
         "rawType": "float64",
         "type": "float"
        },
        {
         "name": "Sales",
         "rawType": "float64",
         "type": "float"
        },
        {
         "name": "COGS",
         "rawType": "float64",
         "type": "float"
        },
        {
         "name": "Marketing",
         "rawType": "float64",
         "type": "float"
        },
        {
         "name": "Total Expenses",
         "rawType": "float64",
         "type": "float"
        },
        {
         "name": "Pre-Sales Inventory",
         "rawType": "float64",
         "type": "float"
        },
        {
         "name": "Profit",
         "rawType": "float64",
         "type": "float"
        },
        {
         "name": "Margin",
         "rawType": "float64",
         "type": "float"
        },
        {
         "name": "Expected Sales",
         "rawType": "float64",
         "type": "float"
        },
        {
         "name": "Expected COGS",
         "rawType": "float64",
         "type": "float"
        },
        {
         "name": "Expected Profit",
         "rawType": "float64",
         "type": "float"
        },
        {
         "name": "Expected Margin",
         "rawType": "float64",
         "type": "float"
        },
        {
         "name": "ReportId",
         "rawType": "object",
         "type": "string"
        }
       ],
       "ref": "3e40422e-1120-4e07-9496-5542d919c878",
       "rows": [
        [
         "0",
         "4.5",
         "2.69",
         "666.0",
         "2997.0",
         "1791.54",
         "226.44",
         "2017.98",
         "948.0",
         "979.02",
         null,
         "4545.65",
         "2346.51",
         "2199.14",
         "48.38",
         "JB578CJ"
        ],
        [
         "1",
         "4.5",
         "2.69",
         "1161.0",
         "5224.5",
         "3123.09",
         "394.74",
         "3517.83",
         "2012.0",
         "1706.67",
         "24.0",
         "7235.12",
         "3904.6",
         "3330.52",
         "46.03",
         "UZ650HV"
        ],
        [
         "2",
         "4.5",
         "2.69",
         "409.0",
         "1840.5",
         "1100.21",
         "139.06",
         "1239.27",
         "581.0",
         "601.23",
         "25.56",
         "2063.32",
         "1179.02",
         "884.3",
         "42.86",
         "VB278N7"
        ]
       ],
       "shape": {
        "columns": 15,
        "rows": 3
       }
      },
      "text/html": [
       "<div>\n",
       "<style scoped>\n",
       "    .dataframe tbody tr th:only-of-type {\n",
       "        vertical-align: middle;\n",
       "    }\n",
       "\n",
       "    .dataframe tbody tr th {\n",
       "        vertical-align: top;\n",
       "    }\n",
       "\n",
       "    .dataframe thead th {\n",
       "        text-align: right;\n",
       "    }\n",
       "</style>\n",
       "<table border=\"1\" class=\"dataframe\">\n",
       "  <thead>\n",
       "    <tr style=\"text-align: right;\">\n",
       "      <th></th>\n",
       "      <th>Unit Price</th>\n",
       "      <th>Unit Cost</th>\n",
       "      <th>Sold Quantity</th>\n",
       "      <th>Sales</th>\n",
       "      <th>COGS</th>\n",
       "      <th>Marketing</th>\n",
       "      <th>Total Expenses</th>\n",
       "      <th>Pre-Sales Inventory</th>\n",
       "      <th>Profit</th>\n",
       "      <th>Margin</th>\n",
       "      <th>Expected Sales</th>\n",
       "      <th>Expected COGS</th>\n",
       "      <th>Expected Profit</th>\n",
       "      <th>Expected Margin</th>\n",
       "      <th>ReportId</th>\n",
       "    </tr>\n",
       "  </thead>\n",
       "  <tbody>\n",
       "    <tr>\n",
       "      <th>0</th>\n",
       "      <td>4.5</td>\n",
       "      <td>2.69</td>\n",
       "      <td>666.0</td>\n",
       "      <td>2997.0</td>\n",
       "      <td>1791.54</td>\n",
       "      <td>226.44</td>\n",
       "      <td>2017.98</td>\n",
       "      <td>948.0</td>\n",
       "      <td>979.02</td>\n",
       "      <td>NaN</td>\n",
       "      <td>4545.65</td>\n",
       "      <td>2346.51</td>\n",
       "      <td>2199.14</td>\n",
       "      <td>48.38</td>\n",
       "      <td>JB578CJ</td>\n",
       "    </tr>\n",
       "    <tr>\n",
       "      <th>1</th>\n",
       "      <td>4.5</td>\n",
       "      <td>2.69</td>\n",
       "      <td>1161.0</td>\n",
       "      <td>5224.5</td>\n",
       "      <td>3123.09</td>\n",
       "      <td>394.74</td>\n",
       "      <td>3517.83</td>\n",
       "      <td>2012.0</td>\n",
       "      <td>1706.67</td>\n",
       "      <td>24.00</td>\n",
       "      <td>7235.12</td>\n",
       "      <td>3904.60</td>\n",
       "      <td>3330.52</td>\n",
       "      <td>46.03</td>\n",
       "      <td>UZ650HV</td>\n",
       "    </tr>\n",
       "    <tr>\n",
       "      <th>2</th>\n",
       "      <td>4.5</td>\n",
       "      <td>2.69</td>\n",
       "      <td>409.0</td>\n",
       "      <td>1840.5</td>\n",
       "      <td>1100.21</td>\n",
       "      <td>139.06</td>\n",
       "      <td>1239.27</td>\n",
       "      <td>581.0</td>\n",
       "      <td>601.23</td>\n",
       "      <td>25.56</td>\n",
       "      <td>2063.32</td>\n",
       "      <td>1179.02</td>\n",
       "      <td>884.30</td>\n",
       "      <td>42.86</td>\n",
       "      <td>VB278N7</td>\n",
       "    </tr>\n",
       "  </tbody>\n",
       "</table>\n",
       "</div>"
      ],
      "text/plain": [
       "   Unit Price  Unit Cost  Sold Quantity   Sales     COGS  Marketing  \\\n",
       "0         4.5       2.69          666.0  2997.0  1791.54     226.44   \n",
       "1         4.5       2.69         1161.0  5224.5  3123.09     394.74   \n",
       "2         4.5       2.69          409.0  1840.5  1100.21     139.06   \n",
       "\n",
       "   Total Expenses  Pre-Sales Inventory   Profit  Margin  Expected Sales  \\\n",
       "0         2017.98                948.0   979.02     NaN         4545.65   \n",
       "1         3517.83               2012.0  1706.67   24.00         7235.12   \n",
       "2         1239.27                581.0   601.23   25.56         2063.32   \n",
       "\n",
       "   Expected COGS  Expected Profit  Expected Margin ReportId  \n",
       "0        2346.51          2199.14            48.38  JB578CJ  \n",
       "1        3904.60          3330.52            46.03  UZ650HV  \n",
       "2        1179.02           884.30            42.86  VB278N7  "
      ]
     },
     "metadata": {},
     "output_type": "display_data"
    }
   ],
   "source": [
    "# On observe ici la taille du dataset (nombre de lignes et colonnes)\n",
    "print(\"Dimensions :\", df_fin.shape)\n",
    "print(\"\\nAperçu rapide :\")\n",
    "display(df_fin.head(3))"
   ]
  },
  {
   "cell_type": "code",
   "execution_count": null,
   "id": "3d496783",
   "metadata": {},
   "outputs": [
    {
     "name": "stdout",
     "output_type": "stream",
     "text": [
      "Types de variables :\n",
      "\n",
      "Unit Price             float64\n",
      "Unit Cost              float64\n",
      "Sold Quantity          float64\n",
      "Sales                  float64\n",
      "COGS                   float64\n",
      "Marketing              float64\n",
      "Total Expenses         float64\n",
      "Pre-Sales Inventory    float64\n",
      "Profit                 float64\n",
      "Margin                 float64\n",
      "Expected Sales         float64\n",
      "Expected COGS          float64\n",
      "Expected Profit        float64\n",
      "Expected Margin        float64\n",
      "ReportId                object\n",
      "dtype: object\n"
     ]
    }
   ],
   "source": [
    "# On vérifie les types de chaque colonne.\n",
    "print(\"Types de variables :\\n\")\n",
    "print(df_fin.dtypes)"
   ]
  },
  {
   "cell_type": "code",
   "execution_count": 11,
   "id": "c4af4c19",
   "metadata": {},
   "outputs": [
    {
     "name": "stdout",
     "output_type": "stream",
     "text": [
      "Valeurs manquantes (Top 10) :\n",
      "\n"
     ]
    },
    {
     "data": {
      "application/vnd.microsoft.datawrangler.viewer.v0+json": {
       "columns": [
        {
         "name": "index",
         "rawType": "object",
         "type": "string"
        },
        {
         "name": "0",
         "rawType": "int64",
         "type": "integer"
        }
       ],
       "ref": "9401dc3b-1292-49b9-a0e8-80918823196d",
       "rows": [
        [
         "Margin",
         "3222"
        ],
        [
         "Expected Margin",
         "2956"
        ],
        [
         "Sales",
         "2941"
        ],
        [
         "Pre-Sales Inventory",
         "2897"
        ],
        [
         "Expected Sales",
         "2639"
        ],
        [
         "Total Expenses",
         "2472"
        ],
        [
         "Unit Price",
         "1716"
        ],
        [
         "COGS",
         "1283"
        ],
        [
         "Sold Quantity",
         "1181"
        ],
        [
         "Unit Cost",
         "1093"
        ]
       ],
       "shape": {
        "columns": 1,
        "rows": 10
       }
      },
      "text/plain": [
       "Margin                 3222\n",
       "Expected Margin        2956\n",
       "Sales                  2941\n",
       "Pre-Sales Inventory    2897\n",
       "Expected Sales         2639\n",
       "Total Expenses         2472\n",
       "Unit Price             1716\n",
       "COGS                   1283\n",
       "Sold Quantity          1181\n",
       "Unit Cost              1093\n",
       "dtype: int64"
      ]
     },
     "metadata": {},
     "output_type": "display_data"
    }
   ],
   "source": [
    "# On identifie les colonnes contenant des valeurs nulles.\n",
    "print(\"Valeurs manquantes (Top 10) :\\n\")\n",
    "missing = df_fin.isna().sum().sort_values(ascending=False)\n",
    "display(missing.head(10))"
   ]
  },
  {
   "cell_type": "code",
   "execution_count": 12,
   "id": "9ef864e4",
   "metadata": {},
   "outputs": [
    {
     "name": "stdout",
     "output_type": "stream",
     "text": [
      "Doublons (toutes colonnes) : 0\n",
      "Doublons sur ReportId : 1\n"
     ]
    }
   ],
   "source": [
    "# On vérifie si le dataset contient des lignes en double,\n",
    "# et si la clé ReportId (identifiant du reporting) est unique.\n",
    "print(\"Doublons (toutes colonnes) :\", df_fin.duplicated().sum())\n",
    "print(\"Doublons sur ReportId :\", df_fin['ReportId'].duplicated().sum())"
   ]
  },
  {
   "cell_type": "code",
   "execution_count": 13,
   "id": "aae3fe15",
   "metadata": {},
   "outputs": [
    {
     "data": {
      "application/vnd.microsoft.datawrangler.viewer.v0+json": {
       "columns": [
        {
         "name": "index",
         "rawType": "object",
         "type": "string"
        },
        {
         "name": "count",
         "rawType": "float64",
         "type": "float"
        },
        {
         "name": "mean",
         "rawType": "float64",
         "type": "float"
        },
        {
         "name": "std",
         "rawType": "float64",
         "type": "float"
        },
        {
         "name": "min",
         "rawType": "float64",
         "type": "float"
        },
        {
         "name": "25%",
         "rawType": "float64",
         "type": "float"
        },
        {
         "name": "50%",
         "rawType": "float64",
         "type": "float"
        },
        {
         "name": "75%",
         "rawType": "float64",
         "type": "float"
        },
        {
         "name": "max",
         "rawType": "float64",
         "type": "float"
        }
       ],
       "ref": "f4e02da5-b1a6-4db7-ad40-ab4cbf06e95d",
       "rows": [
        [
         "Unit Price",
         "32140.0",
         "3.9435438705662724",
         "0.4436865141091145",
         "3.25",
         "3.5",
         "4.0",
         "4.25",
         "4.75"
        ],
        [
         "Unit Cost",
         "32763.0",
         "2.572922809266551",
         "0.7417300459578214",
         "1.99",
         "1.99",
         "2.29",
         "2.69",
         "4.09"
        ],
        [
         "Sold Quantity",
         "32675.0",
         "581.9136648814078",
         "418.5052124960321",
         "52.0",
         "290.0",
         "463.0",
         "748.0",
         "2994.0"
        ],
        [
         "Sales",
         "30915.0",
         "2304.6272764030405",
         "1711.7310997915304",
         "182.0",
         "1121.25",
         "1809.0",
         "2968.0",
         "12787.0"
        ],
        [
         "COGS",
         "32573.0",
         "1539.2134863230283",
         "1300.7788105739892",
         "103.48",
         "670.63",
         "1127.11",
         "1969.59",
         "10741.08"
        ],
        [
         "Marketing",
         "33153.0",
         "134.05555847132987",
         "174.10605550572882",
         "2.34",
         "44.55",
         "89.55",
         "153.0",
         "2035.92"
        ],
        [
         "Total Expenses",
         "31384.0",
         "1670.997376051491",
         "1385.6851013683038",
         "105.82",
         "744.8075",
         "1234.88",
         "2139.96",
         "11198.72"
        ],
        [
         "Pre-Sales Inventory",
         "30959.0",
         "855.4367389127556",
         "645.1791229168481",
         "74.0",
         "422.0",
         "663.0",
         "1102.0",
         "5521.0"
        ],
        [
         "Profit",
         "32896.0",
         "630.6703474586576",
         "494.4234625421656",
         "-105.0",
         "294.38749999999993",
         "514.0099999999998",
         "841.0",
         "3092.55"
        ],
        [
         "Margin",
         "30634.0",
         "23.69152673500033",
         "14.039442398313733",
         "-11.96",
         "21.63",
         "27.59",
         "32.66",
         "41.05"
        ],
        [
         "Expected Sales",
         "31217.0",
         "2786.615638914694",
         "2237.570291583425",
         "178.58",
         "1293.39",
         "2116.89",
         "3521.86",
         "19419.74"
        ],
        [
         "Expected COGS",
         "33124.0",
         "1741.2203752566115",
         "1549.036872825032",
         "97.84",
         "730.3325",
         "1237.225",
         "2216.39",
         "14217.09"
        ],
        [
         "Expected Profit",
         "32996.0",
         "1041.6915162443931",
         "867.4664430693775",
         "28.15",
         "472.88",
         "799.835",
         "1321.2775",
         "9184.64"
        ],
        [
         "Expected Margin",
         "30900.0",
         "39.296684789644004",
         "12.193189426224416",
         "8.84",
         "28.84",
         "44.89",
         "48.24",
         "52.23"
        ]
       ],
       "shape": {
        "columns": 8,
        "rows": 14
       }
      },
      "text/html": [
       "<div>\n",
       "<style scoped>\n",
       "    .dataframe tbody tr th:only-of-type {\n",
       "        vertical-align: middle;\n",
       "    }\n",
       "\n",
       "    .dataframe tbody tr th {\n",
       "        vertical-align: top;\n",
       "    }\n",
       "\n",
       "    .dataframe thead th {\n",
       "        text-align: right;\n",
       "    }\n",
       "</style>\n",
       "<table border=\"1\" class=\"dataframe\">\n",
       "  <thead>\n",
       "    <tr style=\"text-align: right;\">\n",
       "      <th></th>\n",
       "      <th>count</th>\n",
       "      <th>mean</th>\n",
       "      <th>std</th>\n",
       "      <th>min</th>\n",
       "      <th>25%</th>\n",
       "      <th>50%</th>\n",
       "      <th>75%</th>\n",
       "      <th>max</th>\n",
       "    </tr>\n",
       "  </thead>\n",
       "  <tbody>\n",
       "    <tr>\n",
       "      <th>Unit Price</th>\n",
       "      <td>32140.0</td>\n",
       "      <td>3.943544</td>\n",
       "      <td>0.443687</td>\n",
       "      <td>3.25</td>\n",
       "      <td>3.5000</td>\n",
       "      <td>4.000</td>\n",
       "      <td>4.2500</td>\n",
       "      <td>4.75</td>\n",
       "    </tr>\n",
       "    <tr>\n",
       "      <th>Unit Cost</th>\n",
       "      <td>32763.0</td>\n",
       "      <td>2.572923</td>\n",
       "      <td>0.741730</td>\n",
       "      <td>1.99</td>\n",
       "      <td>1.9900</td>\n",
       "      <td>2.290</td>\n",
       "      <td>2.6900</td>\n",
       "      <td>4.09</td>\n",
       "    </tr>\n",
       "    <tr>\n",
       "      <th>Sold Quantity</th>\n",
       "      <td>32675.0</td>\n",
       "      <td>581.913665</td>\n",
       "      <td>418.505212</td>\n",
       "      <td>52.00</td>\n",
       "      <td>290.0000</td>\n",
       "      <td>463.000</td>\n",
       "      <td>748.0000</td>\n",
       "      <td>2994.00</td>\n",
       "    </tr>\n",
       "    <tr>\n",
       "      <th>Sales</th>\n",
       "      <td>30915.0</td>\n",
       "      <td>2304.627276</td>\n",
       "      <td>1711.731100</td>\n",
       "      <td>182.00</td>\n",
       "      <td>1121.2500</td>\n",
       "      <td>1809.000</td>\n",
       "      <td>2968.0000</td>\n",
       "      <td>12787.00</td>\n",
       "    </tr>\n",
       "    <tr>\n",
       "      <th>COGS</th>\n",
       "      <td>32573.0</td>\n",
       "      <td>1539.213486</td>\n",
       "      <td>1300.778811</td>\n",
       "      <td>103.48</td>\n",
       "      <td>670.6300</td>\n",
       "      <td>1127.110</td>\n",
       "      <td>1969.5900</td>\n",
       "      <td>10741.08</td>\n",
       "    </tr>\n",
       "    <tr>\n",
       "      <th>Marketing</th>\n",
       "      <td>33153.0</td>\n",
       "      <td>134.055558</td>\n",
       "      <td>174.106056</td>\n",
       "      <td>2.34</td>\n",
       "      <td>44.5500</td>\n",
       "      <td>89.550</td>\n",
       "      <td>153.0000</td>\n",
       "      <td>2035.92</td>\n",
       "    </tr>\n",
       "    <tr>\n",
       "      <th>Total Expenses</th>\n",
       "      <td>31384.0</td>\n",
       "      <td>1670.997376</td>\n",
       "      <td>1385.685101</td>\n",
       "      <td>105.82</td>\n",
       "      <td>744.8075</td>\n",
       "      <td>1234.880</td>\n",
       "      <td>2139.9600</td>\n",
       "      <td>11198.72</td>\n",
       "    </tr>\n",
       "    <tr>\n",
       "      <th>Pre-Sales Inventory</th>\n",
       "      <td>30959.0</td>\n",
       "      <td>855.436739</td>\n",
       "      <td>645.179123</td>\n",
       "      <td>74.00</td>\n",
       "      <td>422.0000</td>\n",
       "      <td>663.000</td>\n",
       "      <td>1102.0000</td>\n",
       "      <td>5521.00</td>\n",
       "    </tr>\n",
       "    <tr>\n",
       "      <th>Profit</th>\n",
       "      <td>32896.0</td>\n",
       "      <td>630.670347</td>\n",
       "      <td>494.423463</td>\n",
       "      <td>-105.00</td>\n",
       "      <td>294.3875</td>\n",
       "      <td>514.010</td>\n",
       "      <td>841.0000</td>\n",
       "      <td>3092.55</td>\n",
       "    </tr>\n",
       "    <tr>\n",
       "      <th>Margin</th>\n",
       "      <td>30634.0</td>\n",
       "      <td>23.691527</td>\n",
       "      <td>14.039442</td>\n",
       "      <td>-11.96</td>\n",
       "      <td>21.6300</td>\n",
       "      <td>27.590</td>\n",
       "      <td>32.6600</td>\n",
       "      <td>41.05</td>\n",
       "    </tr>\n",
       "    <tr>\n",
       "      <th>Expected Sales</th>\n",
       "      <td>31217.0</td>\n",
       "      <td>2786.615639</td>\n",
       "      <td>2237.570292</td>\n",
       "      <td>178.58</td>\n",
       "      <td>1293.3900</td>\n",
       "      <td>2116.890</td>\n",
       "      <td>3521.8600</td>\n",
       "      <td>19419.74</td>\n",
       "    </tr>\n",
       "    <tr>\n",
       "      <th>Expected COGS</th>\n",
       "      <td>33124.0</td>\n",
       "      <td>1741.220375</td>\n",
       "      <td>1549.036873</td>\n",
       "      <td>97.84</td>\n",
       "      <td>730.3325</td>\n",
       "      <td>1237.225</td>\n",
       "      <td>2216.3900</td>\n",
       "      <td>14217.09</td>\n",
       "    </tr>\n",
       "    <tr>\n",
       "      <th>Expected Profit</th>\n",
       "      <td>32996.0</td>\n",
       "      <td>1041.691516</td>\n",
       "      <td>867.466443</td>\n",
       "      <td>28.15</td>\n",
       "      <td>472.8800</td>\n",
       "      <td>799.835</td>\n",
       "      <td>1321.2775</td>\n",
       "      <td>9184.64</td>\n",
       "    </tr>\n",
       "    <tr>\n",
       "      <th>Expected Margin</th>\n",
       "      <td>30900.0</td>\n",
       "      <td>39.296685</td>\n",
       "      <td>12.193189</td>\n",
       "      <td>8.84</td>\n",
       "      <td>28.8400</td>\n",
       "      <td>44.890</td>\n",
       "      <td>48.2400</td>\n",
       "      <td>52.23</td>\n",
       "    </tr>\n",
       "  </tbody>\n",
       "</table>\n",
       "</div>"
      ],
      "text/plain": [
       "                       count         mean          std     min        25%  \\\n",
       "Unit Price           32140.0     3.943544     0.443687    3.25     3.5000   \n",
       "Unit Cost            32763.0     2.572923     0.741730    1.99     1.9900   \n",
       "Sold Quantity        32675.0   581.913665   418.505212   52.00   290.0000   \n",
       "Sales                30915.0  2304.627276  1711.731100  182.00  1121.2500   \n",
       "COGS                 32573.0  1539.213486  1300.778811  103.48   670.6300   \n",
       "Marketing            33153.0   134.055558   174.106056    2.34    44.5500   \n",
       "Total Expenses       31384.0  1670.997376  1385.685101  105.82   744.8075   \n",
       "Pre-Sales Inventory  30959.0   855.436739   645.179123   74.00   422.0000   \n",
       "Profit               32896.0   630.670347   494.423463 -105.00   294.3875   \n",
       "Margin               30634.0    23.691527    14.039442  -11.96    21.6300   \n",
       "Expected Sales       31217.0  2786.615639  2237.570292  178.58  1293.3900   \n",
       "Expected COGS        33124.0  1741.220375  1549.036873   97.84   730.3325   \n",
       "Expected Profit      32996.0  1041.691516   867.466443   28.15   472.8800   \n",
       "Expected Margin      30900.0    39.296685    12.193189    8.84    28.8400   \n",
       "\n",
       "                          50%        75%       max  \n",
       "Unit Price              4.000     4.2500      4.75  \n",
       "Unit Cost               2.290     2.6900      4.09  \n",
       "Sold Quantity         463.000   748.0000   2994.00  \n",
       "Sales                1809.000  2968.0000  12787.00  \n",
       "COGS                 1127.110  1969.5900  10741.08  \n",
       "Marketing              89.550   153.0000   2035.92  \n",
       "Total Expenses       1234.880  2139.9600  11198.72  \n",
       "Pre-Sales Inventory   663.000  1102.0000   5521.00  \n",
       "Profit                514.010   841.0000   3092.55  \n",
       "Margin                 27.590    32.6600     41.05  \n",
       "Expected Sales       2116.890  3521.8600  19419.74  \n",
       "Expected COGS        1237.225  2216.3900  14217.09  \n",
       "Expected Profit       799.835  1321.2775   9184.64  \n",
       "Expected Margin        44.890    48.2400     52.23  "
      ]
     },
     "metadata": {},
     "output_type": "display_data"
    }
   ],
   "source": [
    "# On observe les statistiques générales pour chaque variable.\n",
    "# identifier les valeurs aberrantes et les dispersions anormales.\n",
    "stats = df_fin.describe().T\n",
    "display(stats)"
   ]
  },
  {
   "cell_type": "markdown",
   "id": "428aa63d",
   "metadata": {},
   "source": [
    "## 4️⃣ Nettoyage des colonnes\n"
   ]
  },
  {
   "cell_type": "code",
   "execution_count": 18,
   "id": "eda130d4",
   "metadata": {},
   "outputs": [
    {
     "name": "stdout",
     "output_type": "stream",
     "text": [
      "✅ Colonnes renommées.\n",
      "Avant → Après:\n",
      " - Unit Price  ->  unit_price\n",
      " - Unit Cost  ->  unit_cost\n",
      " - Sold Quantity  ->  sold_quantity\n",
      " - Sales  ->  sales\n",
      " - COGS  ->  cogs\n",
      " - Marketing  ->  marketing\n",
      " - Total Expenses  ->  total_expenses\n",
      " - Pre-Sales Inventory  ->  pre-sales_inventory\n",
      " - Profit  ->  profit\n",
      " - Margin  ->  margin\n",
      " - Expected Sales  ->  expected_sales\n",
      " - Expected COGS  ->  expected_cogs\n",
      " - Expected Profit  ->  expected_profit\n",
      " - Expected Margin  ->  expected_margin\n",
      " - ReportId  ->  reportid\n"
     ]
    }
   ],
   "source": [
    "# - Supprime les caractères parasites (#, espaces)\n",
    "# - Passe en snake_case (minuscule_avec_underscores)\n",
    "def to_sup(c):\n",
    "    return (c.strip()\n",
    "              .replace(\"#\", \"\")\n",
    "              .replace(\"%\", \"pct\")\n",
    "              .replace(\"/\", \"_\")\n",
    "              .replace(\" \", \"_\")\n",
    "              .lower())\n",
    "    \n",
    "    \n",
    "old_cols = df_fin.columns.tolist()\n",
    "df_fin.columns = [to_sup(c) for c in df_fin.columns]\n",
    "print(\"✅ Colonnes renommées.\\nAvant → Après:\")\n",
    "for o, n in zip(old_cols, df_fin.columns):\n",
    "    if o != n:\n",
    "        print(f\" - {o}  ->  {n}\")    "
   ]
  },
  {
   "cell_type": "code",
   "execution_count": 19,
   "id": "24b27e9b",
   "metadata": {},
   "outputs": [
    {
     "name": "stdout",
     "output_type": "stream",
     "text": [
      "✅ Aucune duplication de colonnes.\n"
     ]
    }
   ],
   "source": [
    "\n",
    "# Vérifier s’il reste des doublons de noms de colonnes\n",
    "if pd.Index(df_fin.columns).duplicated().any():\n",
    "    print(\"⚠️ Attention : doublons détectés dans les colonnes.\")\n",
    "else:\n",
    "    print(\"✅ Aucune duplication de colonnes.\")"
   ]
  },
  {
   "cell_type": "code",
   "execution_count": null,
   "id": "8ee6dcc9",
   "metadata": {},
   "outputs": [
    {
     "data": {
      "application/vnd.microsoft.datawrangler.viewer.v0+json": {
       "columns": [
        {
         "name": "index",
         "rawType": "object",
         "type": "string"
        },
        {
         "name": "0",
         "rawType": "int64",
         "type": "integer"
        }
       ],
       "ref": "31dbe33d-df22-4e0b-98e0-511bf2b6811d",
       "rows": [
        [
         "unit_price",
         "1716"
        ],
        [
         "unit_cost",
         "1093"
        ],
        [
         "sold_quantity",
         "1181"
        ],
        [
         "sales",
         "2941"
        ],
        [
         "cogs",
         "1283"
        ],
        [
         "marketing",
         "703"
        ],
        [
         "total_expenses",
         "2472"
        ],
        [
         "pre-sales_inventory",
         "2897"
        ],
        [
         "profit",
         "960"
        ],
        [
         "margin",
         "3222"
        ],
        [
         "expected_sales",
         "2639"
        ],
        [
         "expected_cogs",
         "732"
        ],
        [
         "expected_profit",
         "860"
        ],
        [
         "expected_margin",
         "2956"
        ],
        [
         "reportid",
         "0"
        ]
       ],
       "shape": {
        "columns": 1,
        "rows": 15
       }
      },
      "text/plain": [
       "unit_price             1716\n",
       "unit_cost              1093\n",
       "sold_quantity          1181\n",
       "sales                  2941\n",
       "cogs                   1283\n",
       "marketing               703\n",
       "total_expenses         2472\n",
       "pre-sales_inventory    2897\n",
       "profit                  960\n",
       "margin                 3222\n",
       "expected_sales         2639\n",
       "expected_cogs           732\n",
       "expected_profit         860\n",
       "expected_margin        2956\n",
       "reportid                  0\n",
       "dtype: int64"
      ]
     },
     "execution_count": 20,
     "metadata": {},
     "output_type": "execute_result"
    }
   ],
   "source": [
    "# Vérifier les valeurs manquantes après nettoyage\n",
    "df_fin.isna().sum()"
   ]
  },
  {
   "cell_type": "code",
   "execution_count": null,
   "id": "46aba3b1",
   "metadata": {},
   "outputs": [
    {
     "data": {
      "application/vnd.microsoft.datawrangler.viewer.v0+json": {
       "columns": [
        {
         "name": "index",
         "rawType": "object",
         "type": "string"
        },
        {
         "name": "0",
         "rawType": "int64",
         "type": "integer"
        }
       ],
       "ref": "c6b49fc8-4541-456a-bfe0-205db68ba6f7",
       "rows": [
        [
         "margin",
         "3222"
        ],
        [
         "expected_margin",
         "2956"
        ],
        [
         "sales",
         "2941"
        ],
        [
         "pre-sales_inventory",
         "2897"
        ],
        [
         "expected_sales",
         "2639"
        ],
        [
         "total_expenses",
         "2472"
        ],
        [
         "unit_price",
         "1716"
        ],
        [
         "cogs",
         "1283"
        ],
        [
         "sold_quantity",
         "1181"
        ],
        [
         "unit_cost",
         "1093"
        ],
        [
         "profit",
         "960"
        ],
        [
         "expected_profit",
         "860"
        ],
        [
         "expected_cogs",
         "732"
        ],
        [
         "marketing",
         "703"
        ],
        [
         "reportid",
         "0"
        ]
       ],
       "shape": {
        "columns": 1,
        "rows": 15
       }
      },
      "text/plain": [
       "margin                 3222\n",
       "expected_margin        2956\n",
       "sales                  2941\n",
       "pre-sales_inventory    2897\n",
       "expected_sales         2639\n",
       "total_expenses         2472\n",
       "unit_price             1716\n",
       "cogs                   1283\n",
       "sold_quantity          1181\n",
       "unit_cost              1093\n",
       "profit                  960\n",
       "expected_profit         860\n",
       "expected_cogs           732\n",
       "marketing               703\n",
       "reportid                  0\n",
       "dtype: int64"
      ]
     },
     "execution_count": 21,
     "metadata": {},
     "output_type": "execute_result"
    }
   ],
   "source": [
    "# Afficher les valeurs manquantes triées\n",
    "df_fin.isna().sum().sort_values(ascending=False)\n"
   ]
  },
  {
   "cell_type": "code",
   "execution_count": 23,
   "id": "23c0f80b",
   "metadata": {},
   "outputs": [],
   "source": [
    "# Création d'une copie de sécurité du DataFrame propre\n",
    "df_fin_clean = df_fin.copy()"
   ]
  },
  {
   "cell_type": "markdown",
   "id": "8a56e81e",
   "metadata": {},
   "source": [
    "## 5️⃣ Analyse univariée"
   ]
  },
  {
   "cell_type": "code",
   "execution_count": null,
   "id": "1718aae9",
   "metadata": {},
   "outputs": [
    {
     "data": {
      "application/vnd.microsoft.datawrangler.viewer.v0+json": {
       "columns": [
        {
         "name": "index",
         "rawType": "object",
         "type": "string"
        },
        {
         "name": "count",
         "rawType": "float64",
         "type": "float"
        },
        {
         "name": "mean",
         "rawType": "float64",
         "type": "float"
        },
        {
         "name": "std",
         "rawType": "float64",
         "type": "float"
        },
        {
         "name": "min",
         "rawType": "float64",
         "type": "float"
        },
        {
         "name": "25%",
         "rawType": "float64",
         "type": "float"
        },
        {
         "name": "50%",
         "rawType": "float64",
         "type": "float"
        },
        {
         "name": "75%",
         "rawType": "float64",
         "type": "float"
        },
        {
         "name": "max",
         "rawType": "float64",
         "type": "float"
        }
       ],
       "ref": "a86077fe-6f5e-4407-90fa-cde298230e89",
       "rows": [
        [
         "unit_price",
         "32140.0",
         "3.9435438705662724",
         "0.4436865141091145",
         "3.25",
         "3.5",
         "4.0",
         "4.25",
         "4.75"
        ],
        [
         "unit_cost",
         "32763.0",
         "2.572922809266551",
         "0.7417300459578214",
         "1.99",
         "1.99",
         "2.29",
         "2.69",
         "4.09"
        ],
        [
         "sold_quantity",
         "32675.0",
         "581.9136648814078",
         "418.5052124960321",
         "52.0",
         "290.0",
         "463.0",
         "748.0",
         "2994.0"
        ],
        [
         "sales",
         "30915.0",
         "2304.6272764030405",
         "1711.7310997915304",
         "182.0",
         "1121.25",
         "1809.0",
         "2968.0",
         "12787.0"
        ],
        [
         "cogs",
         "32573.0",
         "1539.2134863230283",
         "1300.7788105739892",
         "103.48",
         "670.63",
         "1127.11",
         "1969.59",
         "10741.08"
        ],
        [
         "marketing",
         "33153.0",
         "134.05555847132987",
         "174.10605550572882",
         "2.34",
         "44.55",
         "89.55",
         "153.0",
         "2035.92"
        ],
        [
         "total_expenses",
         "31384.0",
         "1670.997376051491",
         "1385.6851013683038",
         "105.82",
         "744.8075",
         "1234.88",
         "2139.96",
         "11198.72"
        ],
        [
         "pre-sales_inventory",
         "30959.0",
         "855.4367389127556",
         "645.1791229168481",
         "74.0",
         "422.0",
         "663.0",
         "1102.0",
         "5521.0"
        ],
        [
         "profit",
         "32896.0",
         "630.6703474586576",
         "494.4234625421656",
         "-105.0",
         "294.38749999999993",
         "514.0099999999998",
         "841.0",
         "3092.55"
        ],
        [
         "margin",
         "30634.0",
         "23.69152673500033",
         "14.039442398313733",
         "-11.96",
         "21.63",
         "27.59",
         "32.66",
         "41.05"
        ],
        [
         "expected_sales",
         "31217.0",
         "2786.615638914694",
         "2237.570291583425",
         "178.58",
         "1293.39",
         "2116.89",
         "3521.86",
         "19419.74"
        ],
        [
         "expected_cogs",
         "33124.0",
         "1741.2203752566115",
         "1549.036872825032",
         "97.84",
         "730.3325",
         "1237.225",
         "2216.39",
         "14217.09"
        ],
        [
         "expected_profit",
         "32996.0",
         "1041.6915162443931",
         "867.4664430693775",
         "28.15",
         "472.88",
         "799.835",
         "1321.2775",
         "9184.64"
        ],
        [
         "expected_margin",
         "30900.0",
         "39.296684789644004",
         "12.193189426224416",
         "8.84",
         "28.84",
         "44.89",
         "48.24",
         "52.23"
        ]
       ],
       "shape": {
        "columns": 8,
        "rows": 14
       }
      },
      "text/html": [
       "<div>\n",
       "<style scoped>\n",
       "    .dataframe tbody tr th:only-of-type {\n",
       "        vertical-align: middle;\n",
       "    }\n",
       "\n",
       "    .dataframe tbody tr th {\n",
       "        vertical-align: top;\n",
       "    }\n",
       "\n",
       "    .dataframe thead th {\n",
       "        text-align: right;\n",
       "    }\n",
       "</style>\n",
       "<table border=\"1\" class=\"dataframe\">\n",
       "  <thead>\n",
       "    <tr style=\"text-align: right;\">\n",
       "      <th></th>\n",
       "      <th>count</th>\n",
       "      <th>mean</th>\n",
       "      <th>std</th>\n",
       "      <th>min</th>\n",
       "      <th>25%</th>\n",
       "      <th>50%</th>\n",
       "      <th>75%</th>\n",
       "      <th>max</th>\n",
       "    </tr>\n",
       "  </thead>\n",
       "  <tbody>\n",
       "    <tr>\n",
       "      <th>unit_price</th>\n",
       "      <td>32140.0</td>\n",
       "      <td>3.943544</td>\n",
       "      <td>0.443687</td>\n",
       "      <td>3.25</td>\n",
       "      <td>3.5000</td>\n",
       "      <td>4.000</td>\n",
       "      <td>4.2500</td>\n",
       "      <td>4.75</td>\n",
       "    </tr>\n",
       "    <tr>\n",
       "      <th>unit_cost</th>\n",
       "      <td>32763.0</td>\n",
       "      <td>2.572923</td>\n",
       "      <td>0.741730</td>\n",
       "      <td>1.99</td>\n",
       "      <td>1.9900</td>\n",
       "      <td>2.290</td>\n",
       "      <td>2.6900</td>\n",
       "      <td>4.09</td>\n",
       "    </tr>\n",
       "    <tr>\n",
       "      <th>sold_quantity</th>\n",
       "      <td>32675.0</td>\n",
       "      <td>581.913665</td>\n",
       "      <td>418.505212</td>\n",
       "      <td>52.00</td>\n",
       "      <td>290.0000</td>\n",
       "      <td>463.000</td>\n",
       "      <td>748.0000</td>\n",
       "      <td>2994.00</td>\n",
       "    </tr>\n",
       "    <tr>\n",
       "      <th>sales</th>\n",
       "      <td>30915.0</td>\n",
       "      <td>2304.627276</td>\n",
       "      <td>1711.731100</td>\n",
       "      <td>182.00</td>\n",
       "      <td>1121.2500</td>\n",
       "      <td>1809.000</td>\n",
       "      <td>2968.0000</td>\n",
       "      <td>12787.00</td>\n",
       "    </tr>\n",
       "    <tr>\n",
       "      <th>cogs</th>\n",
       "      <td>32573.0</td>\n",
       "      <td>1539.213486</td>\n",
       "      <td>1300.778811</td>\n",
       "      <td>103.48</td>\n",
       "      <td>670.6300</td>\n",
       "      <td>1127.110</td>\n",
       "      <td>1969.5900</td>\n",
       "      <td>10741.08</td>\n",
       "    </tr>\n",
       "    <tr>\n",
       "      <th>marketing</th>\n",
       "      <td>33153.0</td>\n",
       "      <td>134.055558</td>\n",
       "      <td>174.106056</td>\n",
       "      <td>2.34</td>\n",
       "      <td>44.5500</td>\n",
       "      <td>89.550</td>\n",
       "      <td>153.0000</td>\n",
       "      <td>2035.92</td>\n",
       "    </tr>\n",
       "    <tr>\n",
       "      <th>total_expenses</th>\n",
       "      <td>31384.0</td>\n",
       "      <td>1670.997376</td>\n",
       "      <td>1385.685101</td>\n",
       "      <td>105.82</td>\n",
       "      <td>744.8075</td>\n",
       "      <td>1234.880</td>\n",
       "      <td>2139.9600</td>\n",
       "      <td>11198.72</td>\n",
       "    </tr>\n",
       "    <tr>\n",
       "      <th>pre-sales_inventory</th>\n",
       "      <td>30959.0</td>\n",
       "      <td>855.436739</td>\n",
       "      <td>645.179123</td>\n",
       "      <td>74.00</td>\n",
       "      <td>422.0000</td>\n",
       "      <td>663.000</td>\n",
       "      <td>1102.0000</td>\n",
       "      <td>5521.00</td>\n",
       "    </tr>\n",
       "    <tr>\n",
       "      <th>profit</th>\n",
       "      <td>32896.0</td>\n",
       "      <td>630.670347</td>\n",
       "      <td>494.423463</td>\n",
       "      <td>-105.00</td>\n",
       "      <td>294.3875</td>\n",
       "      <td>514.010</td>\n",
       "      <td>841.0000</td>\n",
       "      <td>3092.55</td>\n",
       "    </tr>\n",
       "    <tr>\n",
       "      <th>margin</th>\n",
       "      <td>30634.0</td>\n",
       "      <td>23.691527</td>\n",
       "      <td>14.039442</td>\n",
       "      <td>-11.96</td>\n",
       "      <td>21.6300</td>\n",
       "      <td>27.590</td>\n",
       "      <td>32.6600</td>\n",
       "      <td>41.05</td>\n",
       "    </tr>\n",
       "    <tr>\n",
       "      <th>expected_sales</th>\n",
       "      <td>31217.0</td>\n",
       "      <td>2786.615639</td>\n",
       "      <td>2237.570292</td>\n",
       "      <td>178.58</td>\n",
       "      <td>1293.3900</td>\n",
       "      <td>2116.890</td>\n",
       "      <td>3521.8600</td>\n",
       "      <td>19419.74</td>\n",
       "    </tr>\n",
       "    <tr>\n",
       "      <th>expected_cogs</th>\n",
       "      <td>33124.0</td>\n",
       "      <td>1741.220375</td>\n",
       "      <td>1549.036873</td>\n",
       "      <td>97.84</td>\n",
       "      <td>730.3325</td>\n",
       "      <td>1237.225</td>\n",
       "      <td>2216.3900</td>\n",
       "      <td>14217.09</td>\n",
       "    </tr>\n",
       "    <tr>\n",
       "      <th>expected_profit</th>\n",
       "      <td>32996.0</td>\n",
       "      <td>1041.691516</td>\n",
       "      <td>867.466443</td>\n",
       "      <td>28.15</td>\n",
       "      <td>472.8800</td>\n",
       "      <td>799.835</td>\n",
       "      <td>1321.2775</td>\n",
       "      <td>9184.64</td>\n",
       "    </tr>\n",
       "    <tr>\n",
       "      <th>expected_margin</th>\n",
       "      <td>30900.0</td>\n",
       "      <td>39.296685</td>\n",
       "      <td>12.193189</td>\n",
       "      <td>8.84</td>\n",
       "      <td>28.8400</td>\n",
       "      <td>44.890</td>\n",
       "      <td>48.2400</td>\n",
       "      <td>52.23</td>\n",
       "    </tr>\n",
       "  </tbody>\n",
       "</table>\n",
       "</div>"
      ],
      "text/plain": [
       "                       count         mean          std     min        25%  \\\n",
       "unit_price           32140.0     3.943544     0.443687    3.25     3.5000   \n",
       "unit_cost            32763.0     2.572923     0.741730    1.99     1.9900   \n",
       "sold_quantity        32675.0   581.913665   418.505212   52.00   290.0000   \n",
       "sales                30915.0  2304.627276  1711.731100  182.00  1121.2500   \n",
       "cogs                 32573.0  1539.213486  1300.778811  103.48   670.6300   \n",
       "marketing            33153.0   134.055558   174.106056    2.34    44.5500   \n",
       "total_expenses       31384.0  1670.997376  1385.685101  105.82   744.8075   \n",
       "pre-sales_inventory  30959.0   855.436739   645.179123   74.00   422.0000   \n",
       "profit               32896.0   630.670347   494.423463 -105.00   294.3875   \n",
       "margin               30634.0    23.691527    14.039442  -11.96    21.6300   \n",
       "expected_sales       31217.0  2786.615639  2237.570292  178.58  1293.3900   \n",
       "expected_cogs        33124.0  1741.220375  1549.036873   97.84   730.3325   \n",
       "expected_profit      32996.0  1041.691516   867.466443   28.15   472.8800   \n",
       "expected_margin      30900.0    39.296685    12.193189    8.84    28.8400   \n",
       "\n",
       "                          50%        75%       max  \n",
       "unit_price              4.000     4.2500      4.75  \n",
       "unit_cost               2.290     2.6900      4.09  \n",
       "sold_quantity         463.000   748.0000   2994.00  \n",
       "sales                1809.000  2968.0000  12787.00  \n",
       "cogs                 1127.110  1969.5900  10741.08  \n",
       "marketing              89.550   153.0000   2035.92  \n",
       "total_expenses       1234.880  2139.9600  11198.72  \n",
       "pre-sales_inventory   663.000  1102.0000   5521.00  \n",
       "profit                514.010   841.0000   3092.55  \n",
       "margin                 27.590    32.6600     41.05  \n",
       "expected_sales       2116.890  3521.8600  19419.74  \n",
       "expected_cogs        1237.225  2216.3900  14217.09  \n",
       "expected_profit       799.835  1321.2775   9184.64  \n",
       "expected_margin        44.890    48.2400     52.23  "
      ]
     },
     "metadata": {},
     "output_type": "display_data"
    }
   ],
   "source": [
    "#  les stats principales : moyenne, médiane, min, max, etc.\n",
    "stats = df_fin_clean.describe().T\n",
    "display(stats)\n",
    "\n"
   ]
  },
  {
   "cell_type": "code",
   "execution_count": 25,
   "id": "2cad8785",
   "metadata": {},
   "outputs": [
    {
     "data": {
      "image/png": "[encoded data removed]",
      "text/plain": [
       "<Figure size 1200x800 with 6 Axes>"
      ]
     },
     "metadata": {},
     "output_type": "display_data"
    }
   ],
   "source": [
    "# Permet de visualiser la répartition des valeurs de chaque variable clé.\n",
    "cols_to_plot = [\"sales\", \"profit\", \"margin\", \"cogs\", \"marketing\", \"total_expenses\"]\n",
    "\n",
    "df_fin_clean[cols_to_plot].hist(\n",
    "    bins=30, figsize=(12, 8), edgecolor='black', color='#1f77b4'\n",
    ")\n",
    "plt.suptitle(\"Distribution des variables financières\", fontsize=14)\n",
    "plt.show()"
   ]
  },
  {
   "cell_type": "code",
   "execution_count": 26,
   "id": "d6119251",
   "metadata": {},
   "outputs": [
    {
     "data": {
      "image/png": "[encoded data removed]",
      "text/plain": [
       "<Figure size 1000x600 with 1 Axes>"
      ]
     },
     "metadata": {},
     "output_type": "display_data"
    }
   ],
   "source": [
    "#  Boxplots \n",
    "plt.figure(figsize=(10, 6))\n",
    "sns.boxplot(data=df_fin_clean[cols_to_plot], orient=\"h\", palette=\"Set2\")\n",
    "plt.title(\"Détection d'outliers sur les indicateurs financiers\", fontsize=14)\n",
    "plt.show()"
   ]
  },
  {
   "cell_type": "code",
   "execution_count": 27,
   "id": "8b158e16",
   "metadata": {},
   "outputs": [
    {
     "data": {
      "image/png": "[encoded data removed]",
      "text/plain": [
       "<Figure size 1000x600 with 1 Axes>"
      ]
     },
     "metadata": {},
     "output_type": "display_data"
    }
   ],
   "source": [
    "# Densité distribution lissée\n",
    "plt.figure(figsize=(10, 6))\n",
    "for c in [\"sales\", \"profit\", \"margin\"]:\n",
    "    sns.kdeplot(df_fin_clean[c], label=c, fill=True, alpha=0.4)\n",
    "plt.title(\"Courbes de densité — Comparaison des distributions clés\", fontsize=14)\n",
    "plt.legend()\n",
    "plt.show()"
   ]
  },
  {
   "cell_type": "markdown",
   "id": "ead94ca6",
   "metadata": {},
   "source": [
    "### Étape 5 — Analyse univariée (Résumé)\n",
    "- Variables fortement asymétriques : Sales, Profit, COGS, Total_Expenses\n",
    "- Présence d’outliers significatifs : Sales, Marketing, Profit\n",
    "- Margins négatifs → ventes à perte détectées\n",
    "- Hypothèse : les magasins les plus rentables compensent une majorité faiblement performante\n",
    "→ Étape suivante : Analyse bivariée (corrélation entre indicateurs financiers)\n"
   ]
  },
  {
   "cell_type": "markdown",
   "id": "c7b7a3ff",
   "metadata": {},
   "source": [
    "## 6️⃣ Corrélations"
   ]
  },
  {
   "cell_type": "code",
   "execution_count": null,
   "id": "be4d8874",
   "metadata": {},
   "outputs": [],
   "source": []
  },
  {
   "cell_type": "markdown",
   "id": "4b565ec1",
   "metadata": {},
   "source": [
    "## 7️⃣ Création des KPI de base"
   ]
  },
  {
   "cell_type": "code",
   "execution_count": null,
   "id": "d816bd91",
   "metadata": {},
   "outputs": [],
   "source": []
  },
  {
   "cell_type": "markdown",
   "id": "a37ca872",
   "metadata": {},
   "source": [
    "## 8️⃣ Sauvegarde du dataset propre"
   ]
  },
  {
   "cell_type": "code",
   "execution_count": null,
   "id": "0357dccb",
   "metadata": {},
   "outputs": [],
   "source": []
  },
  {
   "cell_type": "markdown",
   "id": "48e9f715",
   "metadata": {},
   "source": [
    "## 9️⃣ Notes et Insights"
   ]
  },
  {
   "cell_type": "code",
   "execution_count": null,
   "id": "e00e3fc2",
   "metadata": {},
   "outputs": [],
   "source": []
  }
 ],
 "metadata": {
  "kernelspec": {
   "display_name": "base",
   "language": "python",
   "name": "python3"
  },
  "language_info": {
   "codemirror_mode": {
    "name": "ipython",
    "version": 3
   },
   "file_extension": ".py",
   "mimetype": "text/x-python",
   "name": "python",
   "nbconvert_exporter": "python",
   "pygments_lexer": "ipython3",
   "version": "3.12.7"
  }
 },
 "nbformat": 4,
 "nbformat_minor": 5
}
