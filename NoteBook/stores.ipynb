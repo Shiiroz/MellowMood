{
 "cells": [
  {
   "cell_type": "markdown",
   "id": "780347a5",
   "metadata": {},
   "source": [
    "## 1️⃣ Import des librairies"
   ]
  },
  {
   "cell_type": "code",
   "execution_count": 1,
   "id": "9c0ea1ea",
   "metadata": {},
   "outputs": [],
   "source": [
    "import pandas as pd\n",
    "import numpy as np\n",
    "import matplotlib.pyplot as plt\n",
    "import seaborn as sns"
   ]
  },
  {
   "cell_type": "markdown",
   "id": "e6f9f289",
   "metadata": {},
   "source": [
    "## 2️⃣ Chargement du dataset"
   ]
  },
  {
   "cell_type": "code",
   "execution_count": 7,
   "id": "dc621094",
   "metadata": {},
   "outputs": [],
   "source": [
    "df_sto = pd.read_csv('../data/df_mm_stores_details.csv')\n"
   ]
  },
  {
   "cell_type": "code",
   "execution_count": 5,
   "id": "d0d5aae5",
   "metadata": {},
   "outputs": [
    {
     "data": {
      "application/vnd.microsoft.datawrangler.viewer.v0+json": {
       "columns": [
        {
         "name": "index",
         "rawType": "int64",
         "type": "integer"
        },
        {
         "name": "Quarter",
         "rawType": "object",
         "type": "unknown"
        },
        {
         "name": "StoreId",
         "rawType": "object",
         "type": "string"
        },
        {
         "name": "State",
         "rawType": "object",
         "type": "string"
        },
        {
         "name": "Position",
         "rawType": "object",
         "type": "string"
        },
        {
         "name": "Market",
         "rawType": "object",
         "type": "string"
        },
        {
         "name": "ProdId",
         "rawType": "object",
         "type": "unknown"
        },
        {
         "name": "Product",
         "rawType": "object",
         "type": "string"
        },
        {
         "name": "Type",
         "rawType": "object",
         "type": "string"
        },
        {
         "name": "ReportId",
         "rawType": "object",
         "type": "string"
        }
       ],
       "ref": "fb5d49d8-06d3-4b43-8fa7-6c553f48a687",
       "rows": [
        [
         "0",
         null,
         "Los Angeles - Sunset Boulevard",
         "California",
         "West",
         "Large Market",
         "1_Co",
         "Amaretto",
         "Coffee",
         "JB578CJ"
        ],
        [
         "1",
         "2023-04-01",
         "Los Angeles - Sunset Boulevard",
         "California",
         "West",
         "Large Market",
         null,
         "Amaretto",
         "Coffee",
         "UZ650HV"
        ],
        [
         "2",
         "2023-07-01",
         "Los Angeles - Sunset Boulevard",
         "California",
         "West",
         "Large Market",
         "1_Co",
         "Amaretto",
         "Coffee",
         "VB278N7"
        ],
        [
         "3",
         "2023-10-01",
         "Los Angeles - Sunset Boulevard",
         "California",
         "West",
         "Large Market",
         "1_Co",
         "Amaretto",
         "Coffee",
         "TL8282Y"
        ],
        [
         "4",
         "2023-01-01",
         "Los Angeles - Hollywood Boulevard",
         "California",
         "West",
         "Large Market",
         "1_Co",
         "Amaretto",
         "Coffee",
         "FB512II"
        ]
       ],
       "shape": {
        "columns": 9,
        "rows": 5
       }
      },
      "text/html": [
       "<div>\n",
       "<style scoped>\n",
       "    .dataframe tbody tr th:only-of-type {\n",
       "        vertical-align: middle;\n",
       "    }\n",
       "\n",
       "    .dataframe tbody tr th {\n",
       "        vertical-align: top;\n",
       "    }\n",
       "\n",
       "    .dataframe thead th {\n",
       "        text-align: right;\n",
       "    }\n",
       "</style>\n",
       "<table border=\"1\" class=\"dataframe\">\n",
       "  <thead>\n",
       "    <tr style=\"text-align: right;\">\n",
       "      <th></th>\n",
       "      <th>Quarter</th>\n",
       "      <th>StoreId</th>\n",
       "      <th>State</th>\n",
       "      <th>Position</th>\n",
       "      <th>Market</th>\n",
       "      <th>ProdId</th>\n",
       "      <th>Product</th>\n",
       "      <th>Type</th>\n",
       "      <th>ReportId</th>\n",
       "    </tr>\n",
       "  </thead>\n",
       "  <tbody>\n",
       "    <tr>\n",
       "      <th>0</th>\n",
       "      <td>NaN</td>\n",
       "      <td>Los Angeles - Sunset Boulevard</td>\n",
       "      <td>California</td>\n",
       "      <td>West</td>\n",
       "      <td>Large Market</td>\n",
       "      <td>1_Co</td>\n",
       "      <td>Amaretto</td>\n",
       "      <td>Coffee</td>\n",
       "      <td>JB578CJ</td>\n",
       "    </tr>\n",
       "    <tr>\n",
       "      <th>1</th>\n",
       "      <td>2023-04-01</td>\n",
       "      <td>Los Angeles - Sunset Boulevard</td>\n",
       "      <td>California</td>\n",
       "      <td>West</td>\n",
       "      <td>Large Market</td>\n",
       "      <td>NaN</td>\n",
       "      <td>Amaretto</td>\n",
       "      <td>Coffee</td>\n",
       "      <td>UZ650HV</td>\n",
       "    </tr>\n",
       "    <tr>\n",
       "      <th>2</th>\n",
       "      <td>2023-07-01</td>\n",
       "      <td>Los Angeles - Sunset Boulevard</td>\n",
       "      <td>California</td>\n",
       "      <td>West</td>\n",
       "      <td>Large Market</td>\n",
       "      <td>1_Co</td>\n",
       "      <td>Amaretto</td>\n",
       "      <td>Coffee</td>\n",
       "      <td>VB278N7</td>\n",
       "    </tr>\n",
       "    <tr>\n",
       "      <th>3</th>\n",
       "      <td>2023-10-01</td>\n",
       "      <td>Los Angeles - Sunset Boulevard</td>\n",
       "      <td>California</td>\n",
       "      <td>West</td>\n",
       "      <td>Large Market</td>\n",
       "      <td>1_Co</td>\n",
       "      <td>Amaretto</td>\n",
       "      <td>Coffee</td>\n",
       "      <td>TL8282Y</td>\n",
       "    </tr>\n",
       "    <tr>\n",
       "      <th>4</th>\n",
       "      <td>2023-01-01</td>\n",
       "      <td>Los Angeles - Hollywood Boulevard</td>\n",
       "      <td>California</td>\n",
       "      <td>West</td>\n",
       "      <td>Large Market</td>\n",
       "      <td>1_Co</td>\n",
       "      <td>Amaretto</td>\n",
       "      <td>Coffee</td>\n",
       "      <td>FB512II</td>\n",
       "    </tr>\n",
       "  </tbody>\n",
       "</table>\n",
       "</div>"
      ],
      "text/plain": [
       "      Quarter                            StoreId       State Position  \\\n",
       "0         NaN     Los Angeles - Sunset Boulevard  California     West   \n",
       "1  2023-04-01     Los Angeles - Sunset Boulevard  California     West   \n",
       "2  2023-07-01     Los Angeles - Sunset Boulevard  California     West   \n",
       "3  2023-10-01     Los Angeles - Sunset Boulevard  California     West   \n",
       "4  2023-01-01  Los Angeles - Hollywood Boulevard  California     West   \n",
       "\n",
       "         Market ProdId   Product    Type ReportId  \n",
       "0  Large Market   1_Co  Amaretto  Coffee  JB578CJ  \n",
       "1  Large Market    NaN  Amaretto  Coffee  UZ650HV  \n",
       "2  Large Market   1_Co  Amaretto  Coffee  VB278N7  \n",
       "3  Large Market   1_Co  Amaretto  Coffee  TL8282Y  \n",
       "4  Large Market   1_Co  Amaretto  Coffee  FB512II  "
      ]
     },
     "execution_count": 5,
     "metadata": {},
     "output_type": "execute_result"
    }
   ],
   "source": [
    "# Création d'une copie du DataFrame \n",
    "df_sto_copy = df_sto.copy()  # pour garder une version originale intacte\n",
    "df_sto_copy.head()"
   ]
  },
  {
   "cell_type": "code",
   "execution_count": 8,
   "id": "16601878",
   "metadata": {},
   "outputs": [
    {
     "name": "stdout",
     "output_type": "stream",
     "text": [
      "Dimensions : (33856, 9)\n"
     ]
    },
    {
     "data": {
      "application/vnd.microsoft.datawrangler.viewer.v0+json": {
       "columns": [
        {
         "name": "index",
         "rawType": "int64",
         "type": "integer"
        },
        {
         "name": "Quarter",
         "rawType": "object",
         "type": "unknown"
        },
        {
         "name": "StoreId",
         "rawType": "object",
         "type": "string"
        },
        {
         "name": "State",
         "rawType": "object",
         "type": "string"
        },
        {
         "name": "Position",
         "rawType": "object",
         "type": "string"
        },
        {
         "name": "Market",
         "rawType": "object",
         "type": "string"
        },
        {
         "name": "ProdId",
         "rawType": "object",
         "type": "unknown"
        },
        {
         "name": "Product",
         "rawType": "object",
         "type": "string"
        },
        {
         "name": "Type",
         "rawType": "object",
         "type": "string"
        },
        {
         "name": "ReportId",
         "rawType": "object",
         "type": "string"
        }
       ],
       "ref": "0a75e0d5-13ab-4733-8437-fcb70ee633a7",
       "rows": [
        [
         "0",
         null,
         "Los Angeles - Sunset Boulevard",
         "California",
         "West",
         "Large Market",
         "1_Co",
         "Amaretto",
         "Coffee",
         "JB578CJ"
        ],
        [
         "1",
         "2023-04-01",
         "Los Angeles - Sunset Boulevard",
         "California",
         "West",
         "Large Market",
         null,
         "Amaretto",
         "Coffee",
         "UZ650HV"
        ],
        [
         "2",
         "2023-07-01",
         "Los Angeles - Sunset Boulevard",
         "California",
         "West",
         "Large Market",
         "1_Co",
         "Amaretto",
         "Coffee",
         "VB278N7"
        ],
        [
         "3",
         "2023-10-01",
         "Los Angeles - Sunset Boulevard",
         "California",
         "West",
         "Large Market",
         "1_Co",
         "Amaretto",
         "Coffee",
         "TL8282Y"
        ],
        [
         "4",
         "2023-01-01",
         "Los Angeles - Hollywood Boulevard",
         "California",
         "West",
         "Large Market",
         "1_Co",
         "Amaretto",
         "Coffee",
         "FB512II"
        ]
       ],
       "shape": {
        "columns": 9,
        "rows": 5
       }
      },
      "text/html": [
       "<div>\n",
       "<style scoped>\n",
       "    .dataframe tbody tr th:only-of-type {\n",
       "        vertical-align: middle;\n",
       "    }\n",
       "\n",
       "    .dataframe tbody tr th {\n",
       "        vertical-align: top;\n",
       "    }\n",
       "\n",
       "    .dataframe thead th {\n",
       "        text-align: right;\n",
       "    }\n",
       "</style>\n",
       "<table border=\"1\" class=\"dataframe\">\n",
       "  <thead>\n",
       "    <tr style=\"text-align: right;\">\n",
       "      <th></th>\n",
       "      <th>Quarter</th>\n",
       "      <th>StoreId</th>\n",
       "      <th>State</th>\n",
       "      <th>Position</th>\n",
       "      <th>Market</th>\n",
       "      <th>ProdId</th>\n",
       "      <th>Product</th>\n",
       "      <th>Type</th>\n",
       "      <th>ReportId</th>\n",
       "    </tr>\n",
       "  </thead>\n",
       "  <tbody>\n",
       "    <tr>\n",
       "      <th>0</th>\n",
       "      <td>NaN</td>\n",
       "      <td>Los Angeles - Sunset Boulevard</td>\n",
       "      <td>California</td>\n",
       "      <td>West</td>\n",
       "      <td>Large Market</td>\n",
       "      <td>1_Co</td>\n",
       "      <td>Amaretto</td>\n",
       "      <td>Coffee</td>\n",
       "      <td>JB578CJ</td>\n",
       "    </tr>\n",
       "    <tr>\n",
       "      <th>1</th>\n",
       "      <td>2023-04-01</td>\n",
       "      <td>Los Angeles - Sunset Boulevard</td>\n",
       "      <td>California</td>\n",
       "      <td>West</td>\n",
       "      <td>Large Market</td>\n",
       "      <td>NaN</td>\n",
       "      <td>Amaretto</td>\n",
       "      <td>Coffee</td>\n",
       "      <td>UZ650HV</td>\n",
       "    </tr>\n",
       "    <tr>\n",
       "      <th>2</th>\n",
       "      <td>2023-07-01</td>\n",
       "      <td>Los Angeles - Sunset Boulevard</td>\n",
       "      <td>California</td>\n",
       "      <td>West</td>\n",
       "      <td>Large Market</td>\n",
       "      <td>1_Co</td>\n",
       "      <td>Amaretto</td>\n",
       "      <td>Coffee</td>\n",
       "      <td>VB278N7</td>\n",
       "    </tr>\n",
       "    <tr>\n",
       "      <th>3</th>\n",
       "      <td>2023-10-01</td>\n",
       "      <td>Los Angeles - Sunset Boulevard</td>\n",
       "      <td>California</td>\n",
       "      <td>West</td>\n",
       "      <td>Large Market</td>\n",
       "      <td>1_Co</td>\n",
       "      <td>Amaretto</td>\n",
       "      <td>Coffee</td>\n",
       "      <td>TL8282Y</td>\n",
       "    </tr>\n",
       "    <tr>\n",
       "      <th>4</th>\n",
       "      <td>2023-01-01</td>\n",
       "      <td>Los Angeles - Hollywood Boulevard</td>\n",
       "      <td>California</td>\n",
       "      <td>West</td>\n",
       "      <td>Large Market</td>\n",
       "      <td>1_Co</td>\n",
       "      <td>Amaretto</td>\n",
       "      <td>Coffee</td>\n",
       "      <td>FB512II</td>\n",
       "    </tr>\n",
       "  </tbody>\n",
       "</table>\n",
       "</div>"
      ],
      "text/plain": [
       "      Quarter                            StoreId       State Position  \\\n",
       "0         NaN     Los Angeles - Sunset Boulevard  California     West   \n",
       "1  2023-04-01     Los Angeles - Sunset Boulevard  California     West   \n",
       "2  2023-07-01     Los Angeles - Sunset Boulevard  California     West   \n",
       "3  2023-10-01     Los Angeles - Sunset Boulevard  California     West   \n",
       "4  2023-01-01  Los Angeles - Hollywood Boulevard  California     West   \n",
       "\n",
       "         Market ProdId   Product    Type ReportId  \n",
       "0  Large Market   1_Co  Amaretto  Coffee  JB578CJ  \n",
       "1  Large Market    NaN  Amaretto  Coffee  UZ650HV  \n",
       "2  Large Market   1_Co  Amaretto  Coffee  VB278N7  \n",
       "3  Large Market   1_Co  Amaretto  Coffee  TL8282Y  \n",
       "4  Large Market   1_Co  Amaretto  Coffee  FB512II  "
      ]
     },
     "execution_count": 8,
     "metadata": {},
     "output_type": "execute_result"
    }
   ],
   "source": [
    "# Aperçu rapide\n",
    "print(\"Dimensions :\", df_sto.shape)\n",
    "df_sto.head()"
   ]
  },
  {
   "cell_type": "code",
   "execution_count": 9,
   "id": "21c70bbf",
   "metadata": {},
   "outputs": [
    {
     "name": "stdout",
     "output_type": "stream",
     "text": [
      "<class 'pandas.core.frame.DataFrame'>\n",
      "RangeIndex: 33856 entries, 0 to 33855\n",
      "Data columns (total 9 columns):\n",
      " #   Column    Non-Null Count  Dtype \n",
      "---  ------    --------------  ----- \n",
      " 0   Quarter   32680 non-null  object\n",
      " 1   StoreId   32343 non-null  object\n",
      " 2   State     33189 non-null  object\n",
      " 3   Position  32713 non-null  object\n",
      " 4   Market    31789 non-null  object\n",
      " 5   ProdId    32104 non-null  object\n",
      " 6   Product   30761 non-null  object\n",
      " 7   Type      31021 non-null  object\n",
      " 8   ReportId  33856 non-null  object\n",
      "dtypes: object(9)\n",
      "memory usage: 2.3+ MB\n"
     ]
    },
    {
     "data": {
      "application/vnd.microsoft.datawrangler.viewer.v0+json": {
       "columns": [
        {
         "name": "index",
         "rawType": "object",
         "type": "string"
        },
        {
         "name": "Quarter",
         "rawType": "object",
         "type": "unknown"
        },
        {
         "name": "StoreId",
         "rawType": "object",
         "type": "unknown"
        },
        {
         "name": "State",
         "rawType": "object",
         "type": "unknown"
        },
        {
         "name": "Position",
         "rawType": "object",
         "type": "unknown"
        },
        {
         "name": "Market",
         "rawType": "object",
         "type": "unknown"
        },
        {
         "name": "ProdId",
         "rawType": "object",
         "type": "unknown"
        },
        {
         "name": "Product",
         "rawType": "object",
         "type": "unknown"
        },
        {
         "name": "Type",
         "rawType": "object",
         "type": "unknown"
        },
        {
         "name": "ReportId",
         "rawType": "object",
         "type": "unknown"
        }
       ],
       "ref": "f429f0fc-a407-4d8a-bbb4-10d0f5ac0a88",
       "rows": [
        [
         "count",
         "32680",
         "32343",
         "33189",
         "32713",
         "31789",
         "32104",
         "30761",
         "31021",
         "33856"
        ],
        [
         "unique",
         "4",
         "795",
         "20",
         "4",
         "3",
         "13",
         "13",
         "2",
         "33855"
        ],
        [
         "top",
         "2023-04-01",
         "Wilsonville - SW Wilsonville Road",
         "Utah",
         "West",
         "Medium Market",
         "10_Te",
         "Caffe Mocha",
         "Coffee",
         "LL99883"
        ],
        [
         "freq",
         "8173",
         "52",
         "2247",
         "12278",
         "15109",
         "2630",
         "2521",
         "16416",
         "2"
        ]
       ],
       "shape": {
        "columns": 9,
        "rows": 4
       }
      },
      "text/html": [
       "<div>\n",
       "<style scoped>\n",
       "    .dataframe tbody tr th:only-of-type {\n",
       "        vertical-align: middle;\n",
       "    }\n",
       "\n",
       "    .dataframe tbody tr th {\n",
       "        vertical-align: top;\n",
       "    }\n",
       "\n",
       "    .dataframe thead th {\n",
       "        text-align: right;\n",
       "    }\n",
       "</style>\n",
       "<table border=\"1\" class=\"dataframe\">\n",
       "  <thead>\n",
       "    <tr style=\"text-align: right;\">\n",
       "      <th></th>\n",
       "      <th>Quarter</th>\n",
       "      <th>StoreId</th>\n",
       "      <th>State</th>\n",
       "      <th>Position</th>\n",
       "      <th>Market</th>\n",
       "      <th>ProdId</th>\n",
       "      <th>Product</th>\n",
       "      <th>Type</th>\n",
       "      <th>ReportId</th>\n",
       "    </tr>\n",
       "  </thead>\n",
       "  <tbody>\n",
       "    <tr>\n",
       "      <th>count</th>\n",
       "      <td>32680</td>\n",
       "      <td>32343</td>\n",
       "      <td>33189</td>\n",
       "      <td>32713</td>\n",
       "      <td>31789</td>\n",
       "      <td>32104</td>\n",
       "      <td>30761</td>\n",
       "      <td>31021</td>\n",
       "      <td>33856</td>\n",
       "    </tr>\n",
       "    <tr>\n",
       "      <th>unique</th>\n",
       "      <td>4</td>\n",
       "      <td>795</td>\n",
       "      <td>20</td>\n",
       "      <td>4</td>\n",
       "      <td>3</td>\n",
       "      <td>13</td>\n",
       "      <td>13</td>\n",
       "      <td>2</td>\n",
       "      <td>33855</td>\n",
       "    </tr>\n",
       "    <tr>\n",
       "      <th>top</th>\n",
       "      <td>2023-04-01</td>\n",
       "      <td>Wilsonville - SW Wilsonville Road</td>\n",
       "      <td>Utah</td>\n",
       "      <td>West</td>\n",
       "      <td>Medium Market</td>\n",
       "      <td>10_Te</td>\n",
       "      <td>Caffe Mocha</td>\n",
       "      <td>Coffee</td>\n",
       "      <td>LL99883</td>\n",
       "    </tr>\n",
       "    <tr>\n",
       "      <th>freq</th>\n",
       "      <td>8173</td>\n",
       "      <td>52</td>\n",
       "      <td>2247</td>\n",
       "      <td>12278</td>\n",
       "      <td>15109</td>\n",
       "      <td>2630</td>\n",
       "      <td>2521</td>\n",
       "      <td>16416</td>\n",
       "      <td>2</td>\n",
       "    </tr>\n",
       "  </tbody>\n",
       "</table>\n",
       "</div>"
      ],
      "text/plain": [
       "           Quarter                            StoreId  State Position  \\\n",
       "count        32680                              32343  33189    32713   \n",
       "unique           4                                795     20        4   \n",
       "top     2023-04-01  Wilsonville - SW Wilsonville Road   Utah     West   \n",
       "freq          8173                                 52   2247    12278   \n",
       "\n",
       "               Market ProdId      Product    Type ReportId  \n",
       "count           31789  32104        30761   31021    33856  \n",
       "unique              3     13           13       2    33855  \n",
       "top     Medium Market  10_Te  Caffe Mocha  Coffee  LL99883  \n",
       "freq            15109   2630         2521   16416        2  "
      ]
     },
     "execution_count": 9,
     "metadata": {},
     "output_type": "execute_result"
    }
   ],
   "source": [
    "# Statistiques descriptives\n",
    "df_sto.info()\n",
    "df_sto.describe()"
   ]
  },
  {
   "cell_type": "code",
   "execution_count": 10,
   "id": "bc60f4bb",
   "metadata": {},
   "outputs": [
    {
     "data": {
      "application/vnd.microsoft.datawrangler.viewer.v0+json": {
       "columns": [
        {
         "name": "index",
         "rawType": "int64",
         "type": "integer"
        },
        {
         "name": "Quarter",
         "rawType": "object",
         "type": "string"
        },
        {
         "name": "StoreId",
         "rawType": "object",
         "type": "string"
        },
        {
         "name": "State",
         "rawType": "object",
         "type": "string"
        },
        {
         "name": "Position",
         "rawType": "object",
         "type": "string"
        },
        {
         "name": "Market",
         "rawType": "object",
         "type": "string"
        },
        {
         "name": "ProdId",
         "rawType": "object",
         "type": "string"
        },
        {
         "name": "Product",
         "rawType": "object",
         "type": "string"
        },
        {
         "name": "Type",
         "rawType": "object",
         "type": "string"
        },
        {
         "name": "ReportId",
         "rawType": "object",
         "type": "string"
        }
       ],
       "ref": "1e71c1fb-3d25-4550-8898-6092b2cbc3cc",
       "rows": [
        [
         "9394",
         "2023-07-01",
         "Reynoldsburg - Main Street",
         "Ohio",
         "East",
         "Medium Market",
         "5_Te",
         "Chamomile",
         "Tea",
         "DY475CF"
        ],
        [
         "12520",
         "2023-01-01",
         "Plano - Legacy Drive",
         "Texas",
         "South",
         "Large Market",
         "3_Co",
         "Columbian",
         "Coffee",
         "SS090XQ"
        ],
        [
         "33036",
         "2023-01-01",
         "Canton - Market Avenue",
         "Ohio",
         "East",
         "Medium Market",
         "12_Co",
         "Regular Espresso",
         "Coffee",
         "TT318I7"
        ],
        [
         "31033",
         "2023-04-01",
         "Riverton - 13400 South",
         "Utah",
         "West",
         "Small Market",
         "2_Te",
         "Mint",
         "Tea",
         "OP4189D"
        ],
        [
         "31674",
         "2023-07-01",
         "Brighton - Historic Downtown Brighton",
         "Colorado",
         "West",
         "Medium Market",
         "12_Co",
         "Regular Espresso",
         "Coffee",
         "XG401M7"
        ]
       ],
       "shape": {
        "columns": 9,
        "rows": 5
       }
      },
      "text/html": [
       "<div>\n",
       "<style scoped>\n",
       "    .dataframe tbody tr th:only-of-type {\n",
       "        vertical-align: middle;\n",
       "    }\n",
       "\n",
       "    .dataframe tbody tr th {\n",
       "        vertical-align: top;\n",
       "    }\n",
       "\n",
       "    .dataframe thead th {\n",
       "        text-align: right;\n",
       "    }\n",
       "</style>\n",
       "<table border=\"1\" class=\"dataframe\">\n",
       "  <thead>\n",
       "    <tr style=\"text-align: right;\">\n",
       "      <th></th>\n",
       "      <th>Quarter</th>\n",
       "      <th>StoreId</th>\n",
       "      <th>State</th>\n",
       "      <th>Position</th>\n",
       "      <th>Market</th>\n",
       "      <th>ProdId</th>\n",
       "      <th>Product</th>\n",
       "      <th>Type</th>\n",
       "      <th>ReportId</th>\n",
       "    </tr>\n",
       "  </thead>\n",
       "  <tbody>\n",
       "    <tr>\n",
       "      <th>9394</th>\n",
       "      <td>2023-07-01</td>\n",
       "      <td>Reynoldsburg - Main Street</td>\n",
       "      <td>Ohio</td>\n",
       "      <td>East</td>\n",
       "      <td>Medium Market</td>\n",
       "      <td>5_Te</td>\n",
       "      <td>Chamomile</td>\n",
       "      <td>Tea</td>\n",
       "      <td>DY475CF</td>\n",
       "    </tr>\n",
       "    <tr>\n",
       "      <th>12520</th>\n",
       "      <td>2023-01-01</td>\n",
       "      <td>Plano - Legacy Drive</td>\n",
       "      <td>Texas</td>\n",
       "      <td>South</td>\n",
       "      <td>Large Market</td>\n",
       "      <td>3_Co</td>\n",
       "      <td>Columbian</td>\n",
       "      <td>Coffee</td>\n",
       "      <td>SS090XQ</td>\n",
       "    </tr>\n",
       "    <tr>\n",
       "      <th>33036</th>\n",
       "      <td>2023-01-01</td>\n",
       "      <td>Canton - Market Avenue</td>\n",
       "      <td>Ohio</td>\n",
       "      <td>East</td>\n",
       "      <td>Medium Market</td>\n",
       "      <td>12_Co</td>\n",
       "      <td>Regular Espresso</td>\n",
       "      <td>Coffee</td>\n",
       "      <td>TT318I7</td>\n",
       "    </tr>\n",
       "    <tr>\n",
       "      <th>31033</th>\n",
       "      <td>2023-04-01</td>\n",
       "      <td>Riverton - 13400 South</td>\n",
       "      <td>Utah</td>\n",
       "      <td>West</td>\n",
       "      <td>Small Market</td>\n",
       "      <td>2_Te</td>\n",
       "      <td>Mint</td>\n",
       "      <td>Tea</td>\n",
       "      <td>OP4189D</td>\n",
       "    </tr>\n",
       "    <tr>\n",
       "      <th>31674</th>\n",
       "      <td>2023-07-01</td>\n",
       "      <td>Brighton - Historic Downtown Brighton</td>\n",
       "      <td>Colorado</td>\n",
       "      <td>West</td>\n",
       "      <td>Medium Market</td>\n",
       "      <td>12_Co</td>\n",
       "      <td>Regular Espresso</td>\n",
       "      <td>Coffee</td>\n",
       "      <td>XG401M7</td>\n",
       "    </tr>\n",
       "  </tbody>\n",
       "</table>\n",
       "</div>"
      ],
      "text/plain": [
       "          Quarter                                StoreId     State Position  \\\n",
       "9394   2023-07-01             Reynoldsburg - Main Street      Ohio     East   \n",
       "12520  2023-01-01                   Plano - Legacy Drive     Texas    South   \n",
       "33036  2023-01-01                 Canton - Market Avenue      Ohio     East   \n",
       "31033  2023-04-01                 Riverton - 13400 South      Utah     West   \n",
       "31674  2023-07-01  Brighton - Historic Downtown Brighton  Colorado     West   \n",
       "\n",
       "              Market ProdId           Product    Type ReportId  \n",
       "9394   Medium Market   5_Te         Chamomile     Tea  DY475CF  \n",
       "12520   Large Market   3_Co         Columbian  Coffee  SS090XQ  \n",
       "33036  Medium Market  12_Co  Regular Espresso  Coffee  TT318I7  \n",
       "31033   Small Market   2_Te              Mint     Tea  OP4189D  \n",
       "31674  Medium Market  12_Co  Regular Espresso  Coffee  XG401M7  "
      ]
     },
     "execution_count": 10,
     "metadata": {},
     "output_type": "execute_result"
    }
   ],
   "source": [
    "# aperçu global\n",
    "df_sto.sample(5)"
   ]
  },
  {
   "cell_type": "markdown",
   "id": "3259c449",
   "metadata": {},
   "source": [
    "## 3️⃣ Analyse structurelle"
   ]
  },
  {
   "cell_type": "code",
   "execution_count": 11,
   "id": "d079fb0f",
   "metadata": {},
   "outputs": [
    {
     "name": "stdout",
     "output_type": "stream",
     "text": [
      "== Info ==\n",
      "<class 'pandas.core.frame.DataFrame'>\n",
      "RangeIndex: 33856 entries, 0 to 33855\n",
      "Data columns (total 9 columns):\n",
      " #   Column    Non-Null Count  Dtype \n",
      "---  ------    --------------  ----- \n",
      " 0   Quarter   32680 non-null  object\n",
      " 1   StoreId   32343 non-null  object\n",
      " 2   State     33189 non-null  object\n",
      " 3   Position  32713 non-null  object\n",
      " 4   Market    31789 non-null  object\n",
      " 5   ProdId    32104 non-null  object\n",
      " 6   Product   30761 non-null  object\n",
      " 7   Type      31021 non-null  object\n",
      " 8   ReportId  33856 non-null  object\n",
      "dtypes: object(9)\n",
      "memory usage: 2.3+ MB\n",
      "\n",
      "== Dtypes ==\n",
      "Quarter     object\n",
      "StoreId     object\n",
      "State       object\n",
      "Position    object\n",
      "Market      object\n",
      "ProdId      object\n",
      "Product     object\n",
      "Type        object\n",
      "ReportId    object\n",
      "dtype: object\n"
     ]
    }
   ],
   "source": [
    "# Structure & types\n",
    "print(\"== Info ==\")\n",
    "df_sto.info()\n",
    "print(\"\\n== Dtypes ==\")\n",
    "print(df_sto.dtypes)\n"
   ]
  },
  {
   "cell_type": "code",
   "execution_count": 12,
   "id": "3d496783",
   "metadata": {},
   "outputs": [
    {
     "name": "stdout",
     "output_type": "stream",
     "text": [
      "\n",
      "== Valeurs manquantes (Top) ==\n"
     ]
    },
    {
     "data": {
      "application/vnd.microsoft.datawrangler.viewer.v0+json": {
       "columns": [
        {
         "name": "index",
         "rawType": "object",
         "type": "string"
        },
        {
         "name": "missing_count",
         "rawType": "int64",
         "type": "integer"
        },
        {
         "name": "missing_pct",
         "rawType": "float64",
         "type": "float"
        }
       ],
       "ref": "85b847eb-35d0-466c-bdea-e7fc25088659",
       "rows": [
        [
         "Product",
         "3095",
         "9.14"
        ],
        [
         "Type",
         "2835",
         "8.37"
        ],
        [
         "Market",
         "2067",
         "6.11"
        ],
        [
         "ProdId",
         "1752",
         "5.17"
        ],
        [
         "StoreId",
         "1513",
         "4.47"
        ],
        [
         "Quarter",
         "1176",
         "3.47"
        ],
        [
         "Position",
         "1143",
         "3.38"
        ],
        [
         "State",
         "667",
         "1.97"
        ],
        [
         "ReportId",
         "0",
         "0.0"
        ]
       ],
       "shape": {
        "columns": 2,
        "rows": 9
       }
      },
      "text/html": [
       "<div>\n",
       "<style scoped>\n",
       "    .dataframe tbody tr th:only-of-type {\n",
       "        vertical-align: middle;\n",
       "    }\n",
       "\n",
       "    .dataframe tbody tr th {\n",
       "        vertical-align: top;\n",
       "    }\n",
       "\n",
       "    .dataframe thead th {\n",
       "        text-align: right;\n",
       "    }\n",
       "</style>\n",
       "<table border=\"1\" class=\"dataframe\">\n",
       "  <thead>\n",
       "    <tr style=\"text-align: right;\">\n",
       "      <th></th>\n",
       "      <th>missing_count</th>\n",
       "      <th>missing_pct</th>\n",
       "    </tr>\n",
       "  </thead>\n",
       "  <tbody>\n",
       "    <tr>\n",
       "      <th>Product</th>\n",
       "      <td>3095</td>\n",
       "      <td>9.14</td>\n",
       "    </tr>\n",
       "    <tr>\n",
       "      <th>Type</th>\n",
       "      <td>2835</td>\n",
       "      <td>8.37</td>\n",
       "    </tr>\n",
       "    <tr>\n",
       "      <th>Market</th>\n",
       "      <td>2067</td>\n",
       "      <td>6.11</td>\n",
       "    </tr>\n",
       "    <tr>\n",
       "      <th>ProdId</th>\n",
       "      <td>1752</td>\n",
       "      <td>5.17</td>\n",
       "    </tr>\n",
       "    <tr>\n",
       "      <th>StoreId</th>\n",
       "      <td>1513</td>\n",
       "      <td>4.47</td>\n",
       "    </tr>\n",
       "    <tr>\n",
       "      <th>Quarter</th>\n",
       "      <td>1176</td>\n",
       "      <td>3.47</td>\n",
       "    </tr>\n",
       "    <tr>\n",
       "      <th>Position</th>\n",
       "      <td>1143</td>\n",
       "      <td>3.38</td>\n",
       "    </tr>\n",
       "    <tr>\n",
       "      <th>State</th>\n",
       "      <td>667</td>\n",
       "      <td>1.97</td>\n",
       "    </tr>\n",
       "    <tr>\n",
       "      <th>ReportId</th>\n",
       "      <td>0</td>\n",
       "      <td>0.00</td>\n",
       "    </tr>\n",
       "  </tbody>\n",
       "</table>\n",
       "</div>"
      ],
      "text/plain": [
       "          missing_count  missing_pct\n",
       "Product            3095         9.14\n",
       "Type               2835         8.37\n",
       "Market             2067         6.11\n",
       "ProdId             1752         5.17\n",
       "StoreId            1513         4.47\n",
       "Quarter            1176         3.47\n",
       "Position           1143         3.38\n",
       "State               667         1.97\n",
       "ReportId              0         0.00"
      ]
     },
     "metadata": {},
     "output_type": "display_data"
    }
   ],
   "source": [
    "#  Valeurs manquantes (nombre & %)\n",
    "missing_tbl = pd.DataFrame({\n",
    "    \"missing_count\": df_sto.isna().sum(),\n",
    "    \"missing_pct\": (df_sto.isna().mean()*100).round(2)\n",
    "}).sort_values(\"missing_pct\", ascending=False)\n",
    "print(\"\\n== Valeurs manquantes (Top) ==\")\n",
    "display(missing_tbl.head(10))"
   ]
  },
  {
   "cell_type": "code",
   "execution_count": 13,
   "id": "c4af4c19",
   "metadata": {},
   "outputs": [
    {
     "name": "stdout",
     "output_type": "stream",
     "text": [
      "Doublons (toutes colonnes) : 0\n"
     ]
    }
   ],
   "source": [
    "#Doublons (lignes entières)\n",
    "print(\"Doublons (toutes colonnes) :\", df_sto.duplicated().sum())"
   ]
  },
  {
   "cell_type": "code",
   "execution_count": 14,
   "id": "9ef864e4",
   "metadata": {},
   "outputs": [
    {
     "name": "stdout",
     "output_type": "stream",
     "text": [
      "Candidats clé : ['ReportId', 'StoreId']\n"
     ]
    }
   ],
   "source": [
    "#  Clé de jointure (on teste les candidates usuelles)\n",
    "candidates = [c for c in [\"ReportId\",\"reportid\",\"StoreId\",\"storeid\",\"id\"] if c in df_sto.columns]\n",
    "print(\"Candidats clé :\", candidates)"
   ]
  },
  {
   "cell_type": "code",
   "execution_count": null,
   "id": "47074db2",
   "metadata": {},
   "outputs": [
    {
     "name": "stdout",
     "output_type": "stream",
     "text": [
      "Candidats clé : ['ReportId', 'StoreId']\n",
      "Clé retenue : ReportId\n",
      "NA sur clé : 0\n",
      "Doublons sur clé : 1\n"
     ]
    }
   ],
   "source": [
    "# Clé de jointure \n",
    "candidates = [c for c in [\"ReportId\",\"reportid\",\"StoreId\",\"storeid\",\"id\"] if c in df_sto.columns]\n",
    "print(\"Candidats clé :\", candidates)\n",
    "\n",
    "key = None\n",
    "for c in [\"reportid\",\"ReportId\",\"storeid\",\"StoreId\",\"id\"]:\n",
    "    if c in df_sto.columns:\n",
    "        key = c\n",
    "        break\n",
    "\n",
    "print(\"Clé retenue :\", key)\n",
    "if key:\n",
    "    print(\"NA sur clé :\", df_sto[key].isna().sum())\n",
    "    print(\"Doublons sur clé :\", df_sto[key].duplicated().sum())"
   ]
  },
  {
   "cell_type": "code",
   "execution_count": 16,
   "id": "f9fc7e6d",
   "metadata": {},
   "outputs": [
    {
     "name": "stdout",
     "output_type": "stream",
     "text": [
      "\n",
      "== describe() numérique ==\n"
     ]
    },
    {
     "data": {
      "application/vnd.microsoft.datawrangler.viewer.v0+json": {
       "columns": [
        {
         "name": "index",
         "rawType": "object",
         "type": "string"
        },
        {
         "name": "count",
         "rawType": "object",
         "type": "unknown"
        },
        {
         "name": "unique",
         "rawType": "object",
         "type": "unknown"
        },
        {
         "name": "top",
         "rawType": "object",
         "type": "string"
        },
        {
         "name": "freq",
         "rawType": "object",
         "type": "unknown"
        }
       ],
       "ref": "b49ba87c-a602-40af-8557-b2a08d0ed765",
       "rows": [
        [
         "Quarter",
         "32680",
         "4",
         "2023-04-01",
         "8173"
        ],
        [
         "StoreId",
         "32343",
         "795",
         "Wilsonville - SW Wilsonville Road",
         "52"
        ],
        [
         "State",
         "33189",
         "20",
         "Utah",
         "2247"
        ],
        [
         "Position",
         "32713",
         "4",
         "West",
         "12278"
        ],
        [
         "Market",
         "31789",
         "3",
         "Medium Market",
         "15109"
        ],
        [
         "ProdId",
         "32104",
         "13",
         "10_Te",
         "2630"
        ],
        [
         "Product",
         "30761",
         "13",
         "Caffe Mocha",
         "2521"
        ],
        [
         "Type",
         "31021",
         "2",
         "Coffee",
         "16416"
        ],
        [
         "ReportId",
         "33856",
         "33855",
         "LL99883",
         "2"
        ]
       ],
       "shape": {
        "columns": 4,
        "rows": 9
       }
      },
      "text/html": [
       "<div>\n",
       "<style scoped>\n",
       "    .dataframe tbody tr th:only-of-type {\n",
       "        vertical-align: middle;\n",
       "    }\n",
       "\n",
       "    .dataframe tbody tr th {\n",
       "        vertical-align: top;\n",
       "    }\n",
       "\n",
       "    .dataframe thead th {\n",
       "        text-align: right;\n",
       "    }\n",
       "</style>\n",
       "<table border=\"1\" class=\"dataframe\">\n",
       "  <thead>\n",
       "    <tr style=\"text-align: right;\">\n",
       "      <th></th>\n",
       "      <th>count</th>\n",
       "      <th>unique</th>\n",
       "      <th>top</th>\n",
       "      <th>freq</th>\n",
       "    </tr>\n",
       "  </thead>\n",
       "  <tbody>\n",
       "    <tr>\n",
       "      <th>Quarter</th>\n",
       "      <td>32680</td>\n",
       "      <td>4</td>\n",
       "      <td>2023-04-01</td>\n",
       "      <td>8173</td>\n",
       "    </tr>\n",
       "    <tr>\n",
       "      <th>StoreId</th>\n",
       "      <td>32343</td>\n",
       "      <td>795</td>\n",
       "      <td>Wilsonville - SW Wilsonville Road</td>\n",
       "      <td>52</td>\n",
       "    </tr>\n",
       "    <tr>\n",
       "      <th>State</th>\n",
       "      <td>33189</td>\n",
       "      <td>20</td>\n",
       "      <td>Utah</td>\n",
       "      <td>2247</td>\n",
       "    </tr>\n",
       "    <tr>\n",
       "      <th>Position</th>\n",
       "      <td>32713</td>\n",
       "      <td>4</td>\n",
       "      <td>West</td>\n",
       "      <td>12278</td>\n",
       "    </tr>\n",
       "    <tr>\n",
       "      <th>Market</th>\n",
       "      <td>31789</td>\n",
       "      <td>3</td>\n",
       "      <td>Medium Market</td>\n",
       "      <td>15109</td>\n",
       "    </tr>\n",
       "    <tr>\n",
       "      <th>ProdId</th>\n",
       "      <td>32104</td>\n",
       "      <td>13</td>\n",
       "      <td>10_Te</td>\n",
       "      <td>2630</td>\n",
       "    </tr>\n",
       "    <tr>\n",
       "      <th>Product</th>\n",
       "      <td>30761</td>\n",
       "      <td>13</td>\n",
       "      <td>Caffe Mocha</td>\n",
       "      <td>2521</td>\n",
       "    </tr>\n",
       "    <tr>\n",
       "      <th>Type</th>\n",
       "      <td>31021</td>\n",
       "      <td>2</td>\n",
       "      <td>Coffee</td>\n",
       "      <td>16416</td>\n",
       "    </tr>\n",
       "    <tr>\n",
       "      <th>ReportId</th>\n",
       "      <td>33856</td>\n",
       "      <td>33855</td>\n",
       "      <td>LL99883</td>\n",
       "      <td>2</td>\n",
       "    </tr>\n",
       "  </tbody>\n",
       "</table>\n",
       "</div>"
      ],
      "text/plain": [
       "          count unique                                top   freq\n",
       "Quarter   32680      4                         2023-04-01   8173\n",
       "StoreId   32343    795  Wilsonville - SW Wilsonville Road     52\n",
       "State     33189     20                               Utah   2247\n",
       "Position  32713      4                               West  12278\n",
       "Market    31789      3                      Medium Market  15109\n",
       "ProdId    32104     13                              10_Te   2630\n",
       "Product   30761     13                        Caffe Mocha   2521\n",
       "Type      31021      2                             Coffee  16416\n",
       "ReportId  33856  33855                            LL99883      2"
      ]
     },
     "metadata": {},
     "output_type": "display_data"
    }
   ],
   "source": [
    "# Aperçu stats numériques\n",
    "print(\"\\n== describe() numérique ==\")\n",
    "display(df_sto.describe().T)"
   ]
  },
  {
   "cell_type": "markdown",
   "id": "428aa63d",
   "metadata": {},
   "source": [
    "## 4️⃣ Nettoyage des colonnes\n"
   ]
  },
  {
   "cell_type": "code",
   "execution_count": 18,
   "id": "eda130d4",
   "metadata": {},
   "outputs": [
    {
     "name": "stdout",
     "output_type": "stream",
     "text": [
      "✔ Colonnes renommées :\n",
      "Quarter  →  quarter\n",
      "StoreId  →  storeid\n",
      "State  →  state\n",
      "Position  →  position\n",
      "Market  →  market\n",
      "ProdId  →  prodid\n",
      "Product  →  product\n",
      "Type  →  type\n",
      "ReportId  →  reportid\n"
     ]
    }
   ],
   "source": [
    "# Fonction de nettoyage des noms de colonnes\n",
    "def to_sup(c):\n",
    "    return (\n",
    "        c.strip()\n",
    "         .replace(\" \", \"_\")\n",
    "         .replace(\"-\", \"_\")\n",
    "         .replace(\"/\", \"_\")\n",
    "         .replace(\"%\", \"pct\")\n",
    "         .lower()\n",
    "    )\n",
    "\n",
    "old_cols = df_sto.columns.tolist()\n",
    "df_sto.columns = [to_sup(c) for c in df_sto.columns]\n",
    "\n",
    "print(\"✔ Colonnes renommées :\")\n",
    "for o, n in zip(old_cols, df_sto.columns):\n",
    "    if o != n:\n",
    "        print(f\"{o}  →  {n}\")\n"
   ]
  },
  {
   "cell_type": "code",
   "execution_count": 19,
   "id": "24b27e9b",
   "metadata": {},
   "outputs": [
    {
     "name": "stdout",
     "output_type": "stream",
     "text": [
      "Lignes supprimées : 1\n"
     ]
    }
   ],
   "source": [
    "# Suppression du doublon clé\n",
    "before = df_sto.shape[0]\n",
    "df_sto = df_sto.drop_duplicates(subset=\"reportid\", keep=\"first\")\n",
    "after = df_sto.shape[0]\n",
    "\n",
    "print(f\"Lignes supprimées : {before - after}\")"
   ]
  },
  {
   "cell_type": "code",
   "execution_count": 20,
   "id": "8ee6dcc9",
   "metadata": {},
   "outputs": [
    {
     "data": {
      "application/vnd.microsoft.datawrangler.viewer.v0+json": {
       "columns": [
        {
         "name": "index",
         "rawType": "object",
         "type": "string"
        },
        {
         "name": "0",
         "rawType": "int64",
         "type": "integer"
        }
       ],
       "ref": "bb94bf39-7e24-4952-be04-94d4b8eb693d",
       "rows": [
        [
         "product",
         "3095"
        ],
        [
         "type",
         "2834"
        ],
        [
         "market",
         "2067"
        ],
        [
         "prodid",
         "1752"
        ],
        [
         "storeid",
         "1513"
        ],
        [
         "quarter",
         "1176"
        ],
        [
         "position",
         "1143"
        ],
        [
         "state",
         "667"
        ],
        [
         "reportid",
         "0"
        ]
       ],
       "shape": {
        "columns": 1,
        "rows": 9
       }
      },
      "text/plain": [
       "product     3095\n",
       "type        2834\n",
       "market      2067\n",
       "prodid      1752\n",
       "storeid     1513\n",
       "quarter     1176\n",
       "position    1143\n",
       "state        667\n",
       "reportid       0\n",
       "dtype: int64"
      ]
     },
     "execution_count": 20,
     "metadata": {},
     "output_type": "execute_result"
    }
   ],
   "source": [
    "df_sto.isna().sum().sort_values(ascending=False)\n",
    "# Vérifier s’il reste des doublons de noms de colonnes"
   ]
  },
  {
   "cell_type": "code",
   "execution_count": 21,
   "id": "46aba3b1",
   "metadata": {},
   "outputs": [
    {
     "name": "stdout",
     "output_type": "stream",
     "text": [
      "✅ Copie propre créée : df_sto_clean\n",
      "Dimensions : (33855, 9)\n"
     ]
    }
   ],
   "source": [
    "# Création d'une copie finale du dataset nettoyé\n",
    "df_sto_clean = df_sto.copy()\n",
    "\n",
    "print(\"✅ Copie propre créée : df_sto_clean\")\n",
    "print(\"Dimensions :\", df_sto_clean.shape)\n",
    "\n"
   ]
  },
  {
   "cell_type": "markdown",
   "id": "8a56e81e",
   "metadata": {},
   "source": [
    "## 5️⃣ Analyse univariée"
   ]
  },
  {
   "cell_type": "code",
   "execution_count": 22,
   "id": "1718aae9",
   "metadata": {},
   "outputs": [
    {
     "data": {
      "application/vnd.microsoft.datawrangler.viewer.v0+json": {
       "columns": [
        {
         "name": "index",
         "rawType": "object",
         "type": "string"
        },
        {
         "name": "count",
         "rawType": "object",
         "type": "unknown"
        },
        {
         "name": "unique",
         "rawType": "object",
         "type": "unknown"
        },
        {
         "name": "top",
         "rawType": "object",
         "type": "string"
        },
        {
         "name": "freq",
         "rawType": "object",
         "type": "unknown"
        }
       ],
       "ref": "ced5524f-60a3-4713-af4a-71172157815e",
       "rows": [
        [
         "quarter",
         "32679",
         "4",
         "2023-04-01",
         "8173"
        ],
        [
         "storeid",
         "32342",
         "795",
         "Wilsonville - SW Wilsonville Road",
         "52"
        ],
        [
         "state",
         "33188",
         "20",
         "Utah",
         "2247"
        ],
        [
         "position",
         "32712",
         "4",
         "West",
         "12278"
        ],
        [
         "market",
         "31788",
         "3",
         "Medium Market",
         "15109"
        ],
        [
         "prodid",
         "32103",
         "13",
         "10_Te",
         "2630"
        ],
        [
         "product",
         "30760",
         "13",
         "Caffe Mocha",
         "2521"
        ],
        [
         "type",
         "31021",
         "2",
         "Coffee",
         "16416"
        ],
        [
         "reportid",
         "33855",
         "33855",
         "JB578CJ",
         "1"
        ]
       ],
       "shape": {
        "columns": 4,
        "rows": 9
       }
      },
      "text/html": [
       "<div>\n",
       "<style scoped>\n",
       "    .dataframe tbody tr th:only-of-type {\n",
       "        vertical-align: middle;\n",
       "    }\n",
       "\n",
       "    .dataframe tbody tr th {\n",
       "        vertical-align: top;\n",
       "    }\n",
       "\n",
       "    .dataframe thead th {\n",
       "        text-align: right;\n",
       "    }\n",
       "</style>\n",
       "<table border=\"1\" class=\"dataframe\">\n",
       "  <thead>\n",
       "    <tr style=\"text-align: right;\">\n",
       "      <th></th>\n",
       "      <th>count</th>\n",
       "      <th>unique</th>\n",
       "      <th>top</th>\n",
       "      <th>freq</th>\n",
       "    </tr>\n",
       "  </thead>\n",
       "  <tbody>\n",
       "    <tr>\n",
       "      <th>quarter</th>\n",
       "      <td>32679</td>\n",
       "      <td>4</td>\n",
       "      <td>2023-04-01</td>\n",
       "      <td>8173</td>\n",
       "    </tr>\n",
       "    <tr>\n",
       "      <th>storeid</th>\n",
       "      <td>32342</td>\n",
       "      <td>795</td>\n",
       "      <td>Wilsonville - SW Wilsonville Road</td>\n",
       "      <td>52</td>\n",
       "    </tr>\n",
       "    <tr>\n",
       "      <th>state</th>\n",
       "      <td>33188</td>\n",
       "      <td>20</td>\n",
       "      <td>Utah</td>\n",
       "      <td>2247</td>\n",
       "    </tr>\n",
       "    <tr>\n",
       "      <th>position</th>\n",
       "      <td>32712</td>\n",
       "      <td>4</td>\n",
       "      <td>West</td>\n",
       "      <td>12278</td>\n",
       "    </tr>\n",
       "    <tr>\n",
       "      <th>market</th>\n",
       "      <td>31788</td>\n",
       "      <td>3</td>\n",
       "      <td>Medium Market</td>\n",
       "      <td>15109</td>\n",
       "    </tr>\n",
       "    <tr>\n",
       "      <th>prodid</th>\n",
       "      <td>32103</td>\n",
       "      <td>13</td>\n",
       "      <td>10_Te</td>\n",
       "      <td>2630</td>\n",
       "    </tr>\n",
       "    <tr>\n",
       "      <th>product</th>\n",
       "      <td>30760</td>\n",
       "      <td>13</td>\n",
       "      <td>Caffe Mocha</td>\n",
       "      <td>2521</td>\n",
       "    </tr>\n",
       "    <tr>\n",
       "      <th>type</th>\n",
       "      <td>31021</td>\n",
       "      <td>2</td>\n",
       "      <td>Coffee</td>\n",
       "      <td>16416</td>\n",
       "    </tr>\n",
       "    <tr>\n",
       "      <th>reportid</th>\n",
       "      <td>33855</td>\n",
       "      <td>33855</td>\n",
       "      <td>JB578CJ</td>\n",
       "      <td>1</td>\n",
       "    </tr>\n",
       "  </tbody>\n",
       "</table>\n",
       "</div>"
      ],
      "text/plain": [
       "          count unique                                top   freq\n",
       "quarter   32679      4                         2023-04-01   8173\n",
       "storeid   32342    795  Wilsonville - SW Wilsonville Road     52\n",
       "state     33188     20                               Utah   2247\n",
       "position  32712      4                               West  12278\n",
       "market    31788      3                      Medium Market  15109\n",
       "prodid    32103     13                              10_Te   2630\n",
       "product   30760     13                        Caffe Mocha   2521\n",
       "type      31021      2                             Coffee  16416\n",
       "reportid  33855  33855                            JB578CJ      1"
      ]
     },
     "metadata": {},
     "output_type": "display_data"
    }
   ],
   "source": [
    "\n",
    "# Statistiques descriptives globales\n",
    "stats = df_sto_clean.describe(include='all').T\n",
    "display(stats)\n"
   ]
  },
  {
   "cell_type": "code",
   "execution_count": 23,
   "id": "2cad8785",
   "metadata": {},
   "outputs": [
    {
     "name": "stdout",
     "output_type": "stream",
     "text": [
      "\n",
      "=== STATE ===\n"
     ]
    },
    {
     "data": {
      "application/vnd.microsoft.datawrangler.viewer.v0+json": {
       "columns": [
        {
         "name": "state",
         "rawType": "object",
         "type": "string"
        },
        {
         "name": "count",
         "rawType": "int64",
         "type": "integer"
        }
       ],
       "ref": "b7e6faf5-1565-4d2a-9013-ddee83667f2f",
       "rows": [
        [
         "Utah",
         "2247"
        ],
        [
         "California",
         "2241"
        ],
        [
         "Nevada",
         "2125"
        ],
        [
         "Oregon",
         "2061"
        ],
        [
         "Colorado",
         "2012"
        ],
        [
         "Washington",
         "1779"
        ],
        [
         "Missouri",
         "1710"
        ],
        [
         "Iowa",
         "1685"
        ],
        [
         "Wisconsin",
         "1677"
        ],
        [
         "Ohio",
         "1671"
        ]
       ],
       "shape": {
        "columns": 1,
        "rows": 10
       }
      },
      "text/plain": [
       "state\n",
       "Utah          2247\n",
       "California    2241\n",
       "Nevada        2125\n",
       "Oregon        2061\n",
       "Colorado      2012\n",
       "Washington    1779\n",
       "Missouri      1710\n",
       "Iowa          1685\n",
       "Wisconsin     1677\n",
       "Ohio          1671\n",
       "Name: count, dtype: int64"
      ]
     },
     "metadata": {},
     "output_type": "display_data"
    },
    {
     "name": "stdout",
     "output_type": "stream",
     "text": [
      "\n",
      "=== MARKET ===\n"
     ]
    },
    {
     "data": {
      "application/vnd.microsoft.datawrangler.viewer.v0+json": {
       "columns": [
        {
         "name": "market",
         "rawType": "object",
         "type": "string"
        },
        {
         "name": "count",
         "rawType": "int64",
         "type": "integer"
        }
       ],
       "ref": "9d282819-3a48-41c0-a6d4-7cf1bf4c8fa9",
       "rows": [
        [
         "Medium Market",
         "15109"
        ],
        [
         "Small Market",
         "11771"
        ],
        [
         "Large Market",
         "4908"
        ]
       ],
       "shape": {
        "columns": 1,
        "rows": 3
       }
      },
      "text/plain": [
       "market\n",
       "Medium Market    15109\n",
       "Small Market     11771\n",
       "Large Market      4908\n",
       "Name: count, dtype: int64"
      ]
     },
     "metadata": {},
     "output_type": "display_data"
    },
    {
     "name": "stdout",
     "output_type": "stream",
     "text": [
      "\n",
      "=== TYPE ===\n"
     ]
    },
    {
     "data": {
      "application/vnd.microsoft.datawrangler.viewer.v0+json": {
       "columns": [
        {
         "name": "type",
         "rawType": "object",
         "type": "string"
        },
        {
         "name": "count",
         "rawType": "int64",
         "type": "integer"
        }
       ],
       "ref": "b0121516-2264-4802-869f-651fd26e5bd8",
       "rows": [
        [
         "Coffee",
         "16416"
        ],
        [
         "Tea",
         "14605"
        ]
       ],
       "shape": {
        "columns": 1,
        "rows": 2
       }
      },
      "text/plain": [
       "type\n",
       "Coffee    16416\n",
       "Tea       14605\n",
       "Name: count, dtype: int64"
      ]
     },
     "metadata": {},
     "output_type": "display_data"
    },
    {
     "name": "stdout",
     "output_type": "stream",
     "text": [
      "\n",
      "=== PRODUCT ===\n"
     ]
    },
    {
     "data": {
      "application/vnd.microsoft.datawrangler.viewer.v0+json": {
       "columns": [
        {
         "name": "product",
         "rawType": "object",
         "type": "string"
        },
        {
         "name": "count",
         "rawType": "int64",
         "type": "integer"
        }
       ],
       "ref": "349b3ec7-ce96-4810-9704-948d8358ec5d",
       "rows": [
        [
         "Caffe Mocha",
         "2521"
        ],
        [
         "Lemon",
         "2509"
        ],
        [
         "Darjeeling",
         "2480"
        ],
        [
         "Chamomile",
         "2453"
        ],
        [
         "Earl Grey",
         "2435"
        ],
        [
         "Columbian",
         "2415"
        ],
        [
         "Green Tea",
         "2366"
        ],
        [
         "Decaf Irish Cream",
         "2360"
        ],
        [
         "Decaf Espresso",
         "2353"
        ],
        [
         "Mint",
         "2271"
        ]
       ],
       "shape": {
        "columns": 1,
        "rows": 10
       }
      },
      "text/plain": [
       "product\n",
       "Caffe Mocha          2521\n",
       "Lemon                2509\n",
       "Darjeeling           2480\n",
       "Chamomile            2453\n",
       "Earl Grey            2435\n",
       "Columbian            2415\n",
       "Green Tea            2366\n",
       "Decaf Irish Cream    2360\n",
       "Decaf Espresso       2353\n",
       "Mint                 2271\n",
       "Name: count, dtype: int64"
      ]
     },
     "metadata": {},
     "output_type": "display_data"
    },
    {
     "name": "stdout",
     "output_type": "stream",
     "text": [
      "\n",
      "=== POSITION ===\n"
     ]
    },
    {
     "data": {
      "application/vnd.microsoft.datawrangler.viewer.v0+json": {
       "columns": [
        {
         "name": "position",
         "rawType": "object",
         "type": "string"
        },
        {
         "name": "count",
         "rawType": "int64",
         "type": "integer"
        }
       ],
       "ref": "41b0f123-1a0d-42fe-9fbc-ef0b9a25eebd",
       "rows": [
        [
         "West",
         "12278"
        ],
        [
         "East",
         "6978"
        ],
        [
         "South",
         "6849"
        ],
        [
         "Central",
         "6607"
        ]
       ],
       "shape": {
        "columns": 1,
        "rows": 4
       }
      },
      "text/plain": [
       "position\n",
       "West       12278\n",
       "East        6978\n",
       "South       6849\n",
       "Central     6607\n",
       "Name: count, dtype: int64"
      ]
     },
     "metadata": {},
     "output_type": "display_data"
    }
   ],
   "source": [
    "# Distribution des variables principales\n",
    "cols_to_plot = [\"state\", \"market\", \"type\", \"product\", \"position\"]\n",
    "\n",
    "for c in cols_to_plot:\n",
    "    print(f\"\\n=== {c.upper()} ===\")\n",
    "    display(df_sto_clean[c].value_counts().head(10))\n"
   ]
  },
  {
   "cell_type": "code",
   "execution_count": 24,
   "id": "d6119251",
   "metadata": {},
   "outputs": [
    {
     "data": {
      "image/png": "[encoded data removed]",
      "text/plain": [
       "<Figure size 1200x800 with 4 Axes>"
      ]
     },
     "metadata": {},
     "output_type": "display_data"
    }
   ],
   "source": [
    "# Histogrammes des variables catégorielles principales\n",
    "plt.figure(figsize=(12, 8))\n",
    "for i, c in enumerate(cols_to_plot[:4], 1):\n",
    "    plt.subplot(2, 2, i)\n",
    "    df_sto_clean[c].value_counts().head(10).plot(kind='bar')\n",
    "    plt.title(f\"Top 10 des {c}\")\n",
    "    plt.xticks(rotation=45)\n",
    "plt.tight_layout()\n",
    "plt.show()\n"
   ]
  },
  {
   "cell_type": "code",
   "execution_count": 25,
   "id": "8b158e16",
   "metadata": {},
   "outputs": [
    {
     "data": {
      "image/png": "[encoded data removed]",
      "text/plain": [
       "<Figure size 1000x400 with 1 Axes>"
      ]
     },
     "metadata": {},
     "output_type": "display_data"
    },
    {
     "data": {
      "image/png": "[encoded data removed]",
      "text/plain": [
       "<Figure size 600x400 with 1 Axes>"
      ]
     },
     "metadata": {},
     "output_type": "display_data"
    }
   ],
   "source": [
    "# États les plus représentés\n",
    "plt.figure(figsize=(10, 4))\n",
    "df_sto_clean['state'].value_counts().head(15).plot(kind='bar', color=\"#1f77b4\")\n",
    "plt.title(\"Répartition des magasins par État (Top 15)\")\n",
    "plt.ylabel(\"Nombre de magasins\")\n",
    "plt.xticks(rotation=45)\n",
    "plt.show()\n",
    "\n",
    "# Marché (Market)\n",
    "plt.figure(figsize=(6, 4))\n",
    "df_sto_clean['market'].value_counts().plot(kind='bar', color=\"#ff7f0e\")\n",
    "plt.title(\"Répartition des magasins par Marché\")\n",
    "plt.ylabel(\"Nombre de magasins\")\n",
    "plt.show()\n"
   ]
  },
  {
   "cell_type": "code",
   "execution_count": 26,
   "id": "76339c54",
   "metadata": {},
   "outputs": [
    {
     "name": "stdout",
     "output_type": "stream",
     "text": [
      "=== Répartition Type / Market ===\n"
     ]
    },
    {
     "data": {
      "application/vnd.microsoft.datawrangler.viewer.v0+json": {
       "columns": [
        {
         "name": "type",
         "rawType": "object",
         "type": "string"
        },
        {
         "name": "Large Market",
         "rawType": "int64",
         "type": "integer"
        },
        {
         "name": "Medium Market",
         "rawType": "int64",
         "type": "integer"
        },
        {
         "name": "Small Market",
         "rawType": "int64",
         "type": "integer"
        }
       ],
       "ref": "b90802a9-3f0d-4ee3-9bbb-4d34ca77ba31",
       "rows": [
        [
         "Coffee",
         "2416",
         "7243",
         "5717"
        ],
        [
         "Tea",
         "2061",
         "6620",
         "5060"
        ]
       ],
       "shape": {
        "columns": 3,
        "rows": 2
       }
      },
      "text/html": [
       "<div>\n",
       "<style scoped>\n",
       "    .dataframe tbody tr th:only-of-type {\n",
       "        vertical-align: middle;\n",
       "    }\n",
       "\n",
       "    .dataframe tbody tr th {\n",
       "        vertical-align: top;\n",
       "    }\n",
       "\n",
       "    .dataframe thead th {\n",
       "        text-align: right;\n",
       "    }\n",
       "</style>\n",
       "<table border=\"1\" class=\"dataframe\">\n",
       "  <thead>\n",
       "    <tr style=\"text-align: right;\">\n",
       "      <th>market</th>\n",
       "      <th>Large Market</th>\n",
       "      <th>Medium Market</th>\n",
       "      <th>Small Market</th>\n",
       "    </tr>\n",
       "    <tr>\n",
       "      <th>type</th>\n",
       "      <th></th>\n",
       "      <th></th>\n",
       "      <th></th>\n",
       "    </tr>\n",
       "  </thead>\n",
       "  <tbody>\n",
       "    <tr>\n",
       "      <th>Coffee</th>\n",
       "      <td>2416</td>\n",
       "      <td>7243</td>\n",
       "      <td>5717</td>\n",
       "    </tr>\n",
       "    <tr>\n",
       "      <th>Tea</th>\n",
       "      <td>2061</td>\n",
       "      <td>6620</td>\n",
       "      <td>5060</td>\n",
       "    </tr>\n",
       "  </tbody>\n",
       "</table>\n",
       "</div>"
      ],
      "text/plain": [
       "market  Large Market  Medium Market  Small Market\n",
       "type                                             \n",
       "Coffee          2416           7243          5717\n",
       "Tea             2061           6620          5060"
      ]
     },
     "metadata": {},
     "output_type": "display_data"
    }
   ],
   "source": [
    "# Croisement Type / Market pour détecter des anomalies\n",
    "cross_tab = pd.crosstab(df_sto_clean[\"type\"], df_sto_clean[\"market\"])\n",
    "print(\"=== Répartition Type / Market ===\")\n",
    "display(cross_tab)\n"
   ]
  },
  {
   "cell_type": "markdown",
   "id": "18eaadce",
   "metadata": {},
   "source": [
    "### Étape 5 — Analyse univariée (Résumé)\n",
    "\n",
    "- Les colonnes clés (state, market, type, product) sont toutes catégorielles.  \n",
    "- La majorité des magasins appartiennent à **[à compléter selon ton graphe]**.  \n",
    "- Les produits les plus fréquents sont **[Coffee, Tea, etc.]**.  \n",
    "- Certains États ou marchés sont sous-représentés → à noter pour les jointures ou KPI globaux.  \n",
    "- Pas d’anomalie majeure dans les types de magasins.\n"
   ]
  },
  {
   "cell_type": "markdown",
   "id": "c7b7a3ff",
   "metadata": {},
   "source": [
    "## 6️⃣ Corrélations"
   ]
  },
  {
   "cell_type": "code",
   "execution_count": 27,
   "id": "be4d8874",
   "metadata": {},
   "outputs": [
    {
     "data": {
      "image/png": "[encoded data removed]",
      "text/plain": [
       "<Figure size 1000x600 with 1 Axes>"
      ]
     },
     "metadata": {},
     "output_type": "display_data"
    },
    {
     "data": {
      "application/vnd.microsoft.datawrangler.viewer.v0+json": {
       "columns": [
        {
         "name": "state",
         "rawType": "object",
         "type": "string"
        },
        {
         "name": "Large Market",
         "rawType": "int64",
         "type": "integer"
        },
        {
         "name": "Medium Market",
         "rawType": "int64",
         "type": "integer"
        },
        {
         "name": "Small Market",
         "rawType": "int64",
         "type": "integer"
        }
       ],
       "ref": "b43dfe0b-106a-4c67-9b68-47bc8e4f0ab9",
       "rows": [
        [
         "California",
         "2112",
         "0",
         "0"
        ],
        [
         "Colorado",
         "0",
         "1882",
         "0"
        ],
        [
         "Connecticut",
         "0",
         "0",
         "1294"
        ],
        [
         "Florida",
         "0",
         "1555",
         "0"
        ],
        [
         "Illinois",
         "0",
         "1502",
         "0"
        ],
        [
         "Iowa",
         "0",
         "0",
         "1573"
        ],
        [
         "Louisiana",
         "0",
         "0",
         "1280"
        ],
        [
         "Massachusetts",
         "0",
         "1084",
         "0"
        ],
        [
         "Missouri",
         "0",
         "1596",
         "0"
        ],
        [
         "Nevada",
         "0",
         "2004",
         "0"
        ]
       ],
       "shape": {
        "columns": 3,
        "rows": 10
       }
      },
      "text/html": [
       "<div>\n",
       "<style scoped>\n",
       "    .dataframe tbody tr th:only-of-type {\n",
       "        vertical-align: middle;\n",
       "    }\n",
       "\n",
       "    .dataframe tbody tr th {\n",
       "        vertical-align: top;\n",
       "    }\n",
       "\n",
       "    .dataframe thead th {\n",
       "        text-align: right;\n",
       "    }\n",
       "</style>\n",
       "<table border=\"1\" class=\"dataframe\">\n",
       "  <thead>\n",
       "    <tr style=\"text-align: right;\">\n",
       "      <th>market</th>\n",
       "      <th>Large Market</th>\n",
       "      <th>Medium Market</th>\n",
       "      <th>Small Market</th>\n",
       "    </tr>\n",
       "    <tr>\n",
       "      <th>state</th>\n",
       "      <th></th>\n",
       "      <th></th>\n",
       "      <th></th>\n",
       "    </tr>\n",
       "  </thead>\n",
       "  <tbody>\n",
       "    <tr>\n",
       "      <th>California</th>\n",
       "      <td>2112</td>\n",
       "      <td>0</td>\n",
       "      <td>0</td>\n",
       "    </tr>\n",
       "    <tr>\n",
       "      <th>Colorado</th>\n",
       "      <td>0</td>\n",
       "      <td>1882</td>\n",
       "      <td>0</td>\n",
       "    </tr>\n",
       "    <tr>\n",
       "      <th>Connecticut</th>\n",
       "      <td>0</td>\n",
       "      <td>0</td>\n",
       "      <td>1294</td>\n",
       "    </tr>\n",
       "    <tr>\n",
       "      <th>Florida</th>\n",
       "      <td>0</td>\n",
       "      <td>1555</td>\n",
       "      <td>0</td>\n",
       "    </tr>\n",
       "    <tr>\n",
       "      <th>Illinois</th>\n",
       "      <td>0</td>\n",
       "      <td>1502</td>\n",
       "      <td>0</td>\n",
       "    </tr>\n",
       "    <tr>\n",
       "      <th>Iowa</th>\n",
       "      <td>0</td>\n",
       "      <td>0</td>\n",
       "      <td>1573</td>\n",
       "    </tr>\n",
       "    <tr>\n",
       "      <th>Louisiana</th>\n",
       "      <td>0</td>\n",
       "      <td>0</td>\n",
       "      <td>1280</td>\n",
       "    </tr>\n",
       "    <tr>\n",
       "      <th>Massachusetts</th>\n",
       "      <td>0</td>\n",
       "      <td>1084</td>\n",
       "      <td>0</td>\n",
       "    </tr>\n",
       "    <tr>\n",
       "      <th>Missouri</th>\n",
       "      <td>0</td>\n",
       "      <td>1596</td>\n",
       "      <td>0</td>\n",
       "    </tr>\n",
       "    <tr>\n",
       "      <th>Nevada</th>\n",
       "      <td>0</td>\n",
       "      <td>2004</td>\n",
       "      <td>0</td>\n",
       "    </tr>\n",
       "  </tbody>\n",
       "</table>\n",
       "</div>"
      ],
      "text/plain": [
       "market         Large Market  Medium Market  Small Market\n",
       "state                                                   \n",
       "California             2112              0             0\n",
       "Colorado                  0           1882             0\n",
       "Connecticut               0              0          1294\n",
       "Florida                   0           1555             0\n",
       "Illinois                  0           1502             0\n",
       "Iowa                      0              0          1573\n",
       "Louisiana                 0              0          1280\n",
       "Massachusetts             0           1084             0\n",
       "Missouri                  0           1596             0\n",
       "Nevada                    0           2004             0"
      ]
     },
     "metadata": {},
     "output_type": "display_data"
    }
   ],
   "source": [
    "# Répartition des marchés par État\n",
    "cross_state_market = pd.crosstab(df_sto_clean[\"state\"], df_sto_clean[\"market\"])\n",
    "plt.figure(figsize=(10,6))\n",
    "sns.heatmap(cross_state_market, cmap=\"YlGnBu\", cbar=False)\n",
    "plt.title(\"Répartition des Marchés par État\", fontsize=14)\n",
    "plt.xlabel(\"Market\")\n",
    "plt.ylabel(\"State\")\n",
    "plt.show()\n",
    "\n",
    "display(cross_state_market.head(10))\n"
   ]
  },
  {
   "cell_type": "code",
   "execution_count": 28,
   "id": "d0054d34",
   "metadata": {},
   "outputs": [
    {
     "data": {
      "image/png": "[encoded data removed]",
      "text/plain": [
       "<Figure size 800x400 with 2 Axes>"
      ]
     },
     "metadata": {},
     "output_type": "display_data"
    },
    {
     "data": {
      "application/vnd.microsoft.datawrangler.viewer.v0+json": {
       "columns": [
        {
         "name": "type",
         "rawType": "object",
         "type": "string"
        },
        {
         "name": "Central",
         "rawType": "int64",
         "type": "integer"
        },
        {
         "name": "East",
         "rawType": "int64",
         "type": "integer"
        },
        {
         "name": "South",
         "rawType": "int64",
         "type": "integer"
        },
        {
         "name": "West",
         "rawType": "int64",
         "type": "integer"
        }
       ],
       "ref": "3a0ce015-3e24-4f6f-9cac-ac13a7580f11",
       "rows": [
        [
         "Coffee",
         "3139",
         "3320",
         "3432",
         "5967"
        ],
        [
         "Tea",
         "2879",
         "3072",
         "2876",
         "5297"
        ]
       ],
       "shape": {
        "columns": 4,
        "rows": 2
       }
      },
      "text/html": [
       "<div>\n",
       "<style scoped>\n",
       "    .dataframe tbody tr th:only-of-type {\n",
       "        vertical-align: middle;\n",
       "    }\n",
       "\n",
       "    .dataframe tbody tr th {\n",
       "        vertical-align: top;\n",
       "    }\n",
       "\n",
       "    .dataframe thead th {\n",
       "        text-align: right;\n",
       "    }\n",
       "</style>\n",
       "<table border=\"1\" class=\"dataframe\">\n",
       "  <thead>\n",
       "    <tr style=\"text-align: right;\">\n",
       "      <th>position</th>\n",
       "      <th>Central</th>\n",
       "      <th>East</th>\n",
       "      <th>South</th>\n",
       "      <th>West</th>\n",
       "    </tr>\n",
       "    <tr>\n",
       "      <th>type</th>\n",
       "      <th></th>\n",
       "      <th></th>\n",
       "      <th></th>\n",
       "      <th></th>\n",
       "    </tr>\n",
       "  </thead>\n",
       "  <tbody>\n",
       "    <tr>\n",
       "      <th>Coffee</th>\n",
       "      <td>3139</td>\n",
       "      <td>3320</td>\n",
       "      <td>3432</td>\n",
       "      <td>5967</td>\n",
       "    </tr>\n",
       "    <tr>\n",
       "      <th>Tea</th>\n",
       "      <td>2879</td>\n",
       "      <td>3072</td>\n",
       "      <td>2876</td>\n",
       "      <td>5297</td>\n",
       "    </tr>\n",
       "  </tbody>\n",
       "</table>\n",
       "</div>"
      ],
      "text/plain": [
       "position  Central  East  South  West\n",
       "type                                \n",
       "Coffee       3139  3320   3432  5967\n",
       "Tea          2879  3072   2876  5297"
      ]
     },
     "metadata": {},
     "output_type": "display_data"
    }
   ],
   "source": [
    "# Répartition des types de magasin par position géographique\n",
    "cross_type_pos = pd.crosstab(df_sto_clean[\"type\"], df_sto_clean[\"position\"])\n",
    "plt.figure(figsize=(8,4))\n",
    "sns.heatmap(cross_type_pos, annot=True, fmt=\"d\", cmap=\"crest\")\n",
    "plt.title(\"Répartition des Types de magasin par Position géographique\", fontsize=13)\n",
    "plt.show()\n",
    "\n",
    "display(cross_type_pos)\n"
   ]
  },
  {
   "cell_type": "code",
   "execution_count": 29,
   "id": "0c0b3b4a",
   "metadata": {},
   "outputs": [
    {
     "data": {
      "image/png": "[encoded data removed]",
      "text/plain": [
       "<Figure size 1000x500 with 1 Axes>"
      ]
     },
     "metadata": {},
     "output_type": "display_data"
    },
    {
     "data": {
      "application/vnd.microsoft.datawrangler.viewer.v0+json": {
       "columns": [
        {
         "name": "product",
         "rawType": "object",
         "type": "string"
        },
        {
         "name": "Coffee",
         "rawType": "int64",
         "type": "integer"
        },
        {
         "name": "Tea",
         "rawType": "int64",
         "type": "integer"
        }
       ],
       "ref": "82980a1c-74d3-4cd6-ae69-b3e14119aa17",
       "rows": [
        [
         "Amaretto",
         "2011",
         "0"
        ],
        [
         "Caffe Latte",
         "2011",
         "0"
        ],
        [
         "Caffe Mocha",
         "2309",
         "0"
        ],
        [
         "Chamomile",
         "0",
         "2252"
        ],
        [
         "Columbian",
         "2207",
         "0"
        ],
        [
         "Darjeeling",
         "0",
         "2283"
        ],
        [
         "Decaf Espresso",
         "2154",
         "0"
        ],
        [
         "Decaf Irish Cream",
         "2163",
         "0"
        ],
        [
         "Earl Grey",
         "0",
         "2231"
        ],
        [
         "Green Tea",
         "0",
         "2156"
        ]
       ],
       "shape": {
        "columns": 2,
        "rows": 10
       }
      },
      "text/html": [
       "<div>\n",
       "<style scoped>\n",
       "    .dataframe tbody tr th:only-of-type {\n",
       "        vertical-align: middle;\n",
       "    }\n",
       "\n",
       "    .dataframe tbody tr th {\n",
       "        vertical-align: top;\n",
       "    }\n",
       "\n",
       "    .dataframe thead th {\n",
       "        text-align: right;\n",
       "    }\n",
       "</style>\n",
       "<table border=\"1\" class=\"dataframe\">\n",
       "  <thead>\n",
       "    <tr style=\"text-align: right;\">\n",
       "      <th>type</th>\n",
       "      <th>Coffee</th>\n",
       "      <th>Tea</th>\n",
       "    </tr>\n",
       "    <tr>\n",
       "      <th>product</th>\n",
       "      <th></th>\n",
       "      <th></th>\n",
       "    </tr>\n",
       "  </thead>\n",
       "  <tbody>\n",
       "    <tr>\n",
       "      <th>Amaretto</th>\n",
       "      <td>2011</td>\n",
       "      <td>0</td>\n",
       "    </tr>\n",
       "    <tr>\n",
       "      <th>Caffe Latte</th>\n",
       "      <td>2011</td>\n",
       "      <td>0</td>\n",
       "    </tr>\n",
       "    <tr>\n",
       "      <th>Caffe Mocha</th>\n",
       "      <td>2309</td>\n",
       "      <td>0</td>\n",
       "    </tr>\n",
       "    <tr>\n",
       "      <th>Chamomile</th>\n",
       "      <td>0</td>\n",
       "      <td>2252</td>\n",
       "    </tr>\n",
       "    <tr>\n",
       "      <th>Columbian</th>\n",
       "      <td>2207</td>\n",
       "      <td>0</td>\n",
       "    </tr>\n",
       "    <tr>\n",
       "      <th>Darjeeling</th>\n",
       "      <td>0</td>\n",
       "      <td>2283</td>\n",
       "    </tr>\n",
       "    <tr>\n",
       "      <th>Decaf Espresso</th>\n",
       "      <td>2154</td>\n",
       "      <td>0</td>\n",
       "    </tr>\n",
       "    <tr>\n",
       "      <th>Decaf Irish Cream</th>\n",
       "      <td>2163</td>\n",
       "      <td>0</td>\n",
       "    </tr>\n",
       "    <tr>\n",
       "      <th>Earl Grey</th>\n",
       "      <td>0</td>\n",
       "      <td>2231</td>\n",
       "    </tr>\n",
       "    <tr>\n",
       "      <th>Green Tea</th>\n",
       "      <td>0</td>\n",
       "      <td>2156</td>\n",
       "    </tr>\n",
       "  </tbody>\n",
       "</table>\n",
       "</div>"
      ],
      "text/plain": [
       "type               Coffee   Tea\n",
       "product                        \n",
       "Amaretto             2011     0\n",
       "Caffe Latte          2011     0\n",
       "Caffe Mocha          2309     0\n",
       "Chamomile               0  2252\n",
       "Columbian            2207     0\n",
       "Darjeeling              0  2283\n",
       "Decaf Espresso       2154     0\n",
       "Decaf Irish Cream    2163     0\n",
       "Earl Grey               0  2231\n",
       "Green Tea               0  2156"
      ]
     },
     "metadata": {},
     "output_type": "display_data"
    }
   ],
   "source": [
    "# Produits les plus vendus selon le type de magasin\n",
    "cross_prod_type = pd.crosstab(df_sto_clean[\"product\"], df_sto_clean[\"type\"])\n",
    "cross_prod_type.sort_values(by=\"Coffee\", ascending=False).head(10).plot(\n",
    "    kind=\"bar\", figsize=(10,5), color=[\"#1f77b4\",\"#ff7f0e\"]\n",
    ")\n",
    "plt.title(\"Top 10 des Produits par Type de Magasin\", fontsize=14)\n",
    "plt.ylabel(\"Nombre d'occurrences\")\n",
    "plt.xticks(rotation=45)\n",
    "plt.show()\n",
    "\n",
    "display(cross_prod_type.head(10))\n"
   ]
  },
  {
   "cell_type": "code",
   "execution_count": 30,
   "id": "fbf7af77",
   "metadata": {},
   "outputs": [
    {
     "data": {
      "image/png": "[encoded data removed]",
      "text/plain": [
       "<Figure size 640x480 with 2 Axes>"
      ]
     },
     "metadata": {},
     "output_type": "display_data"
    },
    {
     "data": {
      "application/vnd.microsoft.datawrangler.viewer.v0+json": {
       "columns": [
        {
         "name": "market",
         "rawType": "object",
         "type": "string"
        },
        {
         "name": "Central",
         "rawType": "int64",
         "type": "integer"
        },
        {
         "name": "East",
         "rawType": "int64",
         "type": "integer"
        },
        {
         "name": "South",
         "rawType": "int64",
         "type": "integer"
        },
        {
         "name": "West",
         "rawType": "int64",
         "type": "integer"
        }
       ],
       "ref": "a2419659-0a1c-4e4c-b34e-111f5600df3d",
       "rows": [
        [
         "Large Market",
         "0",
         "1388",
         "1263",
         "2096"
        ],
        [
         "Medium Market",
         "3067",
         "2610",
         "1549",
         "7386"
        ],
        [
         "Small Market",
         "3113",
         "2557",
         "3641",
         "2046"
        ]
       ],
       "shape": {
        "columns": 4,
        "rows": 3
       }
      },
      "text/html": [
       "<div>\n",
       "<style scoped>\n",
       "    .dataframe tbody tr th:only-of-type {\n",
       "        vertical-align: middle;\n",
       "    }\n",
       "\n",
       "    .dataframe tbody tr th {\n",
       "        vertical-align: top;\n",
       "    }\n",
       "\n",
       "    .dataframe thead th {\n",
       "        text-align: right;\n",
       "    }\n",
       "</style>\n",
       "<table border=\"1\" class=\"dataframe\">\n",
       "  <thead>\n",
       "    <tr style=\"text-align: right;\">\n",
       "      <th>position</th>\n",
       "      <th>Central</th>\n",
       "      <th>East</th>\n",
       "      <th>South</th>\n",
       "      <th>West</th>\n",
       "    </tr>\n",
       "    <tr>\n",
       "      <th>market</th>\n",
       "      <th></th>\n",
       "      <th></th>\n",
       "      <th></th>\n",
       "      <th></th>\n",
       "    </tr>\n",
       "  </thead>\n",
       "  <tbody>\n",
       "    <tr>\n",
       "      <th>Large Market</th>\n",
       "      <td>0</td>\n",
       "      <td>1388</td>\n",
       "      <td>1263</td>\n",
       "      <td>2096</td>\n",
       "    </tr>\n",
       "    <tr>\n",
       "      <th>Medium Market</th>\n",
       "      <td>3067</td>\n",
       "      <td>2610</td>\n",
       "      <td>1549</td>\n",
       "      <td>7386</td>\n",
       "    </tr>\n",
       "    <tr>\n",
       "      <th>Small Market</th>\n",
       "      <td>3113</td>\n",
       "      <td>2557</td>\n",
       "      <td>3641</td>\n",
       "      <td>2046</td>\n",
       "    </tr>\n",
       "  </tbody>\n",
       "</table>\n",
       "</div>"
      ],
      "text/plain": [
       "position       Central  East  South  West\n",
       "market                                   \n",
       "Large Market         0  1388   1263  2096\n",
       "Medium Market     3067  2610   1549  7386\n",
       "Small Market      3113  2557   3641  2046"
      ]
     },
     "metadata": {},
     "output_type": "display_data"
    }
   ],
   "source": [
    "# Relation entre taille du marché et position géographique\n",
    "cross_market_pos = pd.crosstab(df_sto_clean[\"market\"], df_sto_clean[\"position\"])\n",
    "sns.heatmap(cross_market_pos, annot=True, fmt=\"d\", cmap=\"coolwarm\")\n",
    "plt.title(\"Relation Market ↔ Position\", fontsize=14)\n",
    "plt.show()\n",
    "\n",
    "display(cross_market_pos)\n"
   ]
  },
  {
   "cell_type": "markdown",
   "id": "110b24c7",
   "metadata": {},
   "source": [
    "### Étape 6 — Analyse bivariée : Corrélations catégorielles\n",
    "\n",
    "- Les États de l’Ouest concentrent la majorité des **Medium Markets**.  \n",
    "- Les **Coffee stores** sont légèrement plus représentés dans les positions **West** et **Central**,  \n",
    "  tandis que les **Tea stores** sont un peu plus équilibrés entre les régions.  \n",
    "- Certains produits (ex. *Caffe Mocha*, *Darjeeling*, *Earl Grey*) dominent clairement par type.  \n",
    "- Les grands marchés (**Large Market**) sont davantage concentrés à l’Ouest et au Sud.  \n",
    "\n",
    "**Conclusion :**\n",
    "→ Les dimensions *géographiques* et *marché* influencent directement la répartition des magasins et produits.  \n",
    "Ces relations seront utiles pour relier les KPI de performance (ventes, marges, etc.) dans Power BI.\n"
   ]
  },
  {
   "cell_type": "code",
   "execution_count": 31,
   "id": "4a59c806",
   "metadata": {},
   "outputs": [
    {
     "name": "stdout",
     "output_type": "stream",
     "text": [
      "✅ Fichier exporté : ../data/df_mm_stores_clean.csv\n",
      "Taille : (33855, 9)\n"
     ]
    }
   ],
   "source": [
    "# 💾 Export du fichier store nettoyé\n",
    "import os\n",
    "\n",
    "os.makedirs(\"../data\", exist_ok=True)\n",
    "\n",
    "output_path_sto = \"../data/df_mm_stores_clean.csv\"\n",
    "df_sto_clean.to_csv(output_path_sto, index=False, encoding=\"utf-8-sig\")\n",
    "\n",
    "print(f\"✅ Fichier exporté : {output_path_sto}\")\n",
    "print(f\"Taille : {df_sto_clean.shape}\")\n",
    "\n"
   ]
  }
 ],
 "metadata": {
  "kernelspec": {
   "display_name": "base",
   "language": "python",
   "name": "python3"
  },
  "language_info": {
   "codemirror_mode": {
    "name": "ipython",
    "version": 3
   },
   "file_extension": ".py",
   "mimetype": "text/x-python",
   "name": "python",
   "nbconvert_exporter": "python",
   "pygments_lexer": "ipython3",
   "version": "3.12.7"
  }
 },
 "nbformat": 4,
 "nbformat_minor": 5
}
