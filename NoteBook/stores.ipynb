{
 "cells": [
  {
   "cell_type": "markdown",
   "id": "47eceb5c",
   "metadata": {},
   "source": [
    "## 1️⃣ Import des librairies"
   ]
  },
  {
   "cell_type": "markdown",
   "id": "783bfd65",
   "metadata": {},
   "source": [
    "## 2️⃣ Chargement du dataset"
   ]
  },
  {
   "cell_type": "markdown",
   "id": "a5eb4273",
   "metadata": {},
   "source": [
    "## 3️⃣ Analyse structurelle"
   ]
  },
  {
   "cell_type": "markdown",
   "id": "49f00de4",
   "metadata": {},
   "source": [
    "## 4️⃣ Nettoyage des colonnes"
   ]
  },
  {
   "cell_type": "markdown",
   "id": "7c51197d",
   "metadata": {},
   "source": [
    "## 5️⃣ Analyse univariée"
   ]
  },
  {
   "cell_type": "markdown",
   "id": "deb66bc3",
   "metadata": {},
   "source": [
    "## 6️⃣ Corrélations"
   ]
  },
  {
   "cell_type": "markdown",
   "id": "bb8490c1",
   "metadata": {},
   "source": [
    "## 7️⃣ Création des KPI de base"
   ]
  },
  {
   "cell_type": "markdown",
   "id": "ed7a975d",
   "metadata": {},
   "source": [
    "## 8️⃣ Sauvegarde du dataset propre"
   ]
  },
  {
   "cell_type": "markdown",
   "id": "f6cb254c",
   "metadata": {},
   "source": [
    "## 9️⃣ Notes et Insights"
   ]
  }
 ],
 "metadata": {
  "language_info": {
   "name": "python"
  }
 },
 "nbformat": 4,
 "nbformat_minor": 5
}
