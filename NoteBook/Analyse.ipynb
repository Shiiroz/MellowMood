{
 "cells": [
  {
   "cell_type": "markdown",
   "id": "5061aa75",
   "metadata": {},
   "source": [
    "# ==================================================\n",
    "# 🧠 Projet MellowMood – Analyse Financière\n",
    "# Objectif : EDA du dataset financier\n",
    "# ================================================== \n"
   ]
  },
  {
   "cell_type": "markdown",
   "id": "1670f4f5",
   "metadata": {},
   "source": [
    "# 1️⃣ Import des librairies"
   ]
  },
  {
   "cell_type": "code",
   "execution_count": 2,
   "id": "2ab5b1ea",
   "metadata": {},
   "outputs": [],
   "source": [
    "import pandas as pd\n",
    "import numpy as np\n",
    "import matplotlib.pyplot as plt\n",
    "import seaborn as sns"
   ]
  },
  {
   "cell_type": "markdown",
   "id": "7db94710",
   "metadata": {},
   "source": [
    "# 2️⃣ Chargement du dataset\n"
   ]
  },
  {
   "cell_type": "code",
   "execution_count": 6,
   "id": "13042878",
   "metadata": {},
   "outputs": [],
   "source": [
    "df_fin = pd.read_csv(\"./../data/df_mm_financial_details.csv\")\n",
    "df_sto = pd.read_csv(\"./../data/df_mm_stores_details.csv\")\n"
   ]
  },
  {
   "cell_type": "code",
   "execution_count": 7,
   "id": "ff75c446",
   "metadata": {},
   "outputs": [
    {
     "name": "stdout",
     "output_type": "stream",
     "text": [
      "   Unit Price  Unit Cost  Sold Quantity   Sales     COGS  Marketing  \\\n",
      "0         4.5       2.69          666.0  2997.0  1791.54     226.44   \n",
      "1         4.5       2.69         1161.0  5224.5  3123.09     394.74   \n",
      "2         4.5       2.69          409.0  1840.5  1100.21     139.06   \n",
      "3         4.5       2.69         1071.0  4819.5  2880.99     364.14   \n",
      "4         4.5       2.69          735.0  3307.5  1977.15     249.90   \n",
      "\n",
      "   Total Expenses  Pre-Sales Inventory   Profit  Margin  Expected Sales  \\\n",
      "0         2017.98                948.0   979.02     NaN         4545.65   \n",
      "1         3517.83               2012.0  1706.67   24.00         7235.12   \n",
      "2         1239.27                581.0   601.23   25.56         2063.32   \n",
      "3             NaN               1629.0  1574.37   25.06         6674.26   \n",
      "4         2227.05               1217.0  1080.45   24.39         5016.60   \n",
      "\n",
      "   Expected COGS  Expected Profit  Expected Margin ReportId  \n",
      "0        2346.51          2199.14            48.38  JB578CJ  \n",
      "1        3904.60          3330.52            46.03  UZ650HV  \n",
      "2        1179.02           884.30            42.86  VB278N7  \n",
      "3        3430.39              NaN            48.60  TL8282Y  \n",
      "4        2589.61          2426.99            48.38  FB512II  \n"
     ]
    }
   ],
   "source": [
    "print(df_fin.head())"
   ]
  },
  {
   "cell_type": "code",
   "execution_count": 8,
   "id": "bcf7229e",
   "metadata": {},
   "outputs": [
    {
     "name": "stdout",
     "output_type": "stream",
     "text": [
      "      Quarter                            StoreId       State Position  \\\n",
      "0         NaN     Los Angeles - Sunset Boulevard  California     West   \n",
      "1  2023-04-01     Los Angeles - Sunset Boulevard  California     West   \n",
      "2  2023-07-01     Los Angeles - Sunset Boulevard  California     West   \n",
      "3  2023-10-01     Los Angeles - Sunset Boulevard  California     West   \n",
      "4  2023-01-01  Los Angeles - Hollywood Boulevard  California     West   \n",
      "\n",
      "         Market ProdId   Product    Type ReportId  \n",
      "0  Large Market   1_Co  Amaretto  Coffee  JB578CJ  \n",
      "1  Large Market    NaN  Amaretto  Coffee  UZ650HV  \n",
      "2  Large Market   1_Co  Amaretto  Coffee  VB278N7  \n",
      "3  Large Market   1_Co  Amaretto  Coffee  TL8282Y  \n",
      "4  Large Market   1_Co  Amaretto  Coffee  FB512II  \n"
     ]
    }
   ],
   "source": [
    "print(df_sto.head())"
   ]
  },
  {
   "cell_type": "code",
   "execution_count": null,
   "id": "8c41b8aa",
   "metadata": {},
   "outputs": [],
   "source": []
  },
  {
   "cell_type": "code",
   "execution_count": null,
   "id": "ecbb225d",
   "metadata": {},
   "outputs": [],
   "source": []
  }
 ],
 "metadata": {
  "kernelspec": {
   "display_name": "base",
   "language": "python",
   "name": "python3"
  },
  "language_info": {
   "codemirror_mode": {
    "name": "ipython",
    "version": 3
   },
   "file_extension": ".py",
   "mimetype": "text/x-python",
   "name": "python",
   "nbconvert_exporter": "python",
   "pygments_lexer": "ipython3",
   "version": "3.12.7"
  }
 },
 "nbformat": 4,
 "nbformat_minor": 5
}
