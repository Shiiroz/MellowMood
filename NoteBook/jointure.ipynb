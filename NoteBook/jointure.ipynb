{
 "cells": [
  {
   "cell_type": "markdown",
   "id": "cc6fd5a5",
   "metadata": {},
   "source": [
    "## 1️⃣ Import des datasets"
   ]
  },
  {
   "cell_type": "code",
   "execution_count": 1,
   "id": "af65b788",
   "metadata": {},
   "outputs": [],
   "source": [
    "import pandas as pd\n",
    "from pathlib import Path"
   ]
  },
  {
   "cell_type": "code",
   "execution_count": 2,
   "id": "77255767",
   "metadata": {},
   "outputs": [],
   "source": [
    "# 📂 Chargement des fichiers nettoyés\n",
    "df_fin = pd.read_csv(\"../data/df_mm_financial_clean.csv\")\n",
    "df_sto = pd.read_csv(\"../data/df_mm_stores_clean.csv\")"
   ]
  },
  {
   "cell_type": "code",
   "execution_count": null,
   "id": "e0bb74af",
   "metadata": {},
   "outputs": [
    {
     "name": "stdout",
     "output_type": "stream",
     "text": [
      "✅ Fichiers chargés :\n",
      "Finance : (33856, 15)\n",
      "Stores  : (33855, 9)\n"
     ]
    }
   ],
   "source": [
    "print(\"✅ Fichiers chargés :\")\n",
    "print(f\"Finance : {df_fin.shape}\")\n",
    "print(f\"Stores  : {df_sto.shape}\")\n"
   ]
  },
  {
   "cell_type": "code",
   "execution_count": 4,
   "id": "d2e0390c",
   "metadata": {},
   "outputs": [
    {
     "name": "stdout",
     "output_type": "stream",
     "text": [
      "\n",
      "Clés communes potentielles :\n",
      "{'reportid'}\n"
     ]
    }
   ],
   "source": [
    "# 🔍 Vérifions la clé commune\n",
    "print(\"\\nClés communes potentielles :\")\n",
    "print(set(df_fin.columns) & set(df_sto.columns))"
   ]
  },
  {
   "cell_type": "code",
   "execution_count": 5,
   "id": "bde2f677",
   "metadata": {},
   "outputs": [],
   "source": [
    "# 💡 Clé de jointure -> 'reportid'\n",
    "key = \"reportid\"\n",
    "if key not in df_fin.columns or key not in df_sto.columns:\n",
    "    raise KeyError(f\"La clé '{key}' n'existe pas dans les deux fichiers !\")"
   ]
  },
  {
   "cell_type": "code",
   "execution_count": 6,
   "id": "df15a59b",
   "metadata": {},
   "outputs": [
    {
     "name": "stdout",
     "output_type": "stream",
     "text": [
      "\n",
      "Doublons sur la clé :\n",
      "Finance : 1\n",
      "Stores  : 0\n"
     ]
    }
   ],
   "source": [
    "# 🔑 Vérification de doublons sur la clé\n",
    "print(\"\\nDoublons sur la clé :\")\n",
    "print(f\"Finance : {df_fin[key].duplicated().sum()}\")\n",
    "print(f\"Stores  : {df_sto[key].duplicated().sum()}\")"
   ]
  },
  {
   "cell_type": "code",
   "execution_count": 8,
   "id": "84bd508c",
   "metadata": {},
   "outputs": [
    {
     "name": "stdout",
     "output_type": "stream",
     "text": [
      "\n",
      "✅ Fusion réussie !\n",
      "Dimensions finales : (33856, 23)\n"
     ]
    },
    {
     "data": {
      "application/vnd.microsoft.datawrangler.viewer.v0+json": {
       "columns": [
        {
         "name": "index",
         "rawType": "int64",
         "type": "integer"
        },
        {
         "name": "unit_price",
         "rawType": "float64",
         "type": "float"
        },
        {
         "name": "unit_cost",
         "rawType": "float64",
         "type": "float"
        },
        {
         "name": "sold_quantity",
         "rawType": "float64",
         "type": "float"
        },
        {
         "name": "sales",
         "rawType": "float64",
         "type": "float"
        },
        {
         "name": "cogs",
         "rawType": "float64",
         "type": "float"
        },
        {
         "name": "marketing",
         "rawType": "float64",
         "type": "float"
        },
        {
         "name": "total_expenses",
         "rawType": "float64",
         "type": "float"
        },
        {
         "name": "pre-sales_inventory",
         "rawType": "float64",
         "type": "float"
        },
        {
         "name": "profit",
         "rawType": "float64",
         "type": "float"
        },
        {
         "name": "margin",
         "rawType": "float64",
         "type": "float"
        },
        {
         "name": "expected_sales",
         "rawType": "float64",
         "type": "float"
        },
        {
         "name": "expected_cogs",
         "rawType": "float64",
         "type": "float"
        },
        {
         "name": "expected_profit",
         "rawType": "float64",
         "type": "float"
        },
        {
         "name": "expected_margin",
         "rawType": "float64",
         "type": "float"
        },
        {
         "name": "reportid",
         "rawType": "object",
         "type": "string"
        },
        {
         "name": "quarter",
         "rawType": "object",
         "type": "unknown"
        },
        {
         "name": "storeid",
         "rawType": "object",
         "type": "string"
        },
        {
         "name": "state",
         "rawType": "object",
         "type": "string"
        },
        {
         "name": "position",
         "rawType": "object",
         "type": "string"
        },
        {
         "name": "market",
         "rawType": "object",
         "type": "string"
        },
        {
         "name": "prodid",
         "rawType": "object",
         "type": "unknown"
        },
        {
         "name": "product",
         "rawType": "object",
         "type": "string"
        },
        {
         "name": "type",
         "rawType": "object",
         "type": "string"
        }
       ],
       "ref": "9704173f-54fc-4c48-bc82-e94e84a4f8aa",
       "rows": [
        [
         "0",
         "4.5",
         "2.69",
         "666.0",
         "2997.0",
         "1791.54",
         "226.44",
         "2017.98",
         "948.0",
         "979.02",
         null,
         "4545.65",
         "2346.51",
         "2199.14",
         "48.38",
         "JB578CJ",
         null,
         "Los Angeles - Sunset Boulevard",
         "California",
         "West",
         "Large Market",
         "1_Co",
         "Amaretto",
         "Coffee"
        ],
        [
         "1",
         "4.5",
         "2.69",
         "1161.0",
         "5224.5",
         "3123.09",
         "394.74",
         "3517.83",
         "2012.0",
         "1706.67",
         "24.0",
         "7235.12",
         "3904.6",
         "3330.52",
         "46.03",
         "UZ650HV",
         "2023-04-01",
         "Los Angeles - Sunset Boulevard",
         "California",
         "West",
         "Large Market",
         null,
         "Amaretto",
         "Coffee"
        ],
        [
         "2",
         "4.5",
         "2.69",
         "409.0",
         "1840.5",
         "1100.21",
         "139.06",
         "1239.27",
         "581.0",
         "601.23",
         "25.56",
         "2063.32",
         "1179.02",
         "884.3",
         "42.86",
         "VB278N7",
         "2023-07-01",
         "Los Angeles - Sunset Boulevard",
         "California",
         "West",
         "Large Market",
         "1_Co",
         "Amaretto",
         "Coffee"
        ],
        [
         "3",
         "4.5",
         "2.69",
         "1071.0",
         "4819.5",
         "2880.99",
         "364.14",
         null,
         "1629.0",
         "1574.3700000000003",
         "25.06",
         "6674.26",
         "3430.39",
         null,
         "48.6",
         "TL8282Y",
         "2023-10-01",
         "Los Angeles - Sunset Boulevard",
         "California",
         "West",
         "Large Market",
         "1_Co",
         "Amaretto",
         "Coffee"
        ],
        [
         "4",
         "4.5",
         "2.69",
         "735.0",
         "3307.5",
         "1977.15",
         "249.9",
         "2227.05",
         "1217.0",
         "1080.4500000000005",
         "24.39",
         "5016.6",
         "2589.61",
         "2426.99",
         "48.38",
         "FB512II",
         "2023-01-01",
         "Los Angeles - Hollywood Boulevard",
         "California",
         "West",
         "Large Market",
         "1_Co",
         "Amaretto",
         "Coffee"
        ]
       ],
       "shape": {
        "columns": 23,
        "rows": 5
       }
      },
      "text/html": [
       "<div>\n",
       "<style scoped>\n",
       "    .dataframe tbody tr th:only-of-type {\n",
       "        vertical-align: middle;\n",
       "    }\n",
       "\n",
       "    .dataframe tbody tr th {\n",
       "        vertical-align: top;\n",
       "    }\n",
       "\n",
       "    .dataframe thead th {\n",
       "        text-align: right;\n",
       "    }\n",
       "</style>\n",
       "<table border=\"1\" class=\"dataframe\">\n",
       "  <thead>\n",
       "    <tr style=\"text-align: right;\">\n",
       "      <th></th>\n",
       "      <th>unit_price</th>\n",
       "      <th>unit_cost</th>\n",
       "      <th>sold_quantity</th>\n",
       "      <th>sales</th>\n",
       "      <th>cogs</th>\n",
       "      <th>marketing</th>\n",
       "      <th>total_expenses</th>\n",
       "      <th>pre-sales_inventory</th>\n",
       "      <th>profit</th>\n",
       "      <th>margin</th>\n",
       "      <th>...</th>\n",
       "      <th>expected_margin</th>\n",
       "      <th>reportid</th>\n",
       "      <th>quarter</th>\n",
       "      <th>storeid</th>\n",
       "      <th>state</th>\n",
       "      <th>position</th>\n",
       "      <th>market</th>\n",
       "      <th>prodid</th>\n",
       "      <th>product</th>\n",
       "      <th>type</th>\n",
       "    </tr>\n",
       "  </thead>\n",
       "  <tbody>\n",
       "    <tr>\n",
       "      <th>0</th>\n",
       "      <td>4.5</td>\n",
       "      <td>2.69</td>\n",
       "      <td>666.0</td>\n",
       "      <td>2997.0</td>\n",
       "      <td>1791.54</td>\n",
       "      <td>226.44</td>\n",
       "      <td>2017.98</td>\n",
       "      <td>948.0</td>\n",
       "      <td>979.02</td>\n",
       "      <td>NaN</td>\n",
       "      <td>...</td>\n",
       "      <td>48.38</td>\n",
       "      <td>JB578CJ</td>\n",
       "      <td>NaN</td>\n",
       "      <td>Los Angeles - Sunset Boulevard</td>\n",
       "      <td>California</td>\n",
       "      <td>West</td>\n",
       "      <td>Large Market</td>\n",
       "      <td>1_Co</td>\n",
       "      <td>Amaretto</td>\n",
       "      <td>Coffee</td>\n",
       "    </tr>\n",
       "    <tr>\n",
       "      <th>1</th>\n",
       "      <td>4.5</td>\n",
       "      <td>2.69</td>\n",
       "      <td>1161.0</td>\n",
       "      <td>5224.5</td>\n",
       "      <td>3123.09</td>\n",
       "      <td>394.74</td>\n",
       "      <td>3517.83</td>\n",
       "      <td>2012.0</td>\n",
       "      <td>1706.67</td>\n",
       "      <td>24.00</td>\n",
       "      <td>...</td>\n",
       "      <td>46.03</td>\n",
       "      <td>UZ650HV</td>\n",
       "      <td>2023-04-01</td>\n",
       "      <td>Los Angeles - Sunset Boulevard</td>\n",
       "      <td>California</td>\n",
       "      <td>West</td>\n",
       "      <td>Large Market</td>\n",
       "      <td>NaN</td>\n",
       "      <td>Amaretto</td>\n",
       "      <td>Coffee</td>\n",
       "    </tr>\n",
       "    <tr>\n",
       "      <th>2</th>\n",
       "      <td>4.5</td>\n",
       "      <td>2.69</td>\n",
       "      <td>409.0</td>\n",
       "      <td>1840.5</td>\n",
       "      <td>1100.21</td>\n",
       "      <td>139.06</td>\n",
       "      <td>1239.27</td>\n",
       "      <td>581.0</td>\n",
       "      <td>601.23</td>\n",
       "      <td>25.56</td>\n",
       "      <td>...</td>\n",
       "      <td>42.86</td>\n",
       "      <td>VB278N7</td>\n",
       "      <td>2023-07-01</td>\n",
       "      <td>Los Angeles - Sunset Boulevard</td>\n",
       "      <td>California</td>\n",
       "      <td>West</td>\n",
       "      <td>Large Market</td>\n",
       "      <td>1_Co</td>\n",
       "      <td>Amaretto</td>\n",
       "      <td>Coffee</td>\n",
       "    </tr>\n",
       "    <tr>\n",
       "      <th>3</th>\n",
       "      <td>4.5</td>\n",
       "      <td>2.69</td>\n",
       "      <td>1071.0</td>\n",
       "      <td>4819.5</td>\n",
       "      <td>2880.99</td>\n",
       "      <td>364.14</td>\n",
       "      <td>NaN</td>\n",
       "      <td>1629.0</td>\n",
       "      <td>1574.37</td>\n",
       "      <td>25.06</td>\n",
       "      <td>...</td>\n",
       "      <td>48.60</td>\n",
       "      <td>TL8282Y</td>\n",
       "      <td>2023-10-01</td>\n",
       "      <td>Los Angeles - Sunset Boulevard</td>\n",
       "      <td>California</td>\n",
       "      <td>West</td>\n",
       "      <td>Large Market</td>\n",
       "      <td>1_Co</td>\n",
       "      <td>Amaretto</td>\n",
       "      <td>Coffee</td>\n",
       "    </tr>\n",
       "    <tr>\n",
       "      <th>4</th>\n",
       "      <td>4.5</td>\n",
       "      <td>2.69</td>\n",
       "      <td>735.0</td>\n",
       "      <td>3307.5</td>\n",
       "      <td>1977.15</td>\n",
       "      <td>249.90</td>\n",
       "      <td>2227.05</td>\n",
       "      <td>1217.0</td>\n",
       "      <td>1080.45</td>\n",
       "      <td>24.39</td>\n",
       "      <td>...</td>\n",
       "      <td>48.38</td>\n",
       "      <td>FB512II</td>\n",
       "      <td>2023-01-01</td>\n",
       "      <td>Los Angeles - Hollywood Boulevard</td>\n",
       "      <td>California</td>\n",
       "      <td>West</td>\n",
       "      <td>Large Market</td>\n",
       "      <td>1_Co</td>\n",
       "      <td>Amaretto</td>\n",
       "      <td>Coffee</td>\n",
       "    </tr>\n",
       "  </tbody>\n",
       "</table>\n",
       "<p>5 rows × 23 columns</p>\n",
       "</div>"
      ],
      "text/plain": [
       "   unit_price  unit_cost  sold_quantity   sales     cogs  marketing  \\\n",
       "0         4.5       2.69          666.0  2997.0  1791.54     226.44   \n",
       "1         4.5       2.69         1161.0  5224.5  3123.09     394.74   \n",
       "2         4.5       2.69          409.0  1840.5  1100.21     139.06   \n",
       "3         4.5       2.69         1071.0  4819.5  2880.99     364.14   \n",
       "4         4.5       2.69          735.0  3307.5  1977.15     249.90   \n",
       "\n",
       "   total_expenses  pre-sales_inventory   profit  margin  ...  expected_margin  \\\n",
       "0         2017.98                948.0   979.02     NaN  ...            48.38   \n",
       "1         3517.83               2012.0  1706.67   24.00  ...            46.03   \n",
       "2         1239.27                581.0   601.23   25.56  ...            42.86   \n",
       "3             NaN               1629.0  1574.37   25.06  ...            48.60   \n",
       "4         2227.05               1217.0  1080.45   24.39  ...            48.38   \n",
       "\n",
       "   reportid     quarter                            storeid       state  \\\n",
       "0   JB578CJ         NaN     Los Angeles - Sunset Boulevard  California   \n",
       "1   UZ650HV  2023-04-01     Los Angeles - Sunset Boulevard  California   \n",
       "2   VB278N7  2023-07-01     Los Angeles - Sunset Boulevard  California   \n",
       "3   TL8282Y  2023-10-01     Los Angeles - Sunset Boulevard  California   \n",
       "4   FB512II  2023-01-01  Los Angeles - Hollywood Boulevard  California   \n",
       "\n",
       "  position        market prodid   product    type  \n",
       "0     West  Large Market   1_Co  Amaretto  Coffee  \n",
       "1     West  Large Market    NaN  Amaretto  Coffee  \n",
       "2     West  Large Market   1_Co  Amaretto  Coffee  \n",
       "3     West  Large Market   1_Co  Amaretto  Coffee  \n",
       "4     West  Large Market   1_Co  Amaretto  Coffee  \n",
       "\n",
       "[5 rows x 23 columns]"
      ]
     },
     "metadata": {},
     "output_type": "display_data"
    }
   ],
   "source": [
    "# 🔗 Fusion (INNER JOIN)\n",
    "df_join = pd.merge(\n",
    "    df_fin,\n",
    "    df_sto,\n",
    "    on=key,\n",
    "    how=\"inner\",\n",
    "    suffixes=(\"_fin\", \"_sto\")\n",
    ")\n",
    "\n",
    "print(\"\\n✅ Fusion réussie !\")\n",
    "print(f\"Dimensions finales : {df_join.shape}\")\n",
    "\n",
    "display(df_join.head(5))"
   ]
  }
 ],
 "metadata": {
  "kernelspec": {
   "display_name": "base",
   "language": "python",
   "name": "python3"
  },
  "language_info": {
   "codemirror_mode": {
    "name": "ipython",
    "version": 3
   },
   "file_extension": ".py",
   "mimetype": "text/x-python",
   "name": "python",
   "nbconvert_exporter": "python",
   "pygments_lexer": "ipython3",
   "version": "3.12.7"
  }
 },
 "nbformat": 4,
 "nbformat_minor": 5
}
